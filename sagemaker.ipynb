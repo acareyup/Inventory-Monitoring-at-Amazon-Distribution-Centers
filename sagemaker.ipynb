{
 "cells": [
  {
   "cell_type": "markdown",
   "metadata": {},
   "source": [
    "# Inventory Monitoring Project\n",
    "Distribution centers often use robots to move objects as a part of their operations. Objects are carried in bins which can contain multiple objects. In this project, we will have to build a model that can count the number of objects in each bin. A system like this can be used to track inventory and make sure that delivery consignments have the correct number of items.\n",
    "\n",
    "The Amazon Bin Image Dataset contains over 500,000 images and metadata from bins of a pod in an operating Amazon Fulfillment Center. The bin images in this dataset are captured as robot units carry pods as part of normal Amazon Fulfillment Center operations.\n",
    "\n",
    "Images are located in the bin-images directory, and metadata for each image is located in the metadata directory. Images and their associated metadata share simple numerical unique identifiers. For example, the metadata for the image at https://aft-vbi-pds.s3.amazonaws.com/bin-images/523.jpg is found at https://aft-vbi-pds.s3.amazonaws.com/metadata/523.json."
   ]
  },
  {
   "cell_type": "code",
   "execution_count": 3,
   "metadata": {
    "scrolled": true
   },
   "outputs": [],
   "source": [
    "%%capture\n",
    "!pip install smdebug torch torchvision tqdm --no-cache-dir"
   ]
  },
  {
   "cell_type": "code",
   "execution_count": 4,
   "metadata": {},
   "outputs": [
    {
     "name": "stdout",
     "output_type": "stream",
     "text": [
      "[2023-04-19 03:13:07.772 datascience-1-0-ml-t3-medium-1abf3407f667f989be9d86559395:17 INFO utils.py:27] RULE_JOB_STOP_SIGNAL_FILENAME: None\n"
     ]
    }
   ],
   "source": [
    "import sagemaker\n",
    "import boto3\n",
    "import os\n",
    "import json\n",
    "from tqdm import tqdm\n",
    "import pandas as pd\n",
    "import matplotlib.pyplot as plt\n",
    "import matplotlib.image as mpimg\n",
    "import random\n",
    "import shutil\n",
    "from sagemaker.tuner import CategoricalParameter, ContinuousParameter, HyperparameterTuner\n",
    "from sagemaker.pytorch import PyTorch\n",
    "from sagemaker import get_execution_role\n",
    "from sagemaker.debugger import Rule, DebuggerHookConfig, TensorBoardOutputConfig, CollectionConfig, ProfilerRule, rule_configs,ProfilerConfig, FrameworkProfile\n",
    "from sagemaker.analytics import HyperparameterTuningJobAnalytics\n",
    "import time\n",
    "from PIL import Image\n",
    "import io\n",
    "from IPython import display\n",
    "import matplotlib.pyplot as plt\n",
    "from mpl_toolkits.axes_grid1 import host_subplot\n",
    "from smdebug.trials import create_trial\n",
    "from sagemaker.pytorch import PyTorchModel\n",
    "from smdebug.core.modes import ModeKeys\n",
    "from sagemaker.predictor import Predictor"
   ]
  },
  {
   "cell_type": "markdown",
   "metadata": {},
   "source": [
    "## Data Preparation\n",
    "\n",
    "The cell below creates a folder called `train_data`, downloads training data and arranges it in subfolders. Each of these subfolders contain images where the number of objects is equal to the name of the folder. For instance, all images in folder `1` has images with 1 object in them."
   ]
  },
  {
   "cell_type": "code",
   "execution_count": 5,
   "metadata": {},
   "outputs": [
    {
     "name": "stderr",
     "output_type": "stream",
     "text": [
      "  0%|          | 1/1228 [00:00<02:44,  7.47it/s]"
     ]
    },
    {
     "name": "stdout",
     "output_type": "stream",
     "text": [
      "Downloading Images with 1 objects\n"
     ]
    },
    {
     "name": "stderr",
     "output_type": "stream",
     "text": [
      "100%|██████████| 1228/1228 [02:06<00:00,  9.69it/s]\n",
      "  0%|          | 1/2299 [00:00<05:03,  7.56it/s]"
     ]
    },
    {
     "name": "stdout",
     "output_type": "stream",
     "text": [
      "Downloading Images with 2 objects\n"
     ]
    },
    {
     "name": "stderr",
     "output_type": "stream",
     "text": [
      "100%|██████████| 2299/2299 [03:59<00:00,  9.59it/s]\n",
      "  0%|          | 2/2666 [00:00<03:02, 14.60it/s]"
     ]
    },
    {
     "name": "stdout",
     "output_type": "stream",
     "text": [
      "Downloading Images with 3 objects\n"
     ]
    },
    {
     "name": "stderr",
     "output_type": "stream",
     "text": [
      "100%|██████████| 2666/2666 [04:45<00:00,  9.33it/s]\n",
      "  0%|          | 1/2373 [00:00<04:13,  9.36it/s]"
     ]
    },
    {
     "name": "stdout",
     "output_type": "stream",
     "text": [
      "Downloading Images with 4 objects\n"
     ]
    },
    {
     "name": "stderr",
     "output_type": "stream",
     "text": [
      "100%|██████████| 2373/2373 [04:06<00:00,  9.62it/s]\n",
      "  0%|          | 2/1875 [00:00<02:22, 13.13it/s]"
     ]
    },
    {
     "name": "stdout",
     "output_type": "stream",
     "text": [
      "Downloading Images with 5 objects\n"
     ]
    },
    {
     "name": "stderr",
     "output_type": "stream",
     "text": [
      "100%|██████████| 1875/1875 [03:12<00:00,  9.72it/s]\n"
     ]
    }
   ],
   "source": [
    "import os\n",
    "import json\n",
    "import boto3\n",
    "\n",
    "def download_and_arrange_data():\n",
    "    s3_client = boto3.client('s3')\n",
    "\n",
    "    with open('file_list.json', 'r') as f:\n",
    "        d=json.load(f)\n",
    "\n",
    "    for k, v in d.items():\n",
    "        print(f\"Downloading Images with {k} objects\")\n",
    "        directory=os.path.join('train_data', k)\n",
    "        if not os.path.exists(directory):\n",
    "            os.makedirs(directory)\n",
    "        for file_path in tqdm(v):\n",
    "            file_name=os.path.basename(file_path).split('.')[0]+'.jpg'\n",
    "            s3_client.download_file('aft-vbi-pds', os.path.join('bin-images', file_name),\n",
    "                             os.path.join(directory, file_name))\n",
    "\n",
    "download_and_arrange_data()"
   ]
  },
  {
   "cell_type": "markdown",
   "metadata": {},
   "source": [
    "## Dataset\n",
    "**TODO:** Explain what dataset you are using for this project. Give a small overview of the classes, class distributions etc that can help anyone not familiar with the dataset get a better understanding of it. You can find more information about the data [here](https://registry.opendata.aws/amazon-bin-imagery/)."
   ]
  },
  {
   "cell_type": "code",
   "execution_count": 8,
   "metadata": {},
   "outputs": [
    {
     "name": "stdout",
     "output_type": "stream",
     "text": [
      "There are 1228 images with 1 items.\n",
      "There are 2299 images with 2 items.\n",
      "There are 2666 images with 3 items.\n",
      "There are 2373 images with 4 items.\n",
      "There are 1875 images with 5 items.\n"
     ]
    }
   ],
   "source": [
    "# Print statistics about the dataset\n",
    "import os\n",
    "train_path = \"./train_data\"\n",
    "main_dirs = os.listdir(train_path)\n",
    "main_dirs.sort()\n",
    "num_items = {}\n",
    "file_lists = {}\n",
    "for directory in main_dirs:\n",
    "    file_lists[directory] = [s for s in os.listdir(os.path.join(train_path, directory)) if \"jpg\" in s]\n",
    "    file_lists[directory].sort()\n",
    "    num_items[directory] = len(file_lists[directory])\n",
    "    print(f'There are {num_items[directory]} images with {directory} items.')"
   ]
  },
  {
   "cell_type": "markdown",
   "metadata": {
    "tags": []
   },
   "source": [
    "## Resize Images\n",
    "ResNet50 is a convolutional neural network architecture that takes input images of a fixed size, usually 224x224 or 256x256 pixels. Images in dataset are about 600px x 600px. so we need to resize them to get consistent result."
   ]
  },
  {
   "cell_type": "code",
   "execution_count": 9,
   "metadata": {
    "tags": []
   },
   "outputs": [],
   "source": [
    "from PIL import Image\n",
    "import os\n",
    "\n",
    "dir_path = \"./train_data\"\n",
    "resized_img_dir = \"./train_data_resize/\"\n",
    "\n",
    "os.makedirs(resized_img_dir, exist_ok=True)\n",
    "\n",
    "for i in ['1', '2', '3', '4', '5']:\n",
    "    os.makedirs(os.path.join(resized_img_dir, i), exist_ok=True)\n",
    "    for filename in os.listdir(os.path.join(dir_path, i)):\n",
    "        if os.path.isfile(os.path.join(dir_path, i, filename)):\n",
    "            Image.open(os.path.join(dir_path, i, filename)).convert('RGB').resize((224,224),Image.BILINEAR).save(os.path.join(resized_img_dir,i,filename))"
   ]
  },
  {
   "cell_type": "markdown",
   "metadata": {},
   "source": [
    "## Data Distribution Plot"
   ]
  },
  {
   "cell_type": "code",
   "execution_count": 10,
   "metadata": {
    "tags": []
   },
   "outputs": [
    {
     "data": {
      "image/png": "[encoded data removed]",
      "text/plain": [
       "<Figure size 1500x1000 with 1 Axes>"
      ]
     },
     "metadata": {},
     "output_type": "display_data"
    }
   ],
   "source": [
    "import numpy as np\n",
    "import matplotlib.pyplot as plt\n",
    "\n",
    "\n",
    "# creating the dataset\n",
    "data = {'1':1228, '2':2299, '3':2666,'4':2373, '5':1875}\n",
    "count = list(data.keys())\n",
    "samples = list(data.values())\n",
    "\n",
    "fig = plt.figure(figsize = (15, 10))\n",
    "\n",
    "# creating the bar plot\n",
    "plt.bar(count, samples, width = 0.4)\n",
    "\n",
    "plt.xlabel(\"Label\")\n",
    "plt.ylabel(\"Samples\")\n",
    "plt.title(\"Data Distribution\")\n",
    "plt.show()"
   ]
  },
  {
   "cell_type": "markdown",
   "metadata": {},
   "source": [
    "## Data Split\n",
    "We will divide dataset into train, test and validation subsets. Each subset will as follows: Train: 60%, Test: 20%, Validation: 20%"
   ]
  },
  {
   "cell_type": "code",
   "execution_count": 11,
   "metadata": {
    "tags": []
   },
   "outputs": [],
   "source": [
    "import os\n",
    "import random\n",
    "import shutil\n",
    "from math import floor\n",
    "\n",
    "def split_data():\n",
    "    dir_path = r'./train_data_resize'\n",
    "\n",
    "    for i in ['1', '2', '3', '4', '5']:\n",
    "        for split_type in ['train', 'valid', 'test']:\n",
    "            directory_path = os.path.join('train_data_split', split_type, i)\n",
    "            os.makedirs(directory_path, exist_ok=True)\n",
    "        \n",
    "        file_list = os.listdir(os.path.join(dir_path, i))\n",
    "        file_list = [f for f in file_list if not f.startswith('.')]\n",
    "        random.shuffle(file_list)\n",
    "\n",
    "        train_size, test_size = map(lambda x: floor(len(file_list) * x), [.6, .2])\n",
    "        train_list, valid_list, test_list = file_list[:train_size+1], file_list[train_size+1:train_size+test_size+1], file_list[train_size+test_size+1:]\n",
    "\n",
    "        for filename, split_type in zip([train_list, valid_list, test_list], ['train', 'valid', 'test']):\n",
    "            [shutil.copyfile(os.path.join(dir_path, i, file), os.path.join('train_data_split', split_type, i, file)) for file in filename]\n",
    "\n",
    "split_data()"
   ]
  },
  {
   "cell_type": "markdown",
   "metadata": {},
   "source": [
    "## Data Distribution After Resize and Split"
   ]
  },
  {
   "cell_type": "code",
   "execution_count": 15,
   "metadata": {
    "tags": []
   },
   "outputs": [
    {
     "data": {
      "image/png": "[encoded data removed]",
      "text/plain": [
       "<Figure size 640x480 with 1 Axes>"
      ]
     },
     "metadata": {},
     "output_type": "display_data"
    },
    {
     "name": "stdout",
     "output_type": "stream",
     "text": [
      "Number of files in train folder: 6267\n",
      "Number of files in test folder: 2088\n",
      "Number of files in validation folder: 2086\n"
     ]
    }
   ],
   "source": [
    "train_dir = \"./train_data_split/train\"\n",
    "test_dir = \"./train_data_split/test\"\n",
    "valid_dir = \"./train_data_split/valid\"\n",
    "\n",
    "train_files = sum([len(files) for r, d, files in os.walk(train_dir)])\n",
    "test_files = sum([len(files) for r, d, files in os.walk(test_dir)])\n",
    "valid_files = sum([len(files) for r, d, files in os.walk(valid_dir)])\n",
    "\n",
    "labels = ['Train', 'Test', 'Validation']\n",
    "sizes = [train_files, test_files, valid_files]\n",
    "colors = ['yellowgreen', 'lightskyblue', 'gold']\n",
    "\n",
    "plt.pie(sizes, labels=labels, colors=colors, autopct='%1.1f%%', startangle=90)\n",
    "plt.axis('equal')\n",
    "plt.title('Number of files in train, test, and validation folders')\n",
    "plt.show()\n",
    "\n",
    "print(\"Number of files in train folder: {}\".format(train_files))\n",
    "print(\"Number of files in test folder: {}\".format(test_files))\n",
    "print(\"Number of files in validation folder: {}\".format(valid_files))\n"
   ]
  },
  {
   "cell_type": "markdown",
   "metadata": {},
   "source": [
    "### Upload to S3"
   ]
  },
  {
   "cell_type": "code",
   "execution_count": 16,
   "metadata": {
    "tags": []
   },
   "outputs": [],
   "source": [
    "role = sagemaker.get_execution_role()\n",
    "bucket = 'udacitymlproject5'\n",
    "s3_output_location = f\"s3://{bucket}/models/image_model\"\n",
    "sagemaker_session = sagemaker.Session()\n",
    "session = boto3.session.Session()\n",
    "region = session.region_name"
   ]
  },
  {
   "cell_type": "code",
   "execution_count": 17,
   "metadata": {
    "tags": []
   },
   "outputs": [],
   "source": [
    "inputs = sagemaker_session.upload_data(path=\"train_data_split\", bucket=bucket)"
   ]
  },
  {
   "cell_type": "code",
   "execution_count": 18,
   "metadata": {
    "tags": []
   },
   "outputs": [
    {
     "name": "stdout",
     "output_type": "stream",
     "text": [
      "s3://udacitymlproject5/data\n"
     ]
    }
   ],
   "source": [
    "print(inputs)"
   ]
  },
  {
   "cell_type": "markdown",
   "metadata": {},
   "source": [
    "## Hyperparameter Tuning\n",
    "- We will launch a hyperparameter tuning job using the hpo.py script\n",
    "- We will tune the learning rate and batch size\n",
    "- We will use a ml.g4dn.xlarge instance to speed up the process\n"
   ]
  },
  {
   "cell_type": "code",
   "execution_count": 19,
   "metadata": {
    "tags": []
   },
   "outputs": [],
   "source": [
    "data_channels = {\n",
    "    \"train\": f\"s3://{bucket}/data/train/\",\n",
    "    \"valid\": f\"s3://{bucket}/data/valid/\",\n",
    "    \"test\": f\"s3://{bucket}/data/test/\",\n",
    "}"
   ]
  },
  {
   "cell_type": "code",
   "execution_count": 21,
   "metadata": {},
   "outputs": [],
   "source": [
    "hyperparameter_ranges = {\n",
    "    \"learning_rate\": ContinuousParameter(0.001, 0.1),\n",
    "    \"batch_size\": CategoricalParameter([32, 64, 128, 256, 512]),\n",
    "}\n",
    "\n",
    "objective_metric_name = \"Test Loss\"\n",
    "objective_type = \"Minimize\"\n",
    "metric_definitions = [{\"Name\": \"Test Loss\", \"Regex\": \"Testing Loss: ([0-9\\\\.]+)\"}]"
   ]
  },
  {
   "cell_type": "code",
   "execution_count": null,
   "metadata": {},
   "outputs": [],
   "source": [
    "#test on python script"
   ]
  },
  {
   "cell_type": "code",
   "execution_count": 26,
   "metadata": {
    "tags": []
   },
   "outputs": [
    {
     "name": "stdout",
     "output_type": "stream",
     "text": [
      "Arguments: Namespace(batch_size=32, data='train_data_split', learning_rate=0.1, model_dir='.')\n",
      "Hyperparameters are LR: 0.1, Batch Size: 32\n",
      "Data Paths: train_data_split\n",
      "/opt/conda/lib/python3.7/site-packages/torchvision/models/_utils.py:209: UserWarning: The parameter 'pretrained' is deprecated since 0.13 and may be removed in the future, please use 'weights' instead.\n",
      "  f\"The parameter '{pretrained_param}' is deprecated since 0.13 and may be removed in the future, \"\n",
      "/opt/conda/lib/python3.7/site-packages/torchvision/models/_utils.py:223: UserWarning: Arguments other than a weight enum or `None` for 'weights' are deprecated since 0.13 and may be removed in the future. The current behavior is equivalent to passing `weights=ResNet50_Weights.IMAGENET1K_V1`. You can also use `weights=ResNet50_Weights.DEFAULT` to get the most up-to-date weights.\n",
      "  warnings.warn(msg)\n",
      "Starting Model Training\n",
      "Epoch: 0, phase train\n",
      "Epoch 0, Phase train, Images [32/6267 (1%)] Loss: 1.62 Accuracy: 7.0/32 (21.88%)\n",
      "Epoch 0, Phase train, Images [64/6267 (1%)] Loss: 1.61 Accuracy: 15.0/64 (23.44%)\n",
      "Epoch 0, Phase train, Images [96/6267 (2%)] Loss: 1.61 Accuracy: 21.0/96 (21.88%)\n",
      "Epoch 0, Phase train, Images [128/6267 (2%)] Loss: 1.59 Accuracy: 29.0/128 (22.66%)\n",
      "Epoch 0, Phase train, Images [160/6267 (3%)] Loss: 1.60 Accuracy: 35.0/160 (21.88%)\n",
      "Epoch 0, Phase train, Images [192/6267 (3%)] Loss: 1.59 Accuracy: 46.0/192 (23.96%)\n",
      "Epoch 0, Phase train, Images [224/6267 (4%)] Loss: 1.68 Accuracy: 50.0/224 (22.32%)\n",
      "Epoch 0, Phase train, Images [256/6267 (4%)] Loss: 1.62 Accuracy: 56.0/256 (21.88%)\n",
      "Epoch 0, Phase train, Images [288/6267 (5%)] Loss: 1.60 Accuracy: 66.0/288 (22.92%)\n",
      "Epoch 0, Phase train, Images [320/6267 (5%)] Loss: 1.61 Accuracy: 74.0/320 (23.12%)\n",
      "Epoch 0, Phase train, Images [352/6267 (6%)] Loss: 1.59 Accuracy: 78.0/352 (22.16%)\n",
      "Epoch 0, Phase train, Images [384/6267 (6%)] Loss: 1.57 Accuracy: 85.0/384 (22.14%)\n",
      "Epoch 0, Phase train, Images [416/6267 (7%)] Loss: 1.65 Accuracy: 91.0/416 (21.88%)\n",
      "Epoch 0, Phase train, Images [448/6267 (7%)] Loss: 1.62 Accuracy: 100.0/448 (22.32%)\n",
      "Epoch 0, Phase train, Images [480/6267 (8%)] Loss: 1.60 Accuracy: 109.0/480 (22.71%)\n",
      "Epoch 0, Phase train, Images [512/6267 (8%)] Loss: 1.59 Accuracy: 115.0/512 (22.46%)\n",
      "Epoch 0, Phase train, Images [544/6267 (9%)] Loss: 1.59 Accuracy: 122.0/544 (22.43%)\n",
      "Epoch 0, Phase train, Images [576/6267 (9%)] Loss: 1.55 Accuracy: 134.0/576 (23.26%)\n",
      "Epoch 0, Phase train, Images [608/6267 (10%)] Loss: 1.55 Accuracy: 145.0/608 (23.85%)\n",
      "Epoch 0, Phase train, Images [640/6267 (10%)] Loss: 1.60 Accuracy: 153.0/640 (23.91%)\n",
      "train loss: 1.6002, acc: 0.2391, best loss: 1000000.0000\n",
      "Epoch: 0, phase valid\n",
      "Epoch 0, Phase valid, Images [32/2086 (2%)] Loss: 1.62 Accuracy: 6.0/32 (18.75%)\n",
      "Epoch 0, Phase valid, Images [64/2086 (3%)] Loss: 1.57 Accuracy: 14.0/64 (21.88%)\n",
      "Epoch 0, Phase valid, Images [96/2086 (5%)] Loss: 1.61 Accuracy: 22.0/96 (22.92%)\n",
      "Epoch 0, Phase valid, Images [128/2086 (6%)] Loss: 1.57 Accuracy: 28.0/128 (21.88%)\n",
      "Epoch 0, Phase valid, Images [160/2086 (8%)] Loss: 1.62 Accuracy: 33.0/160 (20.62%)\n",
      "Epoch 0, Phase valid, Images [192/2086 (9%)] Loss: 1.60 Accuracy: 39.0/192 (20.31%)\n",
      "Epoch 0, Phase valid, Images [224/2086 (11%)] Loss: 1.58 Accuracy: 49.0/224 (21.88%)\n",
      "valid loss: 1.5943, acc: 0.2188, best loss: 1.5943\n",
      "Break due to epoch limit at epoch: 0\n",
      "Testing Model\n",
      "Testing model on whole testing dataset\n",
      "100%|███████████████████████████████████████████| 66/66 [06:23<00:00,  5.82s/it]\n",
      "Testing Loss: 1.5822216158168982\n",
      "Testing Accuracy: 0.2274904214559387\n",
      "Saving Model\n"
     ]
    }
   ],
   "source": [
    "os.environ[\"SM_CHANNEL_TRAIN\"] = \"train_data_split\"\n",
    "os.environ[\"SM_MODEL_DIR\"] = '.'\n",
    "\n",
    "!python hpo.py --learning_rate 0.1 --batch_size 32"
   ]
  },
  {
   "cell_type": "code",
   "execution_count": 36,
   "metadata": {},
   "outputs": [],
   "source": [
    "estimator = PyTorch(\n",
    "    entry_point=\"hpo.py\",\n",
    "    base_job_name='pytorch_hpo',\n",
    "    role=role,\n",
    "    framework_version=\"1.4.0\",\n",
    "    instance_count=1,\n",
    "    instance_type=\"ml.g4dn.xlarge\",\n",
    "    py_version='py3',\n",
    "    output_path = \"s3://udacitymlproject5/hpo-output/\"\n",
    ")"
   ]
  },
  {
   "cell_type": "code",
   "execution_count": 37,
   "metadata": {},
   "outputs": [],
   "source": [
    "tuner = HyperparameterTuner(\n",
    "    estimator,\n",
    "    objective_metric_name,\n",
    "    hyperparameter_ranges,\n",
    "    metric_definitions,\n",
    "    max_jobs=2,\n",
    "    max_parallel_jobs=1,\n",
    "    objective_type=objective_type\n",
    ")"
   ]
  },
  {
   "cell_type": "code",
   "execution_count": 39,
   "metadata": {
    "tags": []
   },
   "outputs": [
    {
     "name": "stderr",
     "output_type": "stream",
     "text": [
      "No finished training job found associated with this estimator. Please make sure this estimator is only used for building workflow config\n",
      "No finished training job found associated with this estimator. Please make sure this estimator is only used for building workflow config\n"
     ]
    },
    {
     "ename": "ResourceLimitExceeded",
     "evalue": "An error occurred (ResourceLimitExceeded) when calling the CreateHyperParameterTuningJob operation: The account-level service limit 'ml.g4dn.xlarge for training job usage' is 2 Instances, with current utilization of 2 Instances and a request delta of 1 Instances. Please contact AWS support to request an increase for this limit.",
     "output_type": "error",
     "traceback": [
      "\u001b[0;31m---------------------------------------------------------------------------\u001b[0m",
      "\u001b[0;31mResourceLimitExceeded\u001b[0m                     Traceback (most recent call last)",
      "\u001b[0;32m<ipython-input-39-41e2cac33a65>\u001b[0m in \u001b[0;36m<module>\u001b[0;34m\u001b[0m\n\u001b[1;32m      1\u001b[0m tuner.fit(\n\u001b[1;32m      2\u001b[0m     \u001b[0mdata_channels\u001b[0m\u001b[0;34m,\u001b[0m\u001b[0;34m\u001b[0m\u001b[0;34m\u001b[0m\u001b[0m\n\u001b[0;32m----> 3\u001b[0;31m     \u001b[0mwait\u001b[0m \u001b[0;34m=\u001b[0m \u001b[0;32mFalse\u001b[0m\u001b[0;34m\u001b[0m\u001b[0;34m\u001b[0m\u001b[0m\n\u001b[0m\u001b[1;32m      4\u001b[0m )\n",
      "\u001b[0;32m/opt/conda/lib/python3.7/site-packages/sagemaker/workflow/pipeline_context.py\u001b[0m in \u001b[0;36mwrapper\u001b[0;34m(*args, **kwargs)\u001b[0m\n\u001b[1;32m    282\u001b[0m             \u001b[0;32mreturn\u001b[0m \u001b[0m_StepArguments\u001b[0m\u001b[0;34m(\u001b[0m\u001b[0mretrieve_caller_name\u001b[0m\u001b[0;34m(\u001b[0m\u001b[0mself_instance\u001b[0m\u001b[0;34m)\u001b[0m\u001b[0;34m,\u001b[0m \u001b[0mrun_func\u001b[0m\u001b[0;34m,\u001b[0m \u001b[0;34m*\u001b[0m\u001b[0margs\u001b[0m\u001b[0;34m,\u001b[0m \u001b[0;34m**\u001b[0m\u001b[0mkwargs\u001b[0m\u001b[0;34m)\u001b[0m\u001b[0;34m\u001b[0m\u001b[0;34m\u001b[0m\u001b[0m\n\u001b[1;32m    283\u001b[0m \u001b[0;34m\u001b[0m\u001b[0m\n\u001b[0;32m--> 284\u001b[0;31m         \u001b[0;32mreturn\u001b[0m \u001b[0mrun_func\u001b[0m\u001b[0;34m(\u001b[0m\u001b[0;34m*\u001b[0m\u001b[0margs\u001b[0m\u001b[0;34m,\u001b[0m \u001b[0;34m**\u001b[0m\u001b[0mkwargs\u001b[0m\u001b[0;34m)\u001b[0m\u001b[0;34m\u001b[0m\u001b[0;34m\u001b[0m\u001b[0m\n\u001b[0m\u001b[1;32m    285\u001b[0m \u001b[0;34m\u001b[0m\u001b[0m\n\u001b[1;32m    286\u001b[0m     \u001b[0;32mreturn\u001b[0m \u001b[0mwrapper\u001b[0m\u001b[0;34m\u001b[0m\u001b[0;34m\u001b[0m\u001b[0m\n",
      "\u001b[0;32m/opt/conda/lib/python3.7/site-packages/sagemaker/tuner.py\u001b[0m in \u001b[0;36mfit\u001b[0;34m(self, inputs, job_name, include_cls_metadata, estimator_kwargs, wait, **kwargs)\u001b[0m\n\u001b[1;32m    940\u001b[0m         \"\"\"\n\u001b[1;32m    941\u001b[0m         \u001b[0;32mif\u001b[0m \u001b[0mself\u001b[0m\u001b[0;34m.\u001b[0m\u001b[0mestimator\u001b[0m \u001b[0;32mis\u001b[0m \u001b[0;32mnot\u001b[0m \u001b[0;32mNone\u001b[0m\u001b[0;34m:\u001b[0m\u001b[0;34m\u001b[0m\u001b[0;34m\u001b[0m\u001b[0m\n\u001b[0;32m--> 942\u001b[0;31m             \u001b[0mself\u001b[0m\u001b[0;34m.\u001b[0m\u001b[0m_fit_with_estimator\u001b[0m\u001b[0;34m(\u001b[0m\u001b[0minputs\u001b[0m\u001b[0;34m,\u001b[0m \u001b[0mjob_name\u001b[0m\u001b[0;34m,\u001b[0m \u001b[0minclude_cls_metadata\u001b[0m\u001b[0;34m,\u001b[0m \u001b[0;34m**\u001b[0m\u001b[0mkwargs\u001b[0m\u001b[0;34m)\u001b[0m\u001b[0;34m\u001b[0m\u001b[0;34m\u001b[0m\u001b[0m\n\u001b[0m\u001b[1;32m    943\u001b[0m         \u001b[0;32melse\u001b[0m\u001b[0;34m:\u001b[0m\u001b[0;34m\u001b[0m\u001b[0;34m\u001b[0m\u001b[0m\n\u001b[1;32m    944\u001b[0m             \u001b[0mself\u001b[0m\u001b[0;34m.\u001b[0m\u001b[0m_fit_with_estimator_dict\u001b[0m\u001b[0;34m(\u001b[0m\u001b[0minputs\u001b[0m\u001b[0;34m,\u001b[0m \u001b[0mjob_name\u001b[0m\u001b[0;34m,\u001b[0m \u001b[0minclude_cls_metadata\u001b[0m\u001b[0;34m,\u001b[0m \u001b[0mestimator_kwargs\u001b[0m\u001b[0;34m)\u001b[0m\u001b[0;34m\u001b[0m\u001b[0;34m\u001b[0m\u001b[0m\n",
      "\u001b[0;32m/opt/conda/lib/python3.7/site-packages/sagemaker/tuner.py\u001b[0m in \u001b[0;36m_fit_with_estimator\u001b[0;34m(self, inputs, job_name, include_cls_metadata, **kwargs)\u001b[0m\n\u001b[1;32m    951\u001b[0m         \u001b[0mself\u001b[0m\u001b[0;34m.\u001b[0m\u001b[0m_prepare_estimator_for_tuning\u001b[0m\u001b[0;34m(\u001b[0m\u001b[0mself\u001b[0m\u001b[0;34m.\u001b[0m\u001b[0mestimator\u001b[0m\u001b[0;34m,\u001b[0m \u001b[0minputs\u001b[0m\u001b[0;34m,\u001b[0m \u001b[0mjob_name\u001b[0m\u001b[0;34m,\u001b[0m \u001b[0;34m**\u001b[0m\u001b[0mkwargs\u001b[0m\u001b[0;34m)\u001b[0m\u001b[0;34m\u001b[0m\u001b[0;34m\u001b[0m\u001b[0m\n\u001b[1;32m    952\u001b[0m         \u001b[0mself\u001b[0m\u001b[0;34m.\u001b[0m\u001b[0m_prepare_for_tuning\u001b[0m\u001b[0;34m(\u001b[0m\u001b[0mjob_name\u001b[0m\u001b[0;34m=\u001b[0m\u001b[0mjob_name\u001b[0m\u001b[0;34m,\u001b[0m \u001b[0minclude_cls_metadata\u001b[0m\u001b[0;34m=\u001b[0m\u001b[0minclude_cls_metadata\u001b[0m\u001b[0;34m)\u001b[0m\u001b[0;34m\u001b[0m\u001b[0;34m\u001b[0m\u001b[0m\n\u001b[0;32m--> 953\u001b[0;31m         \u001b[0mself\u001b[0m\u001b[0;34m.\u001b[0m\u001b[0mlatest_tuning_job\u001b[0m \u001b[0;34m=\u001b[0m \u001b[0m_TuningJob\u001b[0m\u001b[0;34m.\u001b[0m\u001b[0mstart_new\u001b[0m\u001b[0;34m(\u001b[0m\u001b[0mself\u001b[0m\u001b[0;34m,\u001b[0m \u001b[0minputs\u001b[0m\u001b[0;34m)\u001b[0m\u001b[0;34m\u001b[0m\u001b[0;34m\u001b[0m\u001b[0m\n\u001b[0m\u001b[1;32m    954\u001b[0m \u001b[0;34m\u001b[0m\u001b[0m\n\u001b[1;32m    955\u001b[0m     \u001b[0;32mdef\u001b[0m \u001b[0m_fit_with_estimator_dict\u001b[0m\u001b[0;34m(\u001b[0m\u001b[0mself\u001b[0m\u001b[0;34m,\u001b[0m \u001b[0minputs\u001b[0m\u001b[0;34m,\u001b[0m \u001b[0mjob_name\u001b[0m\u001b[0;34m,\u001b[0m \u001b[0minclude_cls_metadata\u001b[0m\u001b[0;34m,\u001b[0m \u001b[0mestimator_kwargs\u001b[0m\u001b[0;34m)\u001b[0m\u001b[0;34m:\u001b[0m\u001b[0;34m\u001b[0m\u001b[0;34m\u001b[0m\u001b[0m\n",
      "\u001b[0;32m/opt/conda/lib/python3.7/site-packages/sagemaker/tuner.py\u001b[0m in \u001b[0;36mstart_new\u001b[0;34m(cls, tuner, inputs)\u001b[0m\n\u001b[1;32m   2013\u001b[0m         \u001b[0mtuner_args\u001b[0m \u001b[0;34m=\u001b[0m \u001b[0mcls\u001b[0m\u001b[0;34m.\u001b[0m\u001b[0m_get_tuner_args\u001b[0m\u001b[0;34m(\u001b[0m\u001b[0mtuner\u001b[0m\u001b[0;34m,\u001b[0m \u001b[0minputs\u001b[0m\u001b[0;34m)\u001b[0m\u001b[0;34m\u001b[0m\u001b[0;34m\u001b[0m\u001b[0m\n\u001b[1;32m   2014\u001b[0m \u001b[0;34m\u001b[0m\u001b[0m\n\u001b[0;32m-> 2015\u001b[0;31m         \u001b[0mtuner\u001b[0m\u001b[0;34m.\u001b[0m\u001b[0msagemaker_session\u001b[0m\u001b[0;34m.\u001b[0m\u001b[0mcreate_tuning_job\u001b[0m\u001b[0;34m(\u001b[0m\u001b[0;34m**\u001b[0m\u001b[0mtuner_args\u001b[0m\u001b[0;34m)\u001b[0m\u001b[0;34m\u001b[0m\u001b[0;34m\u001b[0m\u001b[0m\n\u001b[0m\u001b[1;32m   2016\u001b[0m \u001b[0;34m\u001b[0m\u001b[0m\n\u001b[1;32m   2017\u001b[0m         \u001b[0;32mreturn\u001b[0m \u001b[0mcls\u001b[0m\u001b[0;34m(\u001b[0m\u001b[0mtuner\u001b[0m\u001b[0;34m.\u001b[0m\u001b[0msagemaker_session\u001b[0m\u001b[0;34m,\u001b[0m \u001b[0mtuner\u001b[0m\u001b[0;34m.\u001b[0m\u001b[0m_current_job_name\u001b[0m\u001b[0;34m)\u001b[0m\u001b[0;34m\u001b[0m\u001b[0;34m\u001b[0m\u001b[0m\n",
      "\u001b[0;32m/opt/conda/lib/python3.7/site-packages/sagemaker/session.py\u001b[0m in \u001b[0;36mcreate_tuning_job\u001b[0;34m(self, job_name, tuning_config, training_config, training_config_list, warm_start_config, tags)\u001b[0m\n\u001b[1;32m   2709\u001b[0m             \u001b[0mself\u001b[0m\u001b[0;34m.\u001b[0m\u001b[0msagemaker_client\u001b[0m\u001b[0;34m.\u001b[0m\u001b[0mcreate_hyper_parameter_tuning_job\u001b[0m\u001b[0;34m(\u001b[0m\u001b[0;34m**\u001b[0m\u001b[0mrequest\u001b[0m\u001b[0;34m)\u001b[0m\u001b[0;34m\u001b[0m\u001b[0;34m\u001b[0m\u001b[0m\n\u001b[1;32m   2710\u001b[0m \u001b[0;34m\u001b[0m\u001b[0m\n\u001b[0;32m-> 2711\u001b[0;31m         \u001b[0mself\u001b[0m\u001b[0;34m.\u001b[0m\u001b[0m_intercept_create_request\u001b[0m\u001b[0;34m(\u001b[0m\u001b[0mtune_request\u001b[0m\u001b[0;34m,\u001b[0m \u001b[0msubmit\u001b[0m\u001b[0;34m,\u001b[0m \u001b[0mself\u001b[0m\u001b[0;34m.\u001b[0m\u001b[0mcreate_tuning_job\u001b[0m\u001b[0;34m.\u001b[0m\u001b[0m__name__\u001b[0m\u001b[0;34m)\u001b[0m\u001b[0;34m\u001b[0m\u001b[0;34m\u001b[0m\u001b[0m\n\u001b[0m\u001b[1;32m   2712\u001b[0m \u001b[0;34m\u001b[0m\u001b[0m\n\u001b[1;32m   2713\u001b[0m     def _get_tuning_request(\n",
      "\u001b[0;32m/opt/conda/lib/python3.7/site-packages/sagemaker/session.py\u001b[0m in \u001b[0;36m_intercept_create_request\u001b[0;34m(self, request, create, func_name)\u001b[0m\n\u001b[1;32m   5285\u001b[0m             \u001b[0mfunc_name\u001b[0m \u001b[0;34m(\u001b[0m\u001b[0mstr\u001b[0m\u001b[0;34m)\u001b[0m\u001b[0;34m:\u001b[0m \u001b[0mthe\u001b[0m \u001b[0mname\u001b[0m \u001b[0mof\u001b[0m \u001b[0mthe\u001b[0m \u001b[0mfunction\u001b[0m \u001b[0mneeded\u001b[0m \u001b[0mintercepting\u001b[0m\u001b[0;34m\u001b[0m\u001b[0;34m\u001b[0m\u001b[0m\n\u001b[1;32m   5286\u001b[0m         \"\"\"\n\u001b[0;32m-> 5287\u001b[0;31m         \u001b[0;32mreturn\u001b[0m \u001b[0mcreate\u001b[0m\u001b[0;34m(\u001b[0m\u001b[0mrequest\u001b[0m\u001b[0;34m)\u001b[0m\u001b[0;34m\u001b[0m\u001b[0;34m\u001b[0m\u001b[0m\n\u001b[0m\u001b[1;32m   5288\u001b[0m \u001b[0;34m\u001b[0m\u001b[0m\n\u001b[1;32m   5289\u001b[0m     def _create_inference_recommendations_job_request(\n",
      "\u001b[0;32m/opt/conda/lib/python3.7/site-packages/sagemaker/session.py\u001b[0m in \u001b[0;36msubmit\u001b[0;34m(request)\u001b[0m\n\u001b[1;32m   2707\u001b[0m             \u001b[0mLOGGER\u001b[0m\u001b[0;34m.\u001b[0m\u001b[0minfo\u001b[0m\u001b[0;34m(\u001b[0m\u001b[0;34m\"Creating hyperparameter tuning job with name: %s\"\u001b[0m\u001b[0;34m,\u001b[0m \u001b[0mjob_name\u001b[0m\u001b[0;34m)\u001b[0m\u001b[0;34m\u001b[0m\u001b[0;34m\u001b[0m\u001b[0m\n\u001b[1;32m   2708\u001b[0m             \u001b[0mLOGGER\u001b[0m\u001b[0;34m.\u001b[0m\u001b[0mdebug\u001b[0m\u001b[0;34m(\u001b[0m\u001b[0;34m\"tune request: %s\"\u001b[0m\u001b[0;34m,\u001b[0m \u001b[0mjson\u001b[0m\u001b[0;34m.\u001b[0m\u001b[0mdumps\u001b[0m\u001b[0;34m(\u001b[0m\u001b[0mrequest\u001b[0m\u001b[0;34m,\u001b[0m \u001b[0mindent\u001b[0m\u001b[0;34m=\u001b[0m\u001b[0;36m4\u001b[0m\u001b[0;34m)\u001b[0m\u001b[0;34m)\u001b[0m\u001b[0;34m\u001b[0m\u001b[0;34m\u001b[0m\u001b[0m\n\u001b[0;32m-> 2709\u001b[0;31m             \u001b[0mself\u001b[0m\u001b[0;34m.\u001b[0m\u001b[0msagemaker_client\u001b[0m\u001b[0;34m.\u001b[0m\u001b[0mcreate_hyper_parameter_tuning_job\u001b[0m\u001b[0;34m(\u001b[0m\u001b[0;34m**\u001b[0m\u001b[0mrequest\u001b[0m\u001b[0;34m)\u001b[0m\u001b[0;34m\u001b[0m\u001b[0;34m\u001b[0m\u001b[0m\n\u001b[0m\u001b[1;32m   2710\u001b[0m \u001b[0;34m\u001b[0m\u001b[0m\n\u001b[1;32m   2711\u001b[0m         \u001b[0mself\u001b[0m\u001b[0;34m.\u001b[0m\u001b[0m_intercept_create_request\u001b[0m\u001b[0;34m(\u001b[0m\u001b[0mtune_request\u001b[0m\u001b[0;34m,\u001b[0m \u001b[0msubmit\u001b[0m\u001b[0;34m,\u001b[0m \u001b[0mself\u001b[0m\u001b[0;34m.\u001b[0m\u001b[0mcreate_tuning_job\u001b[0m\u001b[0;34m.\u001b[0m\u001b[0m__name__\u001b[0m\u001b[0;34m)\u001b[0m\u001b[0;34m\u001b[0m\u001b[0;34m\u001b[0m\u001b[0m\n",
      "\u001b[0;32m/opt/conda/lib/python3.7/site-packages/botocore/client.py\u001b[0m in \u001b[0;36m_api_call\u001b[0;34m(self, *args, **kwargs)\u001b[0m\n\u001b[1;32m    528\u001b[0m                 )\n\u001b[1;32m    529\u001b[0m             \u001b[0;31m# The \"self\" in this scope is referring to the BaseClient.\u001b[0m\u001b[0;34m\u001b[0m\u001b[0;34m\u001b[0m\u001b[0;34m\u001b[0m\u001b[0m\n\u001b[0;32m--> 530\u001b[0;31m             \u001b[0;32mreturn\u001b[0m \u001b[0mself\u001b[0m\u001b[0;34m.\u001b[0m\u001b[0m_make_api_call\u001b[0m\u001b[0;34m(\u001b[0m\u001b[0moperation_name\u001b[0m\u001b[0;34m,\u001b[0m \u001b[0mkwargs\u001b[0m\u001b[0;34m)\u001b[0m\u001b[0;34m\u001b[0m\u001b[0;34m\u001b[0m\u001b[0m\n\u001b[0m\u001b[1;32m    531\u001b[0m \u001b[0;34m\u001b[0m\u001b[0m\n\u001b[1;32m    532\u001b[0m         \u001b[0m_api_call\u001b[0m\u001b[0;34m.\u001b[0m\u001b[0m__name__\u001b[0m \u001b[0;34m=\u001b[0m \u001b[0mstr\u001b[0m\u001b[0;34m(\u001b[0m\u001b[0mpy_operation_name\u001b[0m\u001b[0;34m)\u001b[0m\u001b[0;34m\u001b[0m\u001b[0;34m\u001b[0m\u001b[0m\n",
      "\u001b[0;32m/opt/conda/lib/python3.7/site-packages/botocore/client.py\u001b[0m in \u001b[0;36m_make_api_call\u001b[0;34m(self, operation_name, api_params)\u001b[0m\n\u001b[1;32m    958\u001b[0m             \u001b[0merror_code\u001b[0m \u001b[0;34m=\u001b[0m \u001b[0mparsed_response\u001b[0m\u001b[0;34m.\u001b[0m\u001b[0mget\u001b[0m\u001b[0;34m(\u001b[0m\u001b[0;34m\"Error\"\u001b[0m\u001b[0;34m,\u001b[0m \u001b[0;34m{\u001b[0m\u001b[0;34m}\u001b[0m\u001b[0;34m)\u001b[0m\u001b[0;34m.\u001b[0m\u001b[0mget\u001b[0m\u001b[0;34m(\u001b[0m\u001b[0;34m\"Code\"\u001b[0m\u001b[0;34m)\u001b[0m\u001b[0;34m\u001b[0m\u001b[0;34m\u001b[0m\u001b[0m\n\u001b[1;32m    959\u001b[0m             \u001b[0merror_class\u001b[0m \u001b[0;34m=\u001b[0m \u001b[0mself\u001b[0m\u001b[0;34m.\u001b[0m\u001b[0mexceptions\u001b[0m\u001b[0;34m.\u001b[0m\u001b[0mfrom_code\u001b[0m\u001b[0;34m(\u001b[0m\u001b[0merror_code\u001b[0m\u001b[0;34m)\u001b[0m\u001b[0;34m\u001b[0m\u001b[0;34m\u001b[0m\u001b[0m\n\u001b[0;32m--> 960\u001b[0;31m             \u001b[0;32mraise\u001b[0m \u001b[0merror_class\u001b[0m\u001b[0;34m(\u001b[0m\u001b[0mparsed_response\u001b[0m\u001b[0;34m,\u001b[0m \u001b[0moperation_name\u001b[0m\u001b[0;34m)\u001b[0m\u001b[0;34m\u001b[0m\u001b[0;34m\u001b[0m\u001b[0m\n\u001b[0m\u001b[1;32m    961\u001b[0m         \u001b[0;32melse\u001b[0m\u001b[0;34m:\u001b[0m\u001b[0;34m\u001b[0m\u001b[0;34m\u001b[0m\u001b[0m\n\u001b[1;32m    962\u001b[0m             \u001b[0;32mreturn\u001b[0m \u001b[0mparsed_response\u001b[0m\u001b[0;34m\u001b[0m\u001b[0;34m\u001b[0m\u001b[0m\n",
      "\u001b[0;31mResourceLimitExceeded\u001b[0m: An error occurred (ResourceLimitExceeded) when calling the CreateHyperParameterTuningJob operation: The account-level service limit 'ml.g4dn.xlarge for training job usage' is 2 Instances, with current utilization of 2 Instances and a request delta of 1 Instances. Please contact AWS support to request an increase for this limit."
     ]
    }
   ],
   "source": [
    "tuner.fit(\n",
    "    data_channels,\n",
    "    wait = False\n",
    ")"
   ]
  },
  {
   "cell_type": "markdown",
   "metadata": {},
   "source": [
    "### Model Training with the best hyperparameters"
   ]
  },
  {
   "cell_type": "code",
   "execution_count": 40,
   "metadata": {
    "tags": []
   },
   "outputs": [
    {
     "name": "stdout",
     "output_type": "stream",
     "text": [
      "\n",
      "2023-04-19 04:52:56 Starting - Found matching resource for reuse\n",
      "2023-04-19 04:52:56 Downloading - Downloading input data\n",
      "2023-04-19 04:52:56 Training - Training image download completed. Training in progress.\n",
      "2023-04-19 04:52:56 Uploading - Uploading generated training model\n",
      "2023-04-19 04:52:56 Completed - Resource retained for reuse\n"
     ]
    }
   ],
   "source": [
    "BetterTrainingJobName='pytorch-training-230419-0434-003-9a0ea73d'\n",
    "my_estimator = sagemaker.estimator.Estimator.attach(BetterTrainingJobName)\n",
    "my_estimator.hyperparameters()\n",
    "best_estimator=my_estimator"
   ]
  },
  {
   "cell_type": "code",
   "execution_count": 41,
   "metadata": {
    "tags": []
   },
   "outputs": [
    {
     "data": {
      "text/plain": [
       "{'batch_size': 64, 'learning_rate': '0.013286582820793045'}"
      ]
     },
     "execution_count": 41,
     "metadata": {},
     "output_type": "execute_result"
    }
   ],
   "source": [
    "best_hyperparameters = best_estimator.hyperparameters()\n",
    "hyperparameters = {\"batch_size\": int(best_estimator.hyperparameters()['batch_size'].replace('\"', '')), \\\n",
    "                   \"learning_rate\": best_estimator.hyperparameters()['learning_rate']}\n",
    "\n",
    "hyperparameters"
   ]
  },
  {
   "cell_type": "markdown",
   "metadata": {},
   "source": [
    "### Model Profiling and Debugging"
   ]
  },
  {
   "cell_type": "code",
   "execution_count": 42,
   "metadata": {
    "tags": []
   },
   "outputs": [],
   "source": [
    "rules = [\n",
    "    Rule.sagemaker(rule_configs.vanishing_gradient()),\n",
    "    Rule.sagemaker(rule_configs.overfit()),\n",
    "    Rule.sagemaker(rule_configs.overtraining()),\n",
    "    Rule.sagemaker(rule_configs.poor_weight_initialization()),\n",
    "    ProfilerRule.sagemaker(rule_configs.ProfilerReport()),\n",
    "]"
   ]
  },
  {
   "cell_type": "code",
   "execution_count": 43,
   "metadata": {},
   "outputs": [
    {
     "name": "stderr",
     "output_type": "stream",
     "text": [
      "Framework profiling will be deprecated from tensorflow 2.12 and pytorch 2.0 in sagemaker>=2.\n",
      "See: https://sagemaker.readthedocs.io/en/stable/v2.html for details.\n"
     ]
    }
   ],
   "source": [
    "hook_config = DebuggerHookConfig(\n",
    "    hook_parameters={\n",
    "        \"train.save_interval\": \"1\",\n",
    "        \"eval.save_interval\": \"1\"\n",
    "    }\n",
    ")\n",
    "\n",
    "profiler_config = ProfilerConfig(\n",
    "    system_monitor_interval_millis=500, framework_profile_params=FrameworkProfile(num_steps=1)\n",
    ")"
   ]
  },
  {
   "cell_type": "code",
   "execution_count": 52,
   "metadata": {
    "tags": []
   },
   "outputs": [],
   "source": [
    "hyperparameters = {\n",
    "    \"batch_size\": 64,\n",
    "    \"learning_rate\": 0.013286582820793045\n",
    "}"
   ]
  },
  {
   "cell_type": "code",
   "execution_count": 53,
   "metadata": {
    "tags": []
   },
   "outputs": [],
   "source": [
    "#adjust this cell to accomplish multi-instance training\n",
    "estimator = PyTorch(\n",
    "    entry_point='train.py',\n",
    "    role=role,\n",
    "    instance_count=1,\n",
    "    instance_type='ml.g4dn.xlarge',\n",
    "    framework_version='1.8',\n",
    "    py_version='py36',\n",
    "    hyperparameters=hyperparameters,\n",
    "    ## Debugger and Profiler parameters\n",
    "    rules = rules,\n",
    "    debugger_hook_config=hook_config,\n",
    "    profiler_config=profiler_config,\n",
    ")"
   ]
  },
  {
   "cell_type": "code",
   "execution_count": null,
   "metadata": {
    "tags": []
   },
   "outputs": [
    {
     "name": "stderr",
     "output_type": "stream",
     "text": [
      "INFO:sagemaker.image_uris:image_uri is not presented, retrieving image_uri based on instance_type, framework etc.\n",
      "INFO:sagemaker.image_uris:image_uri is not presented, retrieving image_uri based on instance_type, framework etc.\n",
      "INFO:sagemaker:Creating training-job with name: pytorch-training-2023-04-19-05-44-57-385\n"
     ]
    },
    {
     "name": "stdout",
     "output_type": "stream",
     "text": [
      "2023-04-19 05:45:08 Starting - Starting the training job...\n",
      "2023-04-19 05:45:23 Starting - Preparing the instances for trainingVanishingGradient: InProgress\n",
      "Overfit: InProgress\n",
      "Overtraining: InProgress\n",
      "PoorWeightInitialization: InProgress\n",
      "ProfilerReport: InProgress\n",
      "......\n",
      "2023-04-19 05:46:35 Downloading - Downloading input data......\n",
      "2023-04-19 05:47:35 Training - Downloading the training image...............\n",
      "2023-04-19 05:50:09 Training - Training image download completed. Training in progress.\u001b[34mbash: cannot set terminal process group (-1): Inappropriate ioctl for device\u001b[0m\n",
      "\u001b[34mbash: no job control in this shell\u001b[0m\n",
      "\u001b[34m2023-04-19 05:49:57,807 sagemaker-training-toolkit INFO     Imported framework sagemaker_pytorch_container.training\u001b[0m\n",
      "\u001b[34m2023-04-19 05:49:57,835 sagemaker_pytorch_container.training INFO     Block until all host DNS lookups succeed.\u001b[0m\n",
      "\u001b[34m2023-04-19 05:49:57,838 sagemaker_pytorch_container.training INFO     Invoking user training script.\u001b[0m\n",
      "\u001b[34m2023-04-19 05:49:58,131 sagemaker-training-toolkit INFO     Invoking user script\u001b[0m\n",
      "\u001b[34mTraining Env:\u001b[0m\n",
      "\u001b[34m{\n",
      "    \"additional_framework_parameters\": {},\n",
      "    \"channel_input_dirs\": {\n",
      "        \"test\": \"/opt/ml/input/data/test\",\n",
      "        \"train\": \"/opt/ml/input/data/train\",\n",
      "        \"valid\": \"/opt/ml/input/data/valid\"\n",
      "    },\n",
      "    \"current_host\": \"algo-1\",\n",
      "    \"framework_module\": \"sagemaker_pytorch_container.training:main\",\n",
      "    \"hosts\": [\n",
      "        \"algo-1\"\n",
      "    ],\n",
      "    \"hyperparameters\": {\n",
      "        \"batch_size\": 64,\n",
      "        \"learning_rate\": 0.013286582820793045\n",
      "    },\n",
      "    \"input_config_dir\": \"/opt/ml/input/config\",\n",
      "    \"input_data_config\": {\n",
      "        \"test\": {\n",
      "            \"TrainingInputMode\": \"File\",\n",
      "            \"S3DistributionType\": \"FullyReplicated\",\n",
      "            \"RecordWrapperType\": \"None\"\n",
      "        },\n",
      "        \"train\": {\n",
      "            \"TrainingInputMode\": \"File\",\n",
      "            \"S3DistributionType\": \"FullyReplicated\",\n",
      "            \"RecordWrapperType\": \"None\"\n",
      "        },\n",
      "        \"valid\": {\n",
      "            \"TrainingInputMode\": \"File\",\n",
      "            \"S3DistributionType\": \"FullyReplicated\",\n",
      "            \"RecordWrapperType\": \"None\"\n",
      "        }\n",
      "    },\n",
      "    \"input_dir\": \"/opt/ml/input\",\n",
      "    \"is_master\": true,\n",
      "    \"job_name\": \"pytorch-training-2023-04-19-05-44-57-385\",\n",
      "    \"log_level\": 20,\n",
      "    \"master_hostname\": \"algo-1\",\n",
      "    \"model_dir\": \"/opt/ml/model\",\n",
      "    \"module_dir\": \"s3://sagemaker-us-east-1-262964915389/pytorch-training-2023-04-19-05-44-57-385/source/sourcedir.tar.gz\",\n",
      "    \"module_name\": \"train\",\n",
      "    \"network_interface_name\": \"eth0\",\n",
      "    \"num_cpus\": 4,\n",
      "    \"num_gpus\": 1,\n",
      "    \"output_data_dir\": \"/opt/ml/output/data\",\n",
      "    \"output_dir\": \"/opt/ml/output\",\n",
      "    \"output_intermediate_dir\": \"/opt/ml/output/intermediate\",\n",
      "    \"resource_config\": {\n",
      "        \"current_host\": \"algo-1\",\n",
      "        \"current_instance_type\": \"ml.g4dn.xlarge\",\n",
      "        \"current_group_name\": \"homogeneousCluster\",\n",
      "        \"hosts\": [\n",
      "            \"algo-1\"\n",
      "        ],\n",
      "        \"instance_groups\": [\n",
      "            {\n",
      "                \"instance_group_name\": \"homogeneousCluster\",\n",
      "                \"instance_type\": \"ml.g4dn.xlarge\",\n",
      "                \"hosts\": [\n",
      "                    \"algo-1\"\n",
      "                ]\n",
      "            }\n",
      "        ],\n",
      "        \"network_interface_name\": \"eth0\"\n",
      "    },\n",
      "    \"user_entry_point\": \"train.py\"\u001b[0m\n",
      "\u001b[34m}\u001b[0m\n",
      "\u001b[34mEnvironment variables:\u001b[0m\n",
      "\u001b[34mSM_HOSTS=[\"algo-1\"]\u001b[0m\n",
      "\u001b[34mSM_NETWORK_INTERFACE_NAME=eth0\u001b[0m\n",
      "\u001b[34mSM_HPS={\"batch_size\":64,\"learning_rate\":0.013286582820793045}\u001b[0m\n",
      "\u001b[34mSM_USER_ENTRY_POINT=train.py\u001b[0m\n",
      "\u001b[34mSM_FRAMEWORK_PARAMS={}\u001b[0m\n",
      "\u001b[34mSM_RESOURCE_CONFIG={\"current_group_name\":\"homogeneousCluster\",\"current_host\":\"algo-1\",\"current_instance_type\":\"ml.g4dn.xlarge\",\"hosts\":[\"algo-1\"],\"instance_groups\":[{\"hosts\":[\"algo-1\"],\"instance_group_name\":\"homogeneousCluster\",\"instance_type\":\"ml.g4dn.xlarge\"}],\"network_interface_name\":\"eth0\"}\u001b[0m\n",
      "\u001b[34mSM_INPUT_DATA_CONFIG={\"test\":{\"RecordWrapperType\":\"None\",\"S3DistributionType\":\"FullyReplicated\",\"TrainingInputMode\":\"File\"},\"train\":{\"RecordWrapperType\":\"None\",\"S3DistributionType\":\"FullyReplicated\",\"TrainingInputMode\":\"File\"},\"valid\":{\"RecordWrapperType\":\"None\",\"S3DistributionType\":\"FullyReplicated\",\"TrainingInputMode\":\"File\"}}\u001b[0m\n",
      "\u001b[34mSM_OUTPUT_DATA_DIR=/opt/ml/output/data\u001b[0m\n",
      "\u001b[34mSM_CHANNELS=[\"test\",\"train\",\"valid\"]\u001b[0m\n",
      "\u001b[34mSM_CURRENT_HOST=algo-1\u001b[0m\n",
      "\u001b[34mSM_MODULE_NAME=train\u001b[0m\n",
      "\u001b[34mSM_LOG_LEVEL=20\u001b[0m\n",
      "\u001b[34mSM_FRAMEWORK_MODULE=sagemaker_pytorch_container.training:main\u001b[0m\n",
      "\u001b[34mSM_INPUT_DIR=/opt/ml/input\u001b[0m\n",
      "\u001b[34mSM_INPUT_CONFIG_DIR=/opt/ml/input/config\u001b[0m\n",
      "\u001b[34mSM_OUTPUT_DIR=/opt/ml/output\u001b[0m\n",
      "\u001b[34mSM_NUM_CPUS=4\u001b[0m\n",
      "\u001b[34mSM_NUM_GPUS=1\u001b[0m\n",
      "\u001b[34mSM_MODEL_DIR=/opt/ml/model\u001b[0m\n",
      "\u001b[34mSM_MODULE_DIR=s3://sagemaker-us-east-1-262964915389/pytorch-training-2023-04-19-05-44-57-385/source/sourcedir.tar.gz\u001b[0m\n",
      "\u001b[34mSM_TRAINING_ENV={\"additional_framework_parameters\":{},\"channel_input_dirs\":{\"test\":\"/opt/ml/input/data/test\",\"train\":\"/opt/ml/input/data/train\",\"valid\":\"/opt/ml/input/data/valid\"},\"current_host\":\"algo-1\",\"framework_module\":\"sagemaker_pytorch_container.training:main\",\"hosts\":[\"algo-1\"],\"hyperparameters\":{\"batch_size\":64,\"learning_rate\":0.013286582820793045},\"input_config_dir\":\"/opt/ml/input/config\",\"input_data_config\":{\"test\":{\"RecordWrapperType\":\"None\",\"S3DistributionType\":\"FullyReplicated\",\"TrainingInputMode\":\"File\"},\"train\":{\"RecordWrapperType\":\"None\",\"S3DistributionType\":\"FullyReplicated\",\"TrainingInputMode\":\"File\"},\"valid\":{\"RecordWrapperType\":\"None\",\"S3DistributionType\":\"FullyReplicated\",\"TrainingInputMode\":\"File\"}},\"input_dir\":\"/opt/ml/input\",\"is_master\":true,\"job_name\":\"pytorch-training-2023-04-19-05-44-57-385\",\"log_level\":20,\"master_hostname\":\"algo-1\",\"model_dir\":\"/opt/ml/model\",\"module_dir\":\"s3://sagemaker-us-east-1-262964915389/pytorch-training-2023-04-19-05-44-57-385/source/sourcedir.tar.gz\",\"module_name\":\"train\",\"network_interface_name\":\"eth0\",\"num_cpus\":4,\"num_gpus\":1,\"output_data_dir\":\"/opt/ml/output/data\",\"output_dir\":\"/opt/ml/output\",\"output_intermediate_dir\":\"/opt/ml/output/intermediate\",\"resource_config\":{\"current_group_name\":\"homogeneousCluster\",\"current_host\":\"algo-1\",\"current_instance_type\":\"ml.g4dn.xlarge\",\"hosts\":[\"algo-1\"],\"instance_groups\":[{\"hosts\":[\"algo-1\"],\"instance_group_name\":\"homogeneousCluster\",\"instance_type\":\"ml.g4dn.xlarge\"}],\"network_interface_name\":\"eth0\"},\"user_entry_point\":\"train.py\"}\u001b[0m\n",
      "\u001b[34mSM_USER_ARGS=[\"--batch_size\",\"64\",\"--learning_rate\",\"0.013286582820793045\"]\u001b[0m\n",
      "\u001b[34mSM_OUTPUT_INTERMEDIATE_DIR=/opt/ml/output/intermediate\u001b[0m\n",
      "\u001b[34mSM_CHANNEL_TEST=/opt/ml/input/data/test\u001b[0m\n",
      "\u001b[34mSM_CHANNEL_TRAIN=/opt/ml/input/data/train\u001b[0m\n",
      "\u001b[34mSM_CHANNEL_VALID=/opt/ml/input/data/valid\u001b[0m\n",
      "\u001b[34mSM_HP_BATCH_SIZE=64\u001b[0m\n",
      "\u001b[34mSM_HP_LEARNING_RATE=0.013286582820793045\u001b[0m\n",
      "\u001b[34mPYTHONPATH=/opt/ml/code:/opt/conda/bin:/opt/conda/lib/python36.zip:/opt/conda/lib/python3.6:/opt/conda/lib/python3.6/lib-dynload:/opt/conda/lib/python3.6/site-packages\u001b[0m\n",
      "\u001b[34mInvoking script with the following command:\u001b[0m\n",
      "\u001b[34m/opt/conda/bin/python3.6 train.py --batch_size 64 --learning_rate 0.013286582820793045\u001b[0m\n",
      "\u001b[34m[2023-04-19 05:49:59.302 algo-1:28 INFO utils.py:27] RULE_JOB_STOP_SIGNAL_FILENAME: None\u001b[0m\n",
      "\u001b[34m[2023-04-19 05:49:59.339 algo-1:28 INFO profiler_config_parser.py:102] Using config at /opt/ml/input/config/profilerconfig.json.\u001b[0m\n",
      "\u001b[34mArguments: Namespace(batch_size=64, data='/opt/ml/input/data/train', learning_rate=0.013286582820793045, model_dir='/opt/ml/model')\u001b[0m\n",
      "\u001b[34mHP LR: 0.013286582820793045, Batch Size: 64\u001b[0m\n",
      "\u001b[34mPaths: /opt/ml/input/data/train\u001b[0m\n",
      "\u001b[34mCreating hook\u001b[0m\n",
      "\u001b[34m[2023-04-19 05:50:01.855 algo-1:28 INFO json_config.py:91] Creating hook from json_config at /opt/ml/input/config/debughookconfig.json.\u001b[0m\n",
      "\u001b[34m[2023-04-19 05:50:01.856 algo-1:28 INFO hook.py:201] tensorboard_dir has not been set for the hook. SMDebug will not be exporting tensorboard summaries.\u001b[0m\n",
      "\u001b[34m[2023-04-19 05:50:01.858 algo-1:28 INFO hook.py:255] Saving to /opt/ml/output/tensors\u001b[0m\n",
      "\u001b[34m[2023-04-19 05:50:01.858 algo-1:28 INFO state_store.py:77] The checkpoint config file /opt/ml/input/config/checkpointconfig.json does not exist.\u001b[0m\n",
      "\u001b[34m[2023-04-19 05:50:01.923 algo-1:28 INFO hook.py:591] name:fc.0.weight count_params:2097152\u001b[0m\n",
      "\u001b[34m[2023-04-19 05:50:01.924 algo-1:28 INFO hook.py:591] name:fc.0.bias count_params:1024\u001b[0m\n",
      "\u001b[34m[2023-04-19 05:50:01.924 algo-1:28 INFO hook.py:591] name:fc.2.weight count_params:131072\u001b[0m\n",
      "\u001b[34m[2023-04-19 05:50:01.924 algo-1:28 INFO hook.py:591] name:fc.2.bias count_params:128\u001b[0m\n",
      "\u001b[34m[2023-04-19 05:50:01.925 algo-1:28 INFO hook.py:591] name:fc.4.weight count_params:640\u001b[0m\n",
      "\u001b[34m[2023-04-19 05:50:01.925 algo-1:28 INFO hook.py:591] name:fc.4.bias count_params:5\u001b[0m\n",
      "\u001b[34m[2023-04-19 05:50:01.925 algo-1:28 INFO hook.py:593] Total Trainable Params: 2230021\u001b[0m\n",
      "\u001b[34mHook created\u001b[0m\n",
      "\u001b[34mStarting Model Training\u001b[0m\n",
      "\u001b[34mEpoch: 0, Phase: train\u001b[0m\n",
      "\u001b[34m[2023-04-19 05:50:02.204 algo-1:28 INFO hook.py:425] Monitoring the collections: gradients, relu_input, losses\u001b[0m\n",
      "\u001b[34m[2023-04-19 05:50:02.205 algo-1:28 INFO python_profiler.py:182] Dumping cProfile stats to /opt/ml/output/profiler/framework/pytorch/cprofile/28-algo-1/prestepzero-*-start-1681883399339663.5_train-0-stepstart-1681883402205318.0/python_stats.\u001b[0m\n",
      "\u001b[34m[2023-04-19 05:50:02.219 algo-1:28 INFO hook.py:488] Hook is writing from the hook with pid: 28\u001b[0m\n",
      "\u001b[34m[2023-04-19 05:50:17.134 algo-1:28 INFO python_profiler.py:182] Dumping cProfile stats to /opt/ml/output/profiler/framework/pytorch/cprofile/28-algo-1/train-0-stepstart-1681883402217677.2_train-0-forwardpassend-1681883417134532.2/python_stats.\u001b[0m\n",
      "\u001b[34mEpoch 0, Phase train, Images [64/6267 (1%)] Loss: 103.98 Accuracy: 16.0/64 (25.00%)\u001b[0m\n",
      "\u001b[34m[2023-04-19 05:50:17.423 algo-1:28 INFO python_profiler.py:182] Dumping cProfile stats to /opt/ml/output/profiler/framework/pytorch/cprofile/28-algo-1/train-0-forwardpassend-1681883417138421.5_train-1-stepstart-1681883417423369.2/python_stats.\u001b[0m\n",
      "\u001b[34mEpoch 0, Phase train, Images [128/6267 (2%)] Loss: 4941.78 Accuracy: 34.0/128 (26.56%)\u001b[0m\n",
      "\u001b[34mEpoch 0, Phase train, Images [192/6267 (3%)] Loss: 1139.58 Accuracy: 47.0/192 (24.48%)\u001b[0m\n",
      "\u001b[34mEpoch 0, Phase train, Images [256/6267 (4%)] Loss: 932.35 Accuracy: 64.0/256 (25.00%)\u001b[0m\n",
      "\u001b[34mEpoch 0, Phase train, Images [320/6267 (5%)] Loss: 454.30 Accuracy: 78.0/320 (24.38%)\u001b[0m\n",
      "\u001b[34mEpoch 0, Phase train, Images [384/6267 (6%)] Loss: 427.55 Accuracy: 82.0/384 (21.35%)\u001b[0m\n",
      "\u001b[34mEpoch 0, Phase train, Images [448/6267 (7%)] Loss: 157.29 Accuracy: 86.0/448 (19.20%)\u001b[0m\n",
      "\u001b[34mEpoch 0, Phase train, Images [512/6267 (8%)] Loss: 125.80 Accuracy: 102.0/512 (19.92%)\u001b[0m\n",
      "\u001b[34mEpoch 0, Phase train, Images [576/6267 (9%)] Loss: 98.20 Accuracy: 122.0/576 (21.18%)\u001b[0m\n",
      "\u001b[34mEpoch 0, Phase train, Images [640/6267 (10%)] Loss: 103.15 Accuracy: 140.0/640 (21.88%)\u001b[0m\n",
      "\u001b[34mEpoch 0, Phase train, Images [704/6267 (11%)] Loss: 107.95 Accuracy: 152.0/704 (21.59%)\u001b[0m\n",
      "\u001b[34mEpoch 0, Phase train, Images [768/6267 (12%)] Loss: 101.44 Accuracy: 169.0/768 (22.01%)\u001b[0m\n",
      "\u001b[34mEpoch 0, Phase train, Images [832/6267 (13%)] Loss: 105.63 Accuracy: 186.0/832 (22.36%)\u001b[0m\n",
      "\u001b[34mEpoch 0, Phase train, Images [896/6267 (14%)] Loss: 97.00 Accuracy: 208.0/896 (23.21%)\u001b[0m\n",
      "\u001b[34mEpoch 0, Phase train, Images [960/6267 (15%)] Loss: 106.25 Accuracy: 226.0/960 (23.54%)\u001b[0m\n",
      "\u001b[34mEpoch 0, Phase train, Images [1024/6267 (16%)] Loss: 107.99 Accuracy: 242.0/1024 (23.63%)\u001b[0m\n",
      "\u001b[34mEpoch 0, Phase train, Images [1088/6267 (17%)] Loss: 105.71 Accuracy: 255.0/1088 (23.44%)\u001b[0m\n",
      "\u001b[34mEpoch 0, Phase train, Images [1152/6267 (18%)] Loss: 99.89 Accuracy: 278.0/1152 (24.13%)\u001b[0m\n",
      "\u001b[34mEpoch 0, Phase train, Images [1216/6267 (19%)] Loss: 101.39 Accuracy: 298.0/1216 (24.51%)\u001b[0m\n",
      "\u001b[34mEpoch 0, Phase train, Images [1280/6267 (20%)] Loss: 103.78 Accuracy: 318.0/1280 (24.84%)\u001b[0m\n",
      "\u001b[34mEpoch 0, Phase train, Images [1344/6267 (21%)] Loss: 108.17 Accuracy: 331.0/1344 (24.63%)\u001b[0m\n",
      "\u001b[34mEpoch 0, Phase train, Images [1408/6267 (22%)] Loss: 110.42 Accuracy: 339.0/1408 (24.08%)\u001b[0m\n",
      "\u001b[34mEpoch 0, Phase train, Images [1472/6267 (23%)] Loss: 104.15 Accuracy: 355.0/1472 (24.12%)\u001b[0m\n",
      "\u001b[34mEpoch 0, Phase train, Images [1536/6267 (25%)] Loss: 100.24 Accuracy: 376.0/1536 (24.48%)\u001b[0m\n",
      "\u001b[34mEpoch 0, Phase train, Images [1600/6267 (26%)] Loss: 105.75 Accuracy: 391.0/1600 (24.44%)\u001b[0m\n",
      "\u001b[34mEpoch 0, Phase train, Images [1664/6267 (27%)] Loss: 106.39 Accuracy: 407.0/1664 (24.46%)\u001b[0m\n",
      "\u001b[34mEpoch 0, Phase train, Images [1728/6267 (28%)] Loss: 102.18 Accuracy: 426.0/1728 (24.65%)\u001b[0m\n",
      "\u001b[34mEpoch 0, Phase train, Images [1792/6267 (29%)] Loss: 104.56 Accuracy: 440.0/1792 (24.55%)\u001b[0m\n",
      "\u001b[34mEpoch 0, Phase train, Images [1856/6267 (30%)] Loss: 105.00 Accuracy: 451.0/1856 (24.30%)\u001b[0m\n",
      "\u001b[34mEpoch 0, Phase train, Images [1920/6267 (31%)] Loss: 104.43 Accuracy: 465.0/1920 (24.22%)\u001b[0m\n",
      "\u001b[34mEpoch 0, Phase train, Images [1984/6267 (32%)] Loss: 105.99 Accuracy: 478.0/1984 (24.09%)\u001b[0m\n",
      "\u001b[34mEpoch 0, Phase train, Images [2048/6267 (33%)] Loss: 102.53 Accuracy: 498.0/2048 (24.32%)\u001b[0m\n",
      "\u001b[34mEpoch 0, Phase train, Images [2112/6267 (34%)] Loss: 103.21 Accuracy: 514.0/2112 (24.34%)\u001b[0m\n",
      "\u001b[34mEpoch 0, Phase train, Images [2176/6267 (35%)] Loss: 101.78 Accuracy: 531.0/2176 (24.40%)\u001b[0m\n",
      "\u001b[34mEpoch 0, Phase train, Images [2240/6267 (36%)] Loss: 97.39 Accuracy: 557.0/2240 (24.87%)\u001b[0m\n",
      "\u001b[34mEpoch 0, Phase train, Images [2304/6267 (37%)] Loss: 104.16 Accuracy: 578.0/2304 (25.09%)\u001b[0m\n",
      "\u001b[34mEpoch 0, Phase train, Images [2368/6267 (38%)] Loss: 100.47 Accuracy: 596.0/2368 (25.17%)\u001b[0m\n",
      "\u001b[34mEpoch 0, Phase train, Images [2432/6267 (39%)] Loss: 102.49 Accuracy: 608.0/2432 (25.00%)\u001b[0m\n",
      "\u001b[34mEpoch 0, Phase train, Images [2496/6267 (40%)] Loss: 100.67 Accuracy: 622.0/2496 (24.92%)\u001b[0m\n",
      "\u001b[34mEpoch 0, Phase train, Images [2560/6267 (41%)] Loss: 98.46 Accuracy: 639.0/2560 (24.96%)\u001b[0m\n",
      "\u001b[34mEpoch 0, Phase train, Images [2624/6267 (42%)] Loss: 103.94 Accuracy: 653.0/2624 (24.89%)\u001b[0m\n",
      "\u001b[34mEpoch 0, Phase train, Images [2688/6267 (43%)] Loss: 106.63 Accuracy: 662.0/2688 (24.63%)\u001b[0m\n",
      "\u001b[34mEpoch 0, Phase train, Images [2752/6267 (44%)] Loss: 106.32 Accuracy: 674.0/2752 (24.49%)\u001b[0m\n",
      "\u001b[34mEpoch 0, Phase train, Images [2816/6267 (45%)] Loss: 102.93 Accuracy: 688.0/2816 (24.43%)\u001b[0m\n",
      "VanishingGradient: InProgress\n",
      "Overfit: InProgress\n",
      "Overtraining: InProgress\n",
      "PoorWeightInitialization: IssuesFound\n",
      "\u001b[34mEpoch 0, Phase train, Images [2880/6267 (46%)] Loss: 99.92 Accuracy: 707.0/2880 (24.55%)\u001b[0m\n",
      "\u001b[34mEpoch 0, Phase train, Images [2944/6267 (47%)] Loss: 100.63 Accuracy: 722.0/2944 (24.52%)\u001b[0m\n",
      "\u001b[34mEpoch 0, Phase train, Images [3008/6267 (48%)] Loss: 103.98 Accuracy: 736.0/3008 (24.47%)\u001b[0m\n",
      "\u001b[34mEpoch 0, Phase train, Images [3072/6267 (49%)] Loss: 102.32 Accuracy: 749.0/3072 (24.38%)\u001b[0m\n",
      "\u001b[34mEpoch 0, Phase train, Images [3136/6267 (50%)] Loss: 103.16 Accuracy: 764.0/3136 (24.36%)\u001b[0m\n",
      "\u001b[34mEpoch 0, Phase train, Images [3200/6267 (51%)] Loss: 100.54 Accuracy: 780.0/3200 (24.38%)\u001b[0m\n",
      "\u001b[34mEpoch 0, Phase train, Images [3264/6267 (52%)] Loss: 104.56 Accuracy: 793.0/3264 (24.30%)\u001b[0m\n",
      "\u001b[34mEpoch 0, Phase train, Images [3328/6267 (53%)] Loss: 101.67 Accuracy: 803.0/3328 (24.13%)\u001b[0m\n",
      "\u001b[34mEpoch 0, Phase train, Images [3392/6267 (54%)] Loss: 106.38 Accuracy: 817.0/3392 (24.09%)\u001b[0m\n",
      "\u001b[34mEpoch 0, Phase train, Images [3456/6267 (55%)] Loss: 102.40 Accuracy: 834.0/3456 (24.13%)\u001b[0m\n",
      "\u001b[34mEpoch 0, Phase train, Images [3520/6267 (56%)] Loss: 104.21 Accuracy: 851.0/3520 (24.18%)\u001b[0m\n",
      "\u001b[34mEpoch 0, Phase train, Images [3584/6267 (57%)] Loss: 102.77 Accuracy: 866.0/3584 (24.16%)\u001b[0m\n",
      "\u001b[34mEpoch 0, Phase train, Images [3648/6267 (58%)] Loss: 104.93 Accuracy: 874.0/3648 (23.96%)\u001b[0m\n",
      "\u001b[34mEpoch 0, Phase train, Images [3712/6267 (59%)] Loss: 101.18 Accuracy: 899.0/3712 (24.22%)\u001b[0m\n",
      "\u001b[34mEpoch 0, Phase train, Images [3776/6267 (60%)] Loss: 103.83 Accuracy: 914.0/3776 (24.21%)\u001b[0m\n",
      "\u001b[34mEpoch 0, Phase train, Images [3840/6267 (61%)] Loss: 104.35 Accuracy: 927.0/3840 (24.14%)\u001b[0m\n",
      "\u001b[34mEpoch 0, Phase train, Images [3904/6267 (62%)] Loss: 103.47 Accuracy: 941.0/3904 (24.10%)\u001b[0m\n",
      "\u001b[34mEpoch 0, Phase train, Images [3968/6267 (63%)] Loss: 100.89 Accuracy: 963.0/3968 (24.27%)\u001b[0m\n",
      "\u001b[34mEpoch 0, Phase train, Images [4032/6267 (64%)] Loss: 100.50 Accuracy: 978.0/4032 (24.26%)\u001b[0m\n",
      "\u001b[34mEpoch 0, Phase train, Images [4096/6267 (65%)] Loss: 102.33 Accuracy: 995.0/4096 (24.29%)\u001b[0m\n",
      "\u001b[34mEpoch 0, Phase train, Images [4160/6267 (66%)] Loss: 103.60 Accuracy: 1009.0/4160 (24.25%)\u001b[0m\n",
      "\u001b[34mEpoch 0, Phase train, Images [4224/6267 (67%)] Loss: 99.93 Accuracy: 1028.0/4224 (24.34%)\u001b[0m\n",
      "\u001b[34mEpoch 0, Phase train, Images [4288/6267 (68%)] Loss: 103.38 Accuracy: 1040.0/4288 (24.25%)\u001b[0m\n",
      "\u001b[34mEpoch 0, Phase train, Images [4352/6267 (69%)] Loss: 102.34 Accuracy: 1055.0/4352 (24.24%)\u001b[0m\n",
      "\u001b[34mEpoch 0, Phase train, Images [4416/6267 (70%)] Loss: 103.00 Accuracy: 1067.0/4416 (24.16%)\u001b[0m\n",
      "\u001b[34mEpoch 0, Phase train, Images [4480/6267 (71%)] Loss: 102.75 Accuracy: 1086.0/4480 (24.24%)\u001b[0m\n",
      "\u001b[34mEpoch 0, Phase train, Images [4544/6267 (73%)] Loss: 101.00 Accuracy: 1101.0/4544 (24.23%)\u001b[0m\n",
      "\u001b[34mEpoch 0, Phase train, Images [4608/6267 (74%)] Loss: 100.39 Accuracy: 1119.0/4608 (24.28%)\u001b[0m\n",
      "\u001b[34mEpoch 0, Phase train, Images [4672/6267 (75%)] Loss: 103.43 Accuracy: 1131.0/4672 (24.21%)\u001b[0m\n",
      "\u001b[34mEpoch 0, Phase train, Images [4736/6267 (76%)] Loss: 103.32 Accuracy: 1142.0/4736 (24.11%)\u001b[0m\n",
      "\u001b[34mEpoch 0, Phase train, Images [4800/6267 (77%)] Loss: 99.09 Accuracy: 1162.0/4800 (24.21%)\u001b[0m\n",
      "\u001b[34mEpoch 0, Phase train, Images [4864/6267 (78%)] Loss: 97.14 Accuracy: 1184.0/4864 (24.34%)\u001b[0m\n",
      "\u001b[34mEpoch 0, Phase train, Images [4928/6267 (79%)] Loss: 101.57 Accuracy: 1204.0/4928 (24.43%)\u001b[0m\n",
      "\u001b[34mEpoch 0, Phase train, Images [4992/6267 (80%)] Loss: 98.30 Accuracy: 1229.0/4992 (24.62%)\u001b[0m\n",
      "\u001b[34mEpoch 0, Phase train, Images [5056/6267 (81%)] Loss: 107.79 Accuracy: 1246.0/5056 (24.64%)\u001b[0m\n",
      "\u001b[34mEpoch 0, Phase train, Images [5120/6267 (82%)] Loss: 107.25 Accuracy: 1259.0/5120 (24.59%)\u001b[0m\n",
      "\u001b[34mEpoch 0, Phase train, Images [5184/6267 (83%)] Loss: 105.19 Accuracy: 1270.0/5184 (24.50%)\u001b[0m\n",
      "\u001b[34mEpoch 0, Phase train, Images [5248/6267 (84%)] Loss: 99.37 Accuracy: 1290.0/5248 (24.58%)\u001b[0m\n",
      "\u001b[34mEpoch 0, Phase train, Images [5312/6267 (85%)] Loss: 102.89 Accuracy: 1304.0/5312 (24.55%)\u001b[0m\n",
      "\u001b[34mEpoch 0, Phase train, Images [5376/6267 (86%)] Loss: 102.15 Accuracy: 1326.0/5376 (24.67%)\u001b[0m\n",
      "\u001b[34mEpoch 0, Phase train, Images [5440/6267 (87%)] Loss: 100.97 Accuracy: 1343.0/5440 (24.69%)\u001b[0m\n",
      "\u001b[34mEpoch 0, Phase train, Images [5504/6267 (88%)] Loss: 99.41 Accuracy: 1360.0/5504 (24.71%)\u001b[0m\n",
      "\u001b[34mEpoch 0, Phase train, Images [5568/6267 (89%)] Loss: 99.62 Accuracy: 1383.0/5568 (24.84%)\u001b[0m\n",
      "\u001b[34mEpoch 0, Phase train, Images [5632/6267 (90%)] Loss: 102.27 Accuracy: 1392.0/5632 (24.72%)\u001b[0m\n",
      "\u001b[34mEpoch 0, Phase train, Images [5696/6267 (91%)] Loss: 101.42 Accuracy: 1411.0/5696 (24.77%)\u001b[0m\n",
      "\u001b[34mEpoch 0, Phase train, Images [5760/6267 (92%)] Loss: 100.61 Accuracy: 1428.0/5760 (24.79%)\u001b[0m\n",
      "\u001b[34mEpoch 0, Phase train, Images [5824/6267 (93%)] Loss: 100.67 Accuracy: 1447.0/5824 (24.85%)\u001b[0m\n",
      "\u001b[34mEpoch 0, Phase train, Images [5888/6267 (94%)] Loss: 103.56 Accuracy: 1462.0/5888 (24.83%)\u001b[0m\n",
      "\u001b[34mEpoch 0, Phase train, Images [5952/6267 (95%)] Loss: 102.45 Accuracy: 1472.0/5952 (24.73%)\u001b[0m\n",
      "\u001b[34mEpoch 0, Phase train, Images [6016/6267 (96%)] Loss: 100.05 Accuracy: 1491.0/6016 (24.78%)\u001b[0m\n",
      "\u001b[34mEpoch 0, Phase train, Images [6080/6267 (97%)] Loss: 97.50 Accuracy: 1513.0/6080 (24.88%)\u001b[0m\n",
      "\u001b[34mEpoch 0, Phase train, Images [6144/6267 (98%)] Loss: 102.67 Accuracy: 1529.0/6144 (24.89%)\u001b[0m\n",
      "\u001b[34mEpoch 0, Phase train, Images [6208/6267 (99%)] Loss: 98.83 Accuracy: 1546.0/6208 (24.90%)\u001b[0m\n",
      "\u001b[34mEpoch 0, Phase train, Images [6267/6267 (100%)] Loss: 90.51 Accuracy: 1561.0/6267 (24.91%)\u001b[0m\n",
      "\u001b[34mtrain loss: 0.0144, acc: 0.2491, best loss: 1000000.0000\u001b[0m\n",
      "\u001b[34mEpoch: 0, Phase: valid\u001b[0m\n",
      "\u001b[34mEpoch 0, Phase valid, Images [64/2086 (3%)] Loss: 99.11 Accuracy: 16.0/64 (25.00%)\u001b[0m\n",
      "\u001b[34mEpoch 0, Phase valid, Images [128/2086 (6%)] Loss: 102.87 Accuracy: 31.0/128 (24.22%)\u001b[0m\n",
      "\u001b[34mEpoch 0, Phase valid, Images [192/2086 (9%)] Loss: 99.44 Accuracy: 48.0/192 (25.00%)\u001b[0m\n",
      "\u001b[34mEpoch 0, Phase valid, Images [256/2086 (12%)] Loss: 101.95 Accuracy: 59.0/256 (23.05%)\u001b[0m\n",
      "\u001b[34mEpoch 0, Phase valid, Images [320/2086 (15%)] Loss: 99.19 Accuracy: 81.0/320 (25.31%)\u001b[0m\n",
      "\u001b[34mEpoch 0, Phase valid, Images [384/2086 (18%)] Loss: 99.65 Accuracy: 99.0/384 (25.78%)\u001b[0m\n",
      "\u001b[34mEpoch 0, Phase valid, Images [448/2086 (21%)] Loss: 99.92 Accuracy: 120.0/448 (26.79%)\u001b[0m\n",
      "\u001b[34mEpoch 0, Phase valid, Images [512/2086 (25%)] Loss: 100.20 Accuracy: 136.0/512 (26.56%)\u001b[0m\n",
      "\u001b[34mEpoch 0, Phase valid, Images [576/2086 (28%)] Loss: 100.17 Accuracy: 146.0/576 (25.35%)\u001b[0m\n",
      "\u001b[34mEpoch 0, Phase valid, Images [640/2086 (31%)] Loss: 101.22 Accuracy: 164.0/640 (25.62%)\u001b[0m\n",
      "\u001b[34mEpoch 0, Phase valid, Images [704/2086 (34%)] Loss: 99.03 Accuracy: 178.0/704 (25.28%)\u001b[0m\n",
      "\u001b[34mEpoch 0, Phase valid, Images [768/2086 (37%)] Loss: 100.07 Accuracy: 197.0/768 (25.65%)\u001b[0m\n",
      "\u001b[34mEpoch 0, Phase valid, Images [832/2086 (40%)] Loss: 99.38 Accuracy: 213.0/832 (25.60%)\u001b[0m\n",
      "\u001b[34mEpoch 0, Phase valid, Images [896/2086 (43%)] Loss: 101.04 Accuracy: 230.0/896 (25.67%)\u001b[0m\n",
      "\u001b[34mEpoch 0, Phase valid, Images [960/2086 (46%)] Loss: 98.00 Accuracy: 247.0/960 (25.73%)\u001b[0m\n",
      "\u001b[34mEpoch 0, Phase valid, Images [1024/2086 (49%)] Loss: 101.92 Accuracy: 265.0/1024 (25.88%)\u001b[0m\n",
      "\u001b[34mEpoch 0, Phase valid, Images [1088/2086 (52%)] Loss: 101.16 Accuracy: 277.0/1088 (25.46%)\u001b[0m\n",
      "\u001b[34mEpoch 0, Phase valid, Images [1152/2086 (55%)] Loss: 97.98 Accuracy: 300.0/1152 (26.04%)\u001b[0m\n",
      "\u001b[34mEpoch 0, Phase valid, Images [1216/2086 (58%)] Loss: 100.22 Accuracy: 319.0/1216 (26.23%)\u001b[0m\n",
      "\u001b[34mEpoch 0, Phase valid, Images [1280/2086 (61%)] Loss: 103.22 Accuracy: 340.0/1280 (26.56%)\u001b[0m\n",
      "\u001b[34mEpoch 0, Phase valid, Images [1344/2086 (64%)] Loss: 101.52 Accuracy: 358.0/1344 (26.64%)\u001b[0m\n",
      "\u001b[34mEpoch 0, Phase valid, Images [1408/2086 (67%)] Loss: 98.64 Accuracy: 380.0/1408 (26.99%)\u001b[0m\n",
      "\u001b[34mEpoch 0, Phase valid, Images [1472/2086 (71%)] Loss: 98.52 Accuracy: 399.0/1472 (27.11%)\u001b[0m\n",
      "\u001b[34mEpoch 0, Phase valid, Images [1536/2086 (74%)] Loss: 98.49 Accuracy: 417.0/1536 (27.15%)\u001b[0m\n",
      "\u001b[34mEpoch 0, Phase valid, Images [1600/2086 (77%)] Loss: 100.24 Accuracy: 431.0/1600 (26.94%)\u001b[0m\n",
      "\u001b[34mEpoch 0, Phase valid, Images [1664/2086 (80%)] Loss: 102.01 Accuracy: 448.0/1664 (26.92%)\u001b[0m\n",
      "\u001b[34mEpoch 0, Phase valid, Images [1728/2086 (83%)] Loss: 100.61 Accuracy: 464.0/1728 (26.85%)\u001b[0m\n",
      "\u001b[34mEpoch 0, Phase valid, Images [1792/2086 (86%)] Loss: 98.79 Accuracy: 483.0/1792 (26.95%)\u001b[0m\n",
      "\u001b[34mEpoch 0, Phase valid, Images [1856/2086 (89%)] Loss: 98.01 Accuracy: 501.0/1856 (26.99%)\u001b[0m\n",
      "\u001b[34mEpoch 0, Phase valid, Images [1920/2086 (92%)] Loss: 100.82 Accuracy: 515.0/1920 (26.82%)\u001b[0m\n",
      "\u001b[34mEpoch 0, Phase valid, Images [1984/2086 (95%)] Loss: 97.79 Accuracy: 535.0/1984 (26.97%)\u001b[0m\n",
      "\u001b[34mEpoch 0, Phase valid, Images [2048/2086 (98%)] Loss: 102.85 Accuracy: 553.0/2048 (27.00%)\u001b[0m\n",
      "\u001b[34mEpoch 0, Phase valid, Images [2086/2086 (100%)] Loss: 59.82 Accuracy: 567.0/2086 (27.18%)\u001b[0m\n",
      "\u001b[34mvalid loss: 0.0287, acc: 0.2718, best loss: 0.0287\u001b[0m\n",
      "\u001b[34mEpoch: 1, Phase: train\u001b[0m\n",
      "\u001b[34mEpoch 1, Phase train, Images [64/6267 (1%)] Loss: 99.35 Accuracy: 20.0/64 (31.25%)\u001b[0m\n",
      "\u001b[34mEpoch 1, Phase train, Images [128/6267 (2%)] Loss: 101.74 Accuracy: 40.0/128 (31.25%)\u001b[0m\n",
      "\u001b[34mEpoch 1, Phase train, Images [192/6267 (3%)] Loss: 97.72 Accuracy: 54.0/192 (28.12%)\u001b[0m\n",
      "\u001b[34mEpoch 1, Phase train, Images [256/6267 (4%)] Loss: 99.56 Accuracy: 69.0/256 (26.95%)\u001b[0m\n",
      "\u001b[34mEpoch 1, Phase train, Images [320/6267 (5%)] Loss: 101.03 Accuracy: 85.0/320 (26.56%)\u001b[0m\n",
      "\u001b[34mEpoch 1, Phase train, Images [384/6267 (6%)] Loss: 102.89 Accuracy: 101.0/384 (26.30%)\u001b[0m\n",
      "\u001b[34mEpoch 1, Phase train, Images [448/6267 (7%)] Loss: 100.13 Accuracy: 117.0/448 (26.12%)\u001b[0m\n",
      "\u001b[34mEpoch 1, Phase train, Images [512/6267 (8%)] Loss: 98.09 Accuracy: 133.0/512 (25.98%)\u001b[0m\n",
      "\u001b[34mEpoch 1, Phase train, Images [576/6267 (9%)] Loss: 102.87 Accuracy: 150.0/576 (26.04%)\u001b[0m\n",
      "\u001b[34mEpoch 1, Phase train, Images [640/6267 (10%)] Loss: 97.99 Accuracy: 170.0/640 (26.56%)\u001b[0m\n",
      "\u001b[34mEpoch 1, Phase train, Images [704/6267 (11%)] Loss: 100.96 Accuracy: 185.0/704 (26.28%)\u001b[0m\n",
      "\u001b[34mEpoch 1, Phase train, Images [768/6267 (12%)] Loss: 99.78 Accuracy: 198.0/768 (25.78%)\u001b[0m\n",
      "\u001b[34mEpoch 1, Phase train, Images [832/6267 (13%)] Loss: 100.56 Accuracy: 217.0/832 (26.08%)\u001b[0m\n",
      "\u001b[34mEpoch 1, Phase train, Images [896/6267 (14%)] Loss: 97.04 Accuracy: 234.0/896 (26.12%)\u001b[0m\n",
      "\u001b[34mEpoch 1, Phase train, Images [960/6267 (15%)] Loss: 96.11 Accuracy: 251.0/960 (26.15%)\u001b[0m\n",
      "\u001b[34mEpoch 1, Phase train, Images [1024/6267 (16%)] Loss: 94.86 Accuracy: 270.0/1024 (26.37%)\u001b[0m\n",
      "VanishingGradient: InProgress\n",
      "Overfit: InProgress\n",
      "Overtraining: IssuesFound\n",
      "PoorWeightInitialization: IssuesFound\n",
      "\u001b[34mEpoch 1, Phase train, Images [1088/6267 (17%)] Loss: 103.10 Accuracy: 287.0/1088 (26.38%)\u001b[0m\n",
      "\u001b[34mEpoch 1, Phase train, Images [1152/6267 (18%)] Loss: 96.86 Accuracy: 310.0/1152 (26.91%)\u001b[0m\n",
      "\u001b[34mEpoch 1, Phase train, Images [1216/6267 (19%)] Loss: 96.58 Accuracy: 328.0/1216 (26.97%)\u001b[0m\n",
      "\u001b[34mEpoch 1, Phase train, Images [1280/6267 (20%)] Loss: 98.72 Accuracy: 340.0/1280 (26.56%)\u001b[0m\n",
      "\u001b[34mEpoch 1, Phase train, Images [1344/6267 (21%)] Loss: 104.38 Accuracy: 353.0/1344 (26.26%)\u001b[0m\n",
      "\u001b[34mEpoch 1, Phase train, Images [1408/6267 (22%)] Loss: 98.43 Accuracy: 369.0/1408 (26.21%)\u001b[0m\n",
      "\u001b[34mEpoch 1, Phase train, Images [1472/6267 (23%)] Loss: 94.62 Accuracy: 388.0/1472 (26.36%)\u001b[0m\n",
      "\u001b[34mEpoch 1, Phase train, Images [1536/6267 (25%)] Loss: 101.19 Accuracy: 409.0/1536 (26.63%)\u001b[0m\n",
      "\u001b[34mEpoch 1, Phase train, Images [1600/6267 (26%)] Loss: 94.43 Accuracy: 426.0/1600 (26.63%)\u001b[0m\n",
      "\u001b[34mEpoch 1, Phase train, Images [1664/6267 (27%)] Loss: 98.27 Accuracy: 444.0/1664 (26.68%)\u001b[0m\n",
      "\u001b[34mEpoch 1, Phase train, Images [1728/6267 (28%)] Loss: 99.98 Accuracy: 460.0/1728 (26.62%)\u001b[0m\n",
      "\u001b[34mEpoch 1, Phase train, Images [1792/6267 (29%)] Loss: 97.47 Accuracy: 477.0/1792 (26.62%)\u001b[0m\n",
      "\u001b[34mEpoch 1, Phase train, Images [1856/6267 (30%)] Loss: 97.49 Accuracy: 492.0/1856 (26.51%)\u001b[0m\n",
      "\u001b[34mEpoch 1, Phase train, Images [1920/6267 (31%)] Loss: 103.12 Accuracy: 510.0/1920 (26.56%)\u001b[0m\n",
      "\u001b[34mEpoch 1, Phase train, Images [1984/6267 (32%)] Loss: 103.79 Accuracy: 524.0/1984 (26.41%)\u001b[0m\n",
      "\u001b[34mEpoch 1, Phase train, Images [2048/6267 (33%)] Loss: 95.07 Accuracy: 544.0/2048 (26.56%)\u001b[0m\n",
      "\u001b[34mEpoch 1, Phase train, Images [2112/6267 (34%)] Loss: 100.70 Accuracy: 557.0/2112 (26.37%)\u001b[0m\n",
      "\u001b[34mEpoch 1, Phase train, Images [2176/6267 (35%)] Loss: 97.27 Accuracy: 577.0/2176 (26.52%)\u001b[0m\n",
      "\u001b[34mEpoch 1, Phase train, Images [2240/6267 (36%)] Loss: 97.98 Accuracy: 597.0/2240 (26.65%)\u001b[0m\n",
      "\u001b[34mEpoch 1, Phase train, Images [2304/6267 (37%)] Loss: 96.02 Accuracy: 618.0/2304 (26.82%)\u001b[0m\n",
      "\u001b[34mEpoch 1, Phase train, Images [2368/6267 (38%)] Loss: 99.39 Accuracy: 633.0/2368 (26.73%)\u001b[0m\n",
      "\u001b[34mEpoch 1, Phase train, Images [2432/6267 (39%)] Loss: 105.80 Accuracy: 644.0/2432 (26.48%)\u001b[0m\n",
      "\u001b[34mEpoch 1, Phase train, Images [2496/6267 (40%)] Loss: 96.36 Accuracy: 663.0/2496 (26.56%)\u001b[0m\n",
      "\u001b[34mEpoch 1, Phase train, Images [2560/6267 (41%)] Loss: 99.59 Accuracy: 676.0/2560 (26.41%)\u001b[0m\n",
      "\u001b[34mEpoch 1, Phase train, Images [2624/6267 (42%)] Loss: 93.56 Accuracy: 695.0/2624 (26.49%)\u001b[0m\n",
      "\u001b[34mEpoch 1, Phase train, Images [2688/6267 (43%)] Loss: 102.01 Accuracy: 710.0/2688 (26.41%)\u001b[0m\n",
      "\u001b[34mEpoch 1, Phase train, Images [2752/6267 (44%)] Loss: 99.80 Accuracy: 731.0/2752 (26.56%)\u001b[0m\n",
      "\u001b[34mEpoch 1, Phase train, Images [2816/6267 (45%)] Loss: 101.15 Accuracy: 751.0/2816 (26.67%)\u001b[0m\n",
      "\u001b[34mEpoch 1, Phase train, Images [2880/6267 (46%)] Loss: 92.63 Accuracy: 772.0/2880 (26.81%)\u001b[0m\n",
      "\u001b[34mEpoch 1, Phase train, Images [2944/6267 (47%)] Loss: 89.27 Accuracy: 798.0/2944 (27.11%)\u001b[0m\n",
      "\u001b[34mEpoch 1, Phase train, Images [3008/6267 (48%)] Loss: 98.03 Accuracy: 813.0/3008 (27.03%)\u001b[0m\n",
      "\u001b[34mEpoch 1, Phase train, Images [3072/6267 (49%)] Loss: 100.80 Accuracy: 824.0/3072 (26.82%)\u001b[0m\n",
      "\u001b[34mEpoch 1, Phase train, Images [3136/6267 (50%)] Loss: 100.85 Accuracy: 843.0/3136 (26.88%)\u001b[0m\n",
      "\u001b[34mEpoch 1, Phase train, Images [3200/6267 (51%)] Loss: 93.31 Accuracy: 863.0/3200 (26.97%)\u001b[0m\n",
      "\u001b[34mEpoch 1, Phase train, Images [3264/6267 (52%)] Loss: 104.23 Accuracy: 883.0/3264 (27.05%)\u001b[0m\n",
      "\u001b[34mEpoch 1, Phase train, Images [3328/6267 (53%)] Loss: 104.15 Accuracy: 897.0/3328 (26.95%)\u001b[0m\n",
      "\u001b[34mEpoch 1, Phase train, Images [3392/6267 (54%)] Loss: 104.37 Accuracy: 909.0/3392 (26.80%)\u001b[0m\n",
      "\u001b[34mEpoch 1, Phase train, Images [3456/6267 (55%)] Loss: 101.06 Accuracy: 932.0/3456 (26.97%)\u001b[0m\n",
      "\u001b[34mEpoch 1, Phase train, Images [3520/6267 (56%)] Loss: 100.26 Accuracy: 948.0/3520 (26.93%)\u001b[0m\n",
      "\u001b[34mEpoch 1, Phase train, Images [3584/6267 (57%)] Loss: 100.70 Accuracy: 960.0/3584 (26.79%)\u001b[0m\n",
      "\u001b[34mEpoch 1, Phase train, Images [3648/6267 (58%)] Loss: 93.99 Accuracy: 983.0/3648 (26.95%)\u001b[0m\n",
      "\u001b[34mEpoch 1, Phase train, Images [3712/6267 (59%)] Loss: 94.65 Accuracy: 1005.0/3712 (27.07%)\u001b[0m\n",
      "\u001b[34mEpoch 1, Phase train, Images [3776/6267 (60%)] Loss: 101.03 Accuracy: 1020.0/3776 (27.01%)\u001b[0m\n",
      "\u001b[34mEpoch 1, Phase train, Images [3840/6267 (61%)] Loss: 98.68 Accuracy: 1036.0/3840 (26.98%)\u001b[0m\n",
      "\u001b[34mEpoch 1, Phase train, Images [3904/6267 (62%)] Loss: 99.76 Accuracy: 1051.0/3904 (26.92%)\u001b[0m\n",
      "\u001b[34mEpoch 1, Phase train, Images [3968/6267 (63%)] Loss: 105.14 Accuracy: 1070.0/3968 (26.97%)\u001b[0m\n",
      "\u001b[34mEpoch 1, Phase train, Images [4032/6267 (64%)] Loss: 95.13 Accuracy: 1099.0/4032 (27.26%)\u001b[0m\n",
      "\u001b[34mEpoch 1, Phase train, Images [4096/6267 (65%)] Loss: 102.55 Accuracy: 1114.0/4096 (27.20%)\u001b[0m\n",
      "\u001b[34mEpoch 1, Phase train, Images [4160/6267 (66%)] Loss: 99.39 Accuracy: 1133.0/4160 (27.24%)\u001b[0m\n",
      "\u001b[34mEpoch 1, Phase train, Images [4224/6267 (67%)] Loss: 100.45 Accuracy: 1147.0/4224 (27.15%)\u001b[0m\n",
      "\u001b[34mEpoch 1, Phase train, Images [4288/6267 (68%)] Loss: 98.57 Accuracy: 1166.0/4288 (27.19%)\u001b[0m\n",
      "\u001b[34mEpoch 1, Phase train, Images [4352/6267 (69%)] Loss: 101.32 Accuracy: 1182.0/4352 (27.16%)\u001b[0m\n",
      "\u001b[34mEpoch 1, Phase train, Images [4416/6267 (70%)] Loss: 98.87 Accuracy: 1199.0/4416 (27.15%)\u001b[0m\n",
      "\u001b[34mEpoch 1, Phase train, Images [4480/6267 (71%)] Loss: 97.62 Accuracy: 1224.0/4480 (27.32%)\u001b[0m\n",
      "\u001b[34mEpoch 1, Phase train, Images [4544/6267 (73%)] Loss: 94.27 Accuracy: 1247.0/4544 (27.44%)\u001b[0m\n",
      "\u001b[34mEpoch 1, Phase train, Images [4608/6267 (74%)] Loss: 105.91 Accuracy: 1258.0/4608 (27.30%)\u001b[0m\n",
      "\u001b[34mEpoch 1, Phase train, Images [4672/6267 (75%)] Loss: 95.38 Accuracy: 1276.0/4672 (27.31%)\u001b[0m\n",
      "\u001b[34mEpoch 1, Phase train, Images [4736/6267 (76%)] Loss: 99.68 Accuracy: 1294.0/4736 (27.32%)\u001b[0m\n",
      "\u001b[34mEpoch 1, Phase train, Images [4800/6267 (77%)] Loss: 96.49 Accuracy: 1317.0/4800 (27.44%)\u001b[0m\n",
      "\u001b[34mEpoch 1, Phase train, Images [4864/6267 (78%)] Loss: 99.51 Accuracy: 1331.0/4864 (27.36%)\u001b[0m\n",
      "\u001b[34mEpoch 1, Phase train, Images [4928/6267 (79%)] Loss: 101.75 Accuracy: 1337.0/4928 (27.13%)\u001b[0m\n",
      "\u001b[34mEpoch 1, Phase train, Images [4992/6267 (80%)] Loss: 95.42 Accuracy: 1356.0/4992 (27.16%)\u001b[0m\n",
      "\u001b[34mEpoch 1, Phase train, Images [5056/6267 (81%)] Loss: 94.62 Accuracy: 1380.0/5056 (27.29%)\u001b[0m\n",
      "\u001b[34mEpoch 1, Phase train, Images [5120/6267 (82%)] Loss: 94.37 Accuracy: 1401.0/5120 (27.36%)\u001b[0m\n",
      "\u001b[34mEpoch 1, Phase train, Images [5184/6267 (83%)] Loss: 94.99 Accuracy: 1420.0/5184 (27.39%)\u001b[0m\n",
      "\u001b[34mEpoch 1, Phase train, Images [5248/6267 (84%)] Loss: 95.81 Accuracy: 1438.0/5248 (27.40%)\u001b[0m\n",
      "\u001b[34mEpoch 1, Phase train, Images [5312/6267 (85%)] Loss: 99.77 Accuracy: 1458.0/5312 (27.45%)\u001b[0m\n",
      "\u001b[34mEpoch 1, Phase train, Images [5376/6267 (86%)] Loss: 96.63 Accuracy: 1479.0/5376 (27.51%)\u001b[0m\n",
      "\u001b[34mEpoch 1, Phase train, Images [5440/6267 (87%)] Loss: 97.24 Accuracy: 1502.0/5440 (27.61%)\u001b[0m\n",
      "\u001b[34mEpoch 1, Phase train, Images [5504/6267 (88%)] Loss: 98.42 Accuracy: 1515.0/5504 (27.53%)\u001b[0m\n",
      "\u001b[34mEpoch 1, Phase train, Images [5568/6267 (89%)] Loss: 95.48 Accuracy: 1529.0/5568 (27.46%)\u001b[0m\n",
      "\u001b[34mEpoch 1, Phase train, Images [5632/6267 (90%)] Loss: 96.81 Accuracy: 1545.0/5632 (27.43%)\u001b[0m\n",
      "\u001b[34mEpoch 1, Phase train, Images [5696/6267 (91%)] Loss: 97.54 Accuracy: 1561.0/5696 (27.41%)\u001b[0m\n",
      "\u001b[34mEpoch 1, Phase train, Images [5760/6267 (92%)] Loss: 100.45 Accuracy: 1577.0/5760 (27.38%)\u001b[0m\n",
      "\u001b[34mEpoch 1, Phase train, Images [5824/6267 (93%)] Loss: 94.38 Accuracy: 1597.0/5824 (27.42%)\u001b[0m\n",
      "\u001b[34mEpoch 1, Phase train, Images [5888/6267 (94%)] Loss: 100.25 Accuracy: 1611.0/5888 (27.36%)\u001b[0m\n",
      "\u001b[34mEpoch 1, Phase train, Images [5952/6267 (95%)] Loss: 104.18 Accuracy: 1626.0/5952 (27.32%)\u001b[0m\n",
      "\u001b[34mEpoch 1, Phase train, Images [6016/6267 (96%)] Loss: 98.61 Accuracy: 1640.0/6016 (27.26%)\u001b[0m\n",
      "\u001b[34mEpoch 1, Phase train, Images [6080/6267 (97%)] Loss: 100.20 Accuracy: 1657.0/6080 (27.25%)\u001b[0m\n",
      "\u001b[34mEpoch 1, Phase train, Images [6144/6267 (98%)] Loss: 97.77 Accuracy: 1675.0/6144 (27.26%)\u001b[0m\n",
      "\u001b[34mEpoch 1, Phase train, Images [6208/6267 (99%)] Loss: 96.07 Accuracy: 1692.0/6208 (27.26%)\u001b[0m\n",
      "\u001b[34mEpoch 1, Phase train, Images [6267/6267 (100%)] Loss: 87.86 Accuracy: 1710.0/6267 (27.29%)\u001b[0m\n",
      "\u001b[34mtrain loss: 0.0140, acc: 0.2729, best loss: 0.0287\u001b[0m\n",
      "\u001b[34mEpoch: 1, Phase: valid\u001b[0m\n",
      "\u001b[34mEpoch 1, Phase valid, Images [64/2086 (3%)] Loss: 93.38 Accuracy: 20.0/64 (31.25%)\u001b[0m\n",
      "\u001b[34mEpoch 1, Phase valid, Images [128/2086 (6%)] Loss: 93.64 Accuracy: 38.0/128 (29.69%)\u001b[0m\n",
      "\u001b[34mEpoch 1, Phase valid, Images [192/2086 (9%)] Loss: 95.41 Accuracy: 58.0/192 (30.21%)\u001b[0m\n",
      "\u001b[34mEpoch 1, Phase valid, Images [256/2086 (12%)] Loss: 96.76 Accuracy: 75.0/256 (29.30%)\u001b[0m\n",
      "\u001b[34mEpoch 1, Phase valid, Images [320/2086 (15%)] Loss: 100.30 Accuracy: 95.0/320 (29.69%)\u001b[0m\n",
      "\u001b[34mEpoch 1, Phase valid, Images [384/2086 (18%)] Loss: 96.67 Accuracy: 113.0/384 (29.43%)\u001b[0m\n",
      "\u001b[34mEpoch 1, Phase valid, Images [448/2086 (21%)] Loss: 106.64 Accuracy: 130.0/448 (29.02%)\u001b[0m\n",
      "\u001b[34mEpoch 1, Phase valid, Images [512/2086 (25%)] Loss: 93.68 Accuracy: 151.0/512 (29.49%)\u001b[0m\n",
      "\u001b[34mEpoch 1, Phase valid, Images [576/2086 (28%)] Loss: 93.04 Accuracy: 170.0/576 (29.51%)\u001b[0m\n",
      "\u001b[34mEpoch 1, Phase valid, Images [640/2086 (31%)] Loss: 94.10 Accuracy: 195.0/640 (30.47%)\u001b[0m\n",
      "\u001b[34mEpoch 1, Phase valid, Images [704/2086 (34%)] Loss: 93.89 Accuracy: 218.0/704 (30.97%)\u001b[0m\n",
      "\u001b[34mEpoch 1, Phase valid, Images [768/2086 (37%)] Loss: 93.73 Accuracy: 235.0/768 (30.60%)\u001b[0m\n",
      "\u001b[34mEpoch 1, Phase valid, Images [832/2086 (40%)] Loss: 91.88 Accuracy: 254.0/832 (30.53%)\u001b[0m\n",
      "\u001b[34mEpoch 1, Phase valid, Images [896/2086 (43%)] Loss: 102.21 Accuracy: 270.0/896 (30.13%)\u001b[0m\n",
      "\u001b[34mEpoch 1, Phase valid, Images [960/2086 (46%)] Loss: 97.74 Accuracy: 284.0/960 (29.58%)\u001b[0m\n",
      "\u001b[34mEpoch 1, Phase valid, Images [1024/2086 (49%)] Loss: 93.07 Accuracy: 303.0/1024 (29.59%)\u001b[0m\n",
      "\u001b[34mEpoch 1, Phase valid, Images [1088/2086 (52%)] Loss: 96.35 Accuracy: 323.0/1088 (29.69%)\u001b[0m\n",
      "\u001b[34mEpoch 1, Phase valid, Images [1152/2086 (55%)] Loss: 94.67 Accuracy: 342.0/1152 (29.69%)\u001b[0m\n",
      "\u001b[34mEpoch 1, Phase valid, Images [1216/2086 (58%)] Loss: 94.46 Accuracy: 363.0/1216 (29.85%)\u001b[0m\n",
      "\u001b[34mEpoch 1, Phase valid, Images [1280/2086 (61%)] Loss: 94.97 Accuracy: 382.0/1280 (29.84%)\u001b[0m\n",
      "\u001b[34mEpoch 1, Phase valid, Images [1344/2086 (64%)] Loss: 103.01 Accuracy: 402.0/1344 (29.91%)\u001b[0m\n",
      "\u001b[34mEpoch 1, Phase valid, Images [1408/2086 (67%)] Loss: 106.19 Accuracy: 418.0/1408 (29.69%)\u001b[0m\n",
      "\u001b[34mEpoch 1, Phase valid, Images [1472/2086 (71%)] Loss: 96.76 Accuracy: 435.0/1472 (29.55%)\u001b[0m\n",
      "\u001b[34mEpoch 1, Phase valid, Images [1536/2086 (74%)] Loss: 94.82 Accuracy: 452.0/1536 (29.43%)\u001b[0m\n",
      "\u001b[34mEpoch 1, Phase valid, Images [1600/2086 (77%)] Loss: 98.72 Accuracy: 468.0/1600 (29.25%)\u001b[0m\n",
      "\u001b[34mEpoch 1, Phase valid, Images [1664/2086 (80%)] Loss: 92.71 Accuracy: 493.0/1664 (29.63%)\u001b[0m\n",
      "\u001b[34mEpoch 1, Phase valid, Images [1728/2086 (83%)] Loss: 97.57 Accuracy: 510.0/1728 (29.51%)\u001b[0m\n",
      "\u001b[34mEpoch 1, Phase valid, Images [1792/2086 (86%)] Loss: 97.48 Accuracy: 530.0/1792 (29.58%)\u001b[0m\n",
      "\u001b[34mEpoch 1, Phase valid, Images [1856/2086 (89%)] Loss: 104.08 Accuracy: 543.0/1856 (29.26%)\u001b[0m\n",
      "\u001b[34mEpoch 1, Phase valid, Images [1920/2086 (92%)] Loss: 92.46 Accuracy: 557.0/1920 (29.01%)\u001b[0m\n",
      "\u001b[34mEpoch 1, Phase valid, Images [1984/2086 (95%)] Loss: 98.31 Accuracy: 580.0/1984 (29.23%)\u001b[0m\n",
      "\u001b[34mEpoch 1, Phase valid, Images [2048/2086 (98%)] Loss: 91.26 Accuracy: 599.0/2048 (29.25%)\u001b[0m\n",
      "\u001b[34mEpoch 1, Phase valid, Images [2086/2086 (100%)] Loss: 55.08 Accuracy: 613.0/2086 (29.39%)\u001b[0m\n",
      "\u001b[34mvalid loss: 0.0264, acc: 0.2939, best loss: 0.0264\u001b[0m\n",
      "\u001b[34mEpoch: 2, Phase: train\u001b[0m\n",
      "\u001b[34mEpoch 2, Phase train, Images [64/6267 (1%)] Loss: 93.07 Accuracy: 21.0/64 (32.81%)\u001b[0m\n",
      "\u001b[34mEpoch 2, Phase train, Images [128/6267 (2%)] Loss: 101.82 Accuracy: 32.0/128 (25.00%)\u001b[0m\n",
      "\u001b[34mEpoch 2, Phase train, Images [192/6267 (3%)] Loss: 98.20 Accuracy: 49.0/192 (25.52%)\u001b[0m\n",
      "\u001b[34mEpoch 2, Phase train, Images [256/6267 (4%)] Loss: 95.00 Accuracy: 67.0/256 (26.17%)\u001b[0m\n",
      "\u001b[34mEpoch 2, Phase train, Images [320/6267 (5%)] Loss: 97.81 Accuracy: 82.0/320 (25.62%)\u001b[0m\n",
      "\u001b[34mEpoch 2, Phase train, Images [384/6267 (6%)] Loss: 100.46 Accuracy: 105.0/384 (27.34%)\u001b[0m\n",
      "\u001b[34mEpoch 2, Phase train, Images [448/6267 (7%)] Loss: 98.20 Accuracy: 122.0/448 (27.23%)\u001b[0m\n",
      "\u001b[34mEpoch 2, Phase train, Images [512/6267 (8%)] Loss: 104.16 Accuracy: 134.0/512 (26.17%)\u001b[0m\n",
      "\u001b[34mEpoch 2, Phase train, Images [576/6267 (9%)] Loss: 99.27 Accuracy: 157.0/576 (27.26%)\u001b[0m\n",
      "\u001b[34mEpoch 2, Phase train, Images [640/6267 (10%)] Loss: 95.70 Accuracy: 178.0/640 (27.81%)\u001b[0m\n",
      "\u001b[34mEpoch 2, Phase train, Images [704/6267 (11%)] Loss: 104.80 Accuracy: 198.0/704 (28.12%)\u001b[0m\n",
      "\u001b[34mEpoch 2, Phase train, Images [768/6267 (12%)] Loss: 94.57 Accuracy: 219.0/768 (28.52%)\u001b[0m\n",
      "\u001b[34mEpoch 2, Phase train, Images [832/6267 (13%)] Loss: 99.42 Accuracy: 234.0/832 (28.12%)\u001b[0m\n",
      "\u001b[34mEpoch 2, Phase train, Images [896/6267 (14%)] Loss: 96.57 Accuracy: 247.0/896 (27.57%)\u001b[0m\n",
      "\u001b[34mEpoch 2, Phase train, Images [960/6267 (15%)] Loss: 96.96 Accuracy: 263.0/960 (27.40%)\u001b[0m\n",
      "\u001b[34mEpoch 2, Phase train, Images [1024/6267 (16%)] Loss: 98.51 Accuracy: 277.0/1024 (27.05%)\u001b[0m\n",
      "\u001b[34mEpoch 2, Phase train, Images [1088/6267 (17%)] Loss: 92.71 Accuracy: 295.0/1088 (27.11%)\u001b[0m\n",
      "\u001b[34mEpoch 2, Phase train, Images [1152/6267 (18%)] Loss: 100.69 Accuracy: 311.0/1152 (27.00%)\u001b[0m\n",
      "\u001b[34mEpoch 2, Phase train, Images [1216/6267 (19%)] Loss: 99.77 Accuracy: 325.0/1216 (26.73%)\u001b[0m\n",
      "\u001b[34mEpoch 2, Phase train, Images [1280/6267 (20%)] Loss: 102.62 Accuracy: 338.0/1280 (26.41%)\u001b[0m\n",
      "\u001b[34mEpoch 2, Phase train, Images [1344/6267 (21%)] Loss: 97.87 Accuracy: 353.0/1344 (26.26%)\u001b[0m\n",
      "\u001b[34mEpoch 2, Phase train, Images [1408/6267 (22%)] Loss: 94.92 Accuracy: 377.0/1408 (26.78%)\u001b[0m\n",
      "\u001b[34mEpoch 2, Phase train, Images [1472/6267 (23%)] Loss: 95.34 Accuracy: 395.0/1472 (26.83%)\u001b[0m\n",
      "\u001b[34mEpoch 2, Phase train, Images [1536/6267 (25%)] Loss: 96.14 Accuracy: 408.0/1536 (26.56%)\u001b[0m\n",
      "\u001b[34mEpoch 2, Phase train, Images [1600/6267 (26%)] Loss: 99.83 Accuracy: 430.0/1600 (26.88%)\u001b[0m\n",
      "\u001b[34mEpoch 2, Phase train, Images [1664/6267 (27%)] Loss: 99.30 Accuracy: 452.0/1664 (27.16%)\u001b[0m\n",
      "\u001b[34mEpoch 2, Phase train, Images [1728/6267 (28%)] Loss: 95.81 Accuracy: 472.0/1728 (27.31%)\u001b[0m\n",
      "\u001b[34mEpoch 2, Phase train, Images [1792/6267 (29%)] Loss: 97.24 Accuracy: 490.0/1792 (27.34%)\u001b[0m\n",
      "\u001b[34mEpoch 2, Phase train, Images [1856/6267 (30%)] Loss: 98.09 Accuracy: 506.0/1856 (27.26%)\u001b[0m\n",
      "\u001b[34mEpoch 2, Phase train, Images [1920/6267 (31%)] Loss: 94.02 Accuracy: 526.0/1920 (27.40%)\u001b[0m\n",
      "\u001b[34mEpoch 2, Phase train, Images [1984/6267 (32%)] Loss: 94.11 Accuracy: 542.0/1984 (27.32%)\u001b[0m\n",
      "\u001b[34mEpoch 2, Phase train, Images [2048/6267 (33%)] Loss: 93.31 Accuracy: 564.0/2048 (27.54%)\u001b[0m\n",
      "\u001b[34mEpoch 2, Phase train, Images [2112/6267 (34%)] Loss: 101.32 Accuracy: 576.0/2112 (27.27%)\u001b[0m\n",
      "\u001b[34mEpoch 2, Phase train, Images [2176/6267 (35%)] Loss: 96.65 Accuracy: 594.0/2176 (27.30%)\u001b[0m\n",
      "\u001b[34mEpoch 2, Phase train, Images [2240/6267 (36%)] Loss: 95.45 Accuracy: 605.0/2240 (27.01%)\u001b[0m\n",
      "\u001b[34mEpoch 2, Phase train, Images [2304/6267 (37%)] Loss: 95.97 Accuracy: 621.0/2304 (26.95%)\u001b[0m\n",
      "\u001b[34mEpoch 2, Phase train, Images [2368/6267 (38%)] Loss: 112.15 Accuracy: 635.0/2368 (26.82%)\u001b[0m\n",
      "\u001b[34mEpoch 2, Phase train, Images [2432/6267 (39%)] Loss: 97.01 Accuracy: 654.0/2432 (26.89%)\u001b[0m\n",
      "\u001b[34mEpoch 2, Phase train, Images [2496/6267 (40%)] Loss: 101.74 Accuracy: 673.0/2496 (26.96%)\u001b[0m\n",
      "\u001b[34mEpoch 2, Phase train, Images [2560/6267 (41%)] Loss: 98.95 Accuracy: 691.0/2560 (26.99%)\u001b[0m\n",
      "\u001b[34mEpoch 2, Phase train, Images [2624/6267 (42%)] Loss: 102.16 Accuracy: 712.0/2624 (27.13%)\u001b[0m\n",
      "\u001b[34mEpoch 2, Phase train, Images [2688/6267 (43%)] Loss: 97.09 Accuracy: 729.0/2688 (27.12%)\u001b[0m\n",
      "\u001b[34mEpoch 2, Phase train, Images [2752/6267 (44%)] Loss: 98.73 Accuracy: 742.0/2752 (26.96%)\u001b[0m\n",
      "\u001b[34mEpoch 2, Phase train, Images [2816/6267 (45%)] Loss: 96.23 Accuracy: 762.0/2816 (27.06%)\u001b[0m\n",
      "\u001b[34mEpoch 2, Phase train, Images [2880/6267 (46%)] Loss: 102.26 Accuracy: 783.0/2880 (27.19%)\u001b[0m\n",
      "\u001b[34mEpoch 2, Phase train, Images [2944/6267 (47%)] Loss: 103.34 Accuracy: 796.0/2944 (27.04%)\u001b[0m\n",
      "\u001b[34mEpoch 2, Phase train, Images [3008/6267 (48%)] Loss: 95.47 Accuracy: 813.0/3008 (27.03%)\u001b[0m\n",
      "\u001b[34mEpoch 2, Phase train, Images [3072/6267 (49%)] Loss: 94.25 Accuracy: 836.0/3072 (27.21%)\u001b[0m\n",
      "\u001b[34mEpoch 2, Phase train, Images [3136/6267 (50%)] Loss: 97.69 Accuracy: 854.0/3136 (27.23%)\u001b[0m\n",
      "\u001b[34mEpoch 2, Phase train, Images [3200/6267 (51%)] Loss: 95.44 Accuracy: 874.0/3200 (27.31%)\u001b[0m\n",
      "\u001b[34mEpoch 2, Phase train, Images [3264/6267 (52%)] Loss: 95.63 Accuracy: 898.0/3264 (27.51%)\u001b[0m\n",
      "\u001b[34mEpoch 2, Phase train, Images [3328/6267 (53%)] Loss: 97.99 Accuracy: 918.0/3328 (27.58%)\u001b[0m\n",
      "\u001b[34mEpoch 2, Phase train, Images [3392/6267 (54%)] Loss: 96.30 Accuracy: 939.0/3392 (27.68%)\u001b[0m\n",
      "\u001b[34mEpoch 2, Phase train, Images [3456/6267 (55%)] Loss: 99.21 Accuracy: 958.0/3456 (27.72%)\u001b[0m\n",
      "\u001b[34mEpoch 2, Phase train, Images [3520/6267 (56%)] Loss: 101.83 Accuracy: 967.0/3520 (27.47%)\u001b[0m\n",
      "\u001b[34mEpoch 2, Phase train, Images [3584/6267 (57%)] Loss: 96.38 Accuracy: 989.0/3584 (27.59%)\u001b[0m\n",
      "\u001b[34mEpoch 2, Phase train, Images [3648/6267 (58%)] Loss: 95.94 Accuracy: 1004.0/3648 (27.52%)\u001b[0m\n",
      "\u001b[34mEpoch 2, Phase train, Images [3712/6267 (59%)] Loss: 102.79 Accuracy: 1019.0/3712 (27.45%)\u001b[0m\n",
      "\u001b[34mEpoch 2, Phase train, Images [3776/6267 (60%)] Loss: 91.11 Accuracy: 1042.0/3776 (27.60%)\u001b[0m\n",
      "\u001b[34mEpoch 2, Phase train, Images [3840/6267 (61%)] Loss: 103.61 Accuracy: 1058.0/3840 (27.55%)\u001b[0m\n",
      "\u001b[34mEpoch 2, Phase train, Images [3904/6267 (62%)] Loss: 99.49 Accuracy: 1077.0/3904 (27.59%)\u001b[0m\n",
      "\u001b[34mEpoch 2, Phase train, Images [3968/6267 (63%)] Loss: 89.88 Accuracy: 1100.0/3968 (27.72%)\u001b[0m\n",
      "\u001b[34mEpoch 2, Phase train, Images [4032/6267 (64%)] Loss: 95.69 Accuracy: 1127.0/4032 (27.95%)\u001b[0m\n",
      "\u001b[34mEpoch 2, Phase train, Images [4096/6267 (65%)] Loss: 96.44 Accuracy: 1142.0/4096 (27.88%)\u001b[0m\n",
      "\u001b[34mEpoch 2, Phase train, Images [4160/6267 (66%)] Loss: 99.66 Accuracy: 1157.0/4160 (27.81%)\u001b[0m\n",
      "\u001b[34mEpoch 2, Phase train, Images [4224/6267 (67%)] Loss: 92.31 Accuracy: 1180.0/4224 (27.94%)\u001b[0m\n",
      "\u001b[34mEpoch 2, Phase train, Images [4288/6267 (68%)] Loss: 94.21 Accuracy: 1202.0/4288 (28.03%)\u001b[0m\n",
      "\u001b[34mEpoch 2, Phase train, Images [4352/6267 (69%)] Loss: 98.45 Accuracy: 1220.0/4352 (28.03%)\u001b[0m\n",
      "\u001b[34mEpoch 2, Phase train, Images [4416/6267 (70%)] Loss: 95.76 Accuracy: 1235.0/4416 (27.97%)\u001b[0m\n",
      "\u001b[34mEpoch 2, Phase train, Images [4480/6267 (71%)] Loss: 99.71 Accuracy: 1252.0/4480 (27.95%)\u001b[0m\n",
      "\u001b[34mEpoch 2, Phase train, Images [4544/6267 (73%)] Loss: 102.89 Accuracy: 1267.0/4544 (27.88%)\u001b[0m\n",
      "\u001b[34mEpoch 2, Phase train, Images [4608/6267 (74%)] Loss: 100.27 Accuracy: 1281.0/4608 (27.80%)\u001b[0m\n",
      "\u001b[34mEpoch 2, Phase train, Images [4672/6267 (75%)] Loss: 100.87 Accuracy: 1297.0/4672 (27.76%)\u001b[0m\n",
      "\u001b[34mEpoch 2, Phase train, Images [4736/6267 (76%)] Loss: 94.77 Accuracy: 1314.0/4736 (27.74%)\u001b[0m\n",
      "\u001b[34mEpoch 2, Phase train, Images [4800/6267 (77%)] Loss: 94.91 Accuracy: 1330.0/4800 (27.71%)\u001b[0m\n",
      "\u001b[34mEpoch 2, Phase train, Images [4864/6267 (78%)] Loss: 94.22 Accuracy: 1347.0/4864 (27.69%)\u001b[0m\n",
      "\u001b[34mEpoch 2, Phase train, Images [4928/6267 (79%)] Loss: 96.48 Accuracy: 1365.0/4928 (27.70%)\u001b[0m\n",
      "\u001b[34mEpoch 2, Phase train, Images [4992/6267 (80%)] Loss: 97.46 Accuracy: 1384.0/4992 (27.72%)\u001b[0m\n",
      "\u001b[34mEpoch 2, Phase train, Images [5056/6267 (81%)] Loss: 96.55 Accuracy: 1402.0/5056 (27.73%)\u001b[0m\n",
      "\u001b[34mEpoch 2, Phase train, Images [5120/6267 (82%)] Loss: 101.86 Accuracy: 1417.0/5120 (27.68%)\u001b[0m\n",
      "\u001b[34mEpoch 2, Phase train, Images [5184/6267 (83%)] Loss: 95.99 Accuracy: 1437.0/5184 (27.72%)\u001b[0m\n",
      "\u001b[34mEpoch 2, Phase train, Images [5248/6267 (84%)] Loss: 100.49 Accuracy: 1453.0/5248 (27.69%)\u001b[0m\n",
      "\u001b[34mEpoch 2, Phase train, Images [5312/6267 (85%)] Loss: 103.30 Accuracy: 1464.0/5312 (27.56%)\u001b[0m\n",
      "\u001b[34mEpoch 2, Phase train, Images [5376/6267 (86%)] Loss: 95.97 Accuracy: 1481.0/5376 (27.55%)\u001b[0m\n",
      "\u001b[34mEpoch 2, Phase train, Images [5440/6267 (87%)] Loss: 97.41 Accuracy: 1501.0/5440 (27.59%)\u001b[0m\n",
      "\u001b[34mEpoch 2, Phase train, Images [5504/6267 (88%)] Loss: 94.80 Accuracy: 1518.0/5504 (27.58%)\u001b[0m\n",
      "\u001b[34mEpoch 2, Phase train, Images [5568/6267 (89%)] Loss: 94.32 Accuracy: 1537.0/5568 (27.60%)\u001b[0m\n",
      "\u001b[34mEpoch 2, Phase train, Images [5632/6267 (90%)] Loss: 96.40 Accuracy: 1559.0/5632 (27.68%)\u001b[0m\n",
      "\u001b[34mEpoch 2, Phase train, Images [5696/6267 (91%)] Loss: 98.80 Accuracy: 1574.0/5696 (27.63%)\u001b[0m\n",
      "\u001b[34mEpoch 2, Phase train, Images [5760/6267 (92%)] Loss: 97.18 Accuracy: 1588.0/5760 (27.57%)\u001b[0m\n",
      "\u001b[34mEpoch 2, Phase train, Images [5824/6267 (93%)] Loss: 91.04 Accuracy: 1611.0/5824 (27.66%)\u001b[0m\n",
      "\u001b[34mEpoch 2, Phase train, Images [5888/6267 (94%)] Loss: 100.25 Accuracy: 1625.0/5888 (27.60%)\u001b[0m\n",
      "\u001b[34mEpoch 2, Phase train, Images [5952/6267 (95%)] Loss: 99.70 Accuracy: 1641.0/5952 (27.57%)\u001b[0m\n",
      "\u001b[34mEpoch 2, Phase train, Images [6016/6267 (96%)] Loss: 94.18 Accuracy: 1664.0/6016 (27.66%)\u001b[0m\n",
      "\u001b[34mEpoch 2, Phase train, Images [6080/6267 (97%)] Loss: 92.74 Accuracy: 1689.0/6080 (27.78%)\u001b[0m\n",
      "\u001b[34mEpoch 2, Phase train, Images [6144/6267 (98%)] Loss: 95.51 Accuracy: 1709.0/6144 (27.82%)\u001b[0m\n",
      "\u001b[34mEpoch 2, Phase train, Images [6208/6267 (99%)] Loss: 101.12 Accuracy: 1727.0/6208 (27.82%)\u001b[0m\n",
      "\u001b[34mEpoch 2, Phase train, Images [6267/6267 (100%)] Loss: 90.09 Accuracy: 1748.0/6267 (27.89%)\u001b[0m\n",
      "\u001b[34mtrain loss: 0.0144, acc: 0.2789, best loss: 0.0264\u001b[0m\n",
      "\u001b[34mEpoch: 2, Phase: valid\u001b[0m\n",
      "\u001b[34mEpoch 2, Phase valid, Images [64/2086 (3%)] Loss: 90.29 Accuracy: 23.0/64 (35.94%)\u001b[0m\n",
      "\u001b[34mEpoch 2, Phase valid, Images [128/2086 (6%)] Loss: 92.13 Accuracy: 43.0/128 (33.59%)\u001b[0m\n",
      "\u001b[34mEpoch 2, Phase valid, Images [192/2086 (9%)] Loss: 93.55 Accuracy: 67.0/192 (34.90%)\u001b[0m\n",
      "\u001b[34mEpoch 2, Phase valid, Images [256/2086 (12%)] Loss: 97.69 Accuracy: 80.0/256 (31.25%)\u001b[0m\n",
      "\u001b[34mEpoch 2, Phase valid, Images [320/2086 (15%)] Loss: 91.56 Accuracy: 102.0/320 (31.88%)\u001b[0m\n",
      "\u001b[34mEpoch 2, Phase valid, Images [384/2086 (18%)] Loss: 94.19 Accuracy: 125.0/384 (32.55%)\u001b[0m\n",
      "\u001b[34mEpoch 2, Phase valid, Images [448/2086 (21%)] Loss: 91.57 Accuracy: 147.0/448 (32.81%)\u001b[0m\n",
      "\u001b[34mEpoch 2, Phase valid, Images [512/2086 (25%)] Loss: 92.77 Accuracy: 172.0/512 (33.59%)\u001b[0m\n",
      "\u001b[34mEpoch 2, Phase valid, Images [576/2086 (28%)] Loss: 89.78 Accuracy: 188.0/576 (32.64%)\u001b[0m\n",
      "\u001b[34mEpoch 2, Phase valid, Images [640/2086 (31%)] Loss: 104.36 Accuracy: 201.0/640 (31.41%)\u001b[0m\n",
      "\u001b[34mEpoch 2, Phase valid, Images [704/2086 (34%)] Loss: 101.40 Accuracy: 217.0/704 (30.82%)\u001b[0m\n",
      "\u001b[34mEpoch 2, Phase valid, Images [768/2086 (37%)] Loss: 95.30 Accuracy: 233.0/768 (30.34%)\u001b[0m\n",
      "\u001b[34mEpoch 2, Phase valid, Images [832/2086 (40%)] Loss: 97.08 Accuracy: 251.0/832 (30.17%)\u001b[0m\n",
      "\u001b[34mEpoch 2, Phase valid, Images [896/2086 (43%)] Loss: 97.16 Accuracy: 272.0/896 (30.36%)\u001b[0m\n",
      "\u001b[34mEpoch 2, Phase valid, Images [960/2086 (46%)] Loss: 92.51 Accuracy: 296.0/960 (30.83%)\u001b[0m\n",
      "\u001b[34mEpoch 2, Phase valid, Images [1024/2086 (49%)] Loss: 90.99 Accuracy: 318.0/1024 (31.05%)\u001b[0m\n",
      "\u001b[34mEpoch 2, Phase valid, Images [1088/2086 (52%)] Loss: 93.34 Accuracy: 338.0/1088 (31.07%)\u001b[0m\n",
      "\u001b[34mEpoch 2, Phase valid, Images [1152/2086 (55%)] Loss: 95.60 Accuracy: 362.0/1152 (31.42%)\u001b[0m\n",
      "\u001b[34mEpoch 2, Phase valid, Images [1216/2086 (58%)] Loss: 86.68 Accuracy: 387.0/1216 (31.83%)\u001b[0m\n",
      "\u001b[34mEpoch 2, Phase valid, Images [1280/2086 (61%)] Loss: 92.43 Accuracy: 407.0/1280 (31.80%)\u001b[0m\n",
      "\u001b[34mEpoch 2, Phase valid, Images [1344/2086 (64%)] Loss: 91.32 Accuracy: 432.0/1344 (32.14%)\u001b[0m\n",
      "\u001b[34mEpoch 2, Phase valid, Images [1408/2086 (67%)] Loss: 92.09 Accuracy: 451.0/1408 (32.03%)\u001b[0m\n",
      "\u001b[34mEpoch 2, Phase valid, Images [1472/2086 (71%)] Loss: 105.05 Accuracy: 465.0/1472 (31.59%)\u001b[0m\n",
      "\u001b[34mEpoch 2, Phase valid, Images [1536/2086 (74%)] Loss: 96.30 Accuracy: 485.0/1536 (31.58%)\u001b[0m\n",
      "\u001b[34mEpoch 2, Phase valid, Images [1600/2086 (77%)] Loss: 94.90 Accuracy: 506.0/1600 (31.62%)\u001b[0m\n",
      "\u001b[34mEpoch 2, Phase valid, Images [1664/2086 (80%)] Loss: 95.27 Accuracy: 524.0/1664 (31.49%)\u001b[0m\n",
      "\u001b[34mEpoch 2, Phase valid, Images [1728/2086 (83%)] Loss: 91.12 Accuracy: 546.0/1728 (31.60%)\u001b[0m\n",
      "\u001b[34mEpoch 2, Phase valid, Images [1792/2086 (86%)] Loss: 97.31 Accuracy: 563.0/1792 (31.42%)\u001b[0m\n",
      "\u001b[34mEpoch 2, Phase valid, Images [1856/2086 (89%)] Loss: 97.25 Accuracy: 586.0/1856 (31.57%)\u001b[0m\n",
      "\u001b[34mEpoch 2, Phase valid, Images [1920/2086 (92%)] Loss: 96.75 Accuracy: 601.0/1920 (31.30%)\u001b[0m\n",
      "\u001b[34mEpoch 2, Phase valid, Images [1984/2086 (95%)] Loss: 100.59 Accuracy: 621.0/1984 (31.30%)\u001b[0m\n",
      "\u001b[34mEpoch 2, Phase valid, Images [2048/2086 (98%)] Loss: 102.86 Accuracy: 640.0/2048 (31.25%)\u001b[0m\n",
      "\u001b[34mEpoch 2, Phase valid, Images [2086/2086 (100%)] Loss: 55.35 Accuracy: 654.0/2086 (31.35%)\u001b[0m\n",
      "\u001b[34mvalid loss: 0.0265, acc: 0.3135, best loss: 0.0264\u001b[0m\n",
      "\u001b[34mBreak : increasing in loss at epoch: 2\u001b[0m\n",
      "\u001b[34mTesting Model\u001b[0m\n",
      "\u001b[34mTest the Model on test split\u001b[0m\n",
      "\u001b[34mTesting Loss: 0.028206851333379745\u001b[0m\n",
      "\u001b[34mTesting Accuracy: 0.2921455938697318\u001b[0m\n",
      "\u001b[34mSaving Model\u001b[0m\n",
      "\u001b[34mDEBUG:__main__:Arguments: Namespace(batch_size=64, data='/opt/ml/input/data/train', learning_rate=0.013286582820793045, model_dir='/opt/ml/model')\u001b[0m\n",
      "\u001b[34mINFO:__main__:HP LR: 0.013286582820793045, Batch Size: 64\u001b[0m\n",
      "\u001b[34mINFO:__main__:Paths: /opt/ml/input/data/train\u001b[0m\n",
      "\u001b[34mDownloading: \"https://download.pytorch.org/models/resnet50-19c8e357.pth\" to /root/.cache/torch/hub/checkpoints/resnet50-19c8e357.pth\u001b[0m\n",
      "\u001b[34m#015  0%|          | 0.00/97.8M [00:00<?, ?B/s]#015  9%|▊         | 8.45M/97.8M [00:00<00:01, 88.6MB/s]#015 18%|█▊        | 17.2M/97.8M [00:00<00:00, 90.6MB/s]#015 27%|██▋       | 26.2M/97.8M [00:00<00:00, 91.9MB/s]#015 36%|███▌      | 35.1M/97.8M [00:00<00:00, 92.6MB/s]#015 45%|████▍     | 43.9M/97.8M [00:00<00:00, 92.5MB/s]#015 54%|█████▍    | 53.0M/97.8M [00:00<00:00, 93.4MB/s]#015 63%|██████▎   | 62.1M/97.8M [00:00<00:00, 94.0MB/s]#015 73%|███████▎  | 71.1M/97.8M [00:00<00:00, 94.3MB/s]#015 82%|████████▏ | 80.2M/97.8M [00:00<00:00, 94.7MB/s]#015 91%|█████████▏| 89.3M/97.8M [00:01<00:00, 94.9MB/s]#015100%|██████████| 97.8M/97.8M [00:01<00:00, 93.7MB/s]\u001b[0m\n",
      "\u001b[34mINFO:__main__:Creating hook\u001b[0m\n",
      "\u001b[34mINFO:__main__:Hook created\u001b[0m\n",
      "\u001b[34mINFO:__main__:Starting Model Training\u001b[0m\n",
      "\u001b[34mINFO:__main__:Epoch: 0, Phase: train\u001b[0m\n",
      "\u001b[34mDEBUG:__main__:Epoch 0, Phase train, Images [64/6267 (1%)] Loss: 103.98 Accuracy: 16.0/64 (25.00%)\u001b[0m\n",
      "\u001b[34mDEBUG:__main__:Epoch 0, Phase train, Images [128/6267 (2%)] Loss: 4941.78 Accuracy: 34.0/128 (26.56%)\u001b[0m\n",
      "\u001b[34mDEBUG:__main__:Epoch 0, Phase train, Images [192/6267 (3%)] Loss: 1139.58 Accuracy: 47.0/192 (24.48%)\u001b[0m\n",
      "\u001b[34mDEBUG:__main__:Epoch 0, Phase train, Images [256/6267 (4%)] Loss: 932.35 Accuracy: 64.0/256 (25.00%)\u001b[0m\n",
      "\u001b[34mDEBUG:__main__:Epoch 0, Phase train, Images [320/6267 (5%)] Loss: 454.30 Accuracy: 78.0/320 (24.38%)\u001b[0m\n",
      "\u001b[34mDEBUG:__main__:Epoch 0, Phase train, Images [384/6267 (6%)] Loss: 427.55 Accuracy: 82.0/384 (21.35%)\u001b[0m\n",
      "\u001b[34mDEBUG:__main__:Epoch 0, Phase train, Images [448/6267 (7%)] Loss: 157.29 Accuracy: 86.0/448 (19.20%)\u001b[0m\n",
      "\u001b[34mDEBUG:__main__:Epoch 0, Phase train, Images [512/6267 (8%)] Loss: 125.80 Accuracy: 102.0/512 (19.92%)\u001b[0m\n",
      "\u001b[34mDEBUG:__main__:Epoch 0, Phase train, Images [576/6267 (9%)] Loss: 98.20 Accuracy: 122.0/576 (21.18%)\u001b[0m\n",
      "\u001b[34mDEBUG:__main__:Epoch 0, Phase train, Images [640/6267 (10%)] Loss: 103.15 Accuracy: 140.0/640 (21.88%)\u001b[0m\n",
      "\u001b[34mDEBUG:__main__:Epoch 0, Phase train, Images [704/6267 (11%)] Loss: 107.95 Accuracy: 152.0/704 (21.59%)\u001b[0m\n",
      "\u001b[34mDEBUG:__main__:Epoch 0, Phase train, Images [768/6267 (12%)] Loss: 101.44 Accuracy: 169.0/768 (22.01%)\u001b[0m\n",
      "\u001b[34mDEBUG:__main__:Epoch 0, Phase train, Images [832/6267 (13%)] Loss: 105.63 Accuracy: 186.0/832 (22.36%)\u001b[0m\n",
      "\u001b[34mDEBUG:__main__:Epoch 0, Phase train, Images [896/6267 (14%)] Loss: 97.00 Accuracy: 208.0/896 (23.21%)\u001b[0m\n",
      "\u001b[34mDEBUG:__main__:Epoch 0, Phase train, Images [960/6267 (15%)] Loss: 106.25 Accuracy: 226.0/960 (23.54%)\u001b[0m\n",
      "\u001b[34mDEBUG:__main__:Epoch 0, Phase train, Images [1024/6267 (16%)] Loss: 107.99 Accuracy: 242.0/1024 (23.63%)\u001b[0m\n",
      "\u001b[34m2023-04-19 06:42:38,955 sagemaker-training-toolkit INFO     Reporting training SUCCESS\u001b[0m\n",
      "\u001b[34mDEBUG:__main__:Epoch 0, Phase train, Images [1088/6267 (17%)] Loss: 105.71 Accuracy: 255.0/1088 (23.44%)\u001b[0m\n",
      "\u001b[34mDEBUG:__main__:Epoch 0, Phase train, Images [1152/6267 (18%)] Loss: 99.89 Accuracy: 278.0/1152 (24.13%)\u001b[0m\n",
      "\u001b[34mDEBUG:__main__:Epoch 0, Phase train, Images [1216/6267 (19%)] Loss: 101.39 Accuracy: 298.0/1216 (24.51%)\u001b[0m\n",
      "\u001b[34mDEBUG:__main__:Epoch 0, Phase train, Images [1280/6267 (20%)] Loss: 103.78 Accuracy: 318.0/1280 (24.84%)\u001b[0m\n",
      "\u001b[34mDEBUG:__main__:Epoch 0, Phase train, Images [1344/6267 (21%)] Loss: 108.17 Accuracy: 331.0/1344 (24.63%)\u001b[0m\n",
      "\u001b[34mDEBUG:__main__:Epoch 0, Phase train, Images [1408/6267 (22%)] Loss: 110.42 Accuracy: 339.0/1408 (24.08%)\u001b[0m\n",
      "\u001b[34mDEBUG:__main__:Epoch 0, Phase train, Images [1472/6267 (23%)] Loss: 104.15 Accuracy: 355.0/1472 (24.12%)\u001b[0m\n",
      "\u001b[34mDEBUG:__main__:Epoch 0, Phase train, Images [1536/6267 (25%)] Loss: 100.24 Accuracy: 376.0/1536 (24.48%)\u001b[0m\n",
      "\u001b[34mDEBUG:__main__:Epoch 0, Phase train, Images [1600/6267 (26%)] Loss: 105.75 Accuracy: 391.0/1600 (24.44%)\u001b[0m\n",
      "\u001b[34mDEBUG:__main__:Epoch 0, Phase train, Images [1664/6267 (27%)] Loss: 106.39 Accuracy: 407.0/1664 (24.46%)\u001b[0m\n",
      "\u001b[34mDEBUG:__main__:Epoch 0, Phase train, Images [1728/6267 (28%)] Loss: 102.18 Accuracy: 426.0/1728 (24.65%)\u001b[0m\n",
      "\u001b[34mDEBUG:__main__:Epoch 0, Phase train, Images [1792/6267 (29%)] Loss: 104.56 Accuracy: 440.0/1792 (24.55%)\u001b[0m\n",
      "\u001b[34mDEBUG:__main__:Epoch 0, Phase train, Images [1856/6267 (30%)] Loss: 105.00 Accuracy: 451.0/1856 (24.30%)\u001b[0m\n",
      "\u001b[34mDEBUG:__main__:Epoch 0, Phase train, Images [1920/6267 (31%)] Loss: 104.43 Accuracy: 465.0/1920 (24.22%)\u001b[0m\n",
      "\u001b[34mDEBUG:__main__:Epoch 0, Phase train, Images [1984/6267 (32%)] Loss: 105.99 Accuracy: 478.0/1984 (24.09%)\u001b[0m\n",
      "\u001b[34mDEBUG:__main__:Epoch 0, Phase train, Images [2048/6267 (33%)] Loss: 102.53 Accuracy: 498.0/2048 (24.32%)\u001b[0m\n",
      "\u001b[34mDEBUG:__main__:Epoch 0, Phase train, Images [2112/6267 (34%)] Loss: 103.21 Accuracy: 514.0/2112 (24.34%)\u001b[0m\n",
      "\u001b[34mDEBUG:__main__:Epoch 0, Phase train, Images [2176/6267 (35%)] Loss: 101.78 Accuracy: 531.0/2176 (24.40%)\u001b[0m\n",
      "\u001b[34mDEBUG:__main__:Epoch 0, Phase train, Images [2240/6267 (36%)] Loss: 97.39 Accuracy: 557.0/2240 (24.87%)\u001b[0m\n",
      "\u001b[34mDEBUG:__main__:Epoch 0, Phase train, Images [2304/6267 (37%)] Loss: 104.16 Accuracy: 578.0/2304 (25.09%)\u001b[0m\n",
      "\u001b[34mDEBUG:__main__:Epoch 0, Phase train, Images [2368/6267 (38%)] Loss: 100.47 Accuracy: 596.0/2368 (25.17%)\u001b[0m\n",
      "\u001b[34mDEBUG:__main__:Epoch 0, Phase train, Images [2432/6267 (39%)] Loss: 102.49 Accuracy: 608.0/2432 (25.00%)\u001b[0m\n",
      "\u001b[34mDEBUG:__main__:Epoch 0, Phase train, Images [2496/6267 (40%)] Loss: 100.67 Accuracy: 622.0/2496 (24.92%)\u001b[0m\n",
      "\u001b[34mDEBUG:__main__:Epoch 0, Phase train, Images [2560/6267 (41%)] Loss: 98.46 Accuracy: 639.0/2560 (24.96%)\u001b[0m\n",
      "\u001b[34mDEBUG:__main__:Epoch 0, Phase train, Images [2624/6267 (42%)] Loss: 103.94 Accuracy: 653.0/2624 (24.89%)\u001b[0m\n",
      "\u001b[34mDEBUG:__main__:Epoch 0, Phase train, Images [2688/6267 (43%)] Loss: 106.63 Accuracy: 662.0/2688 (24.63%)\u001b[0m\n",
      "\u001b[34mDEBUG:__main__:Epoch 0, Phase train, Images [2752/6267 (44%)] Loss: 106.32 Accuracy: 674.0/2752 (24.49%)\u001b[0m\n",
      "\u001b[34mDEBUG:__main__:Epoch 0, Phase train, Images [2816/6267 (45%)] Loss: 102.93 Accuracy: 688.0/2816 (24.43%)\u001b[0m\n",
      "\u001b[34mDEBUG:__main__:Epoch 0, Phase train, Images [2880/6267 (46%)] Loss: 99.92 Accuracy: 707.0/2880 (24.55%)\u001b[0m\n",
      "\u001b[34mDEBUG:__main__:Epoch 0, Phase train, Images [2944/6267 (47%)] Loss: 100.63 Accuracy: 722.0/2944 (24.52%)\u001b[0m\n",
      "\u001b[34mDEBUG:__main__:Epoch 0, Phase train, Images [3008/6267 (48%)] Loss: 103.98 Accuracy: 736.0/3008 (24.47%)\u001b[0m\n",
      "\u001b[34mDEBUG:__main__:Epoch 0, Phase train, Images [3072/6267 (49%)] Loss: 102.32 Accuracy: 749.0/3072 (24.38%)\u001b[0m\n",
      "\u001b[34mDEBUG:__main__:Epoch 0, Phase train, Images [3136/6267 (50%)] Loss: 103.16 Accuracy: 764.0/3136 (24.36%)\u001b[0m\n",
      "\u001b[34mDEBUG:__main__:Epoch 0, Phase train, Images [3200/6267 (51%)] Loss: 100.54 Accuracy: 780.0/3200 (24.38%)\u001b[0m\n",
      "\u001b[34mDEBUG:__main__:Epoch 0, Phase train, Images [3264/6267 (52%)] Loss: 104.56 Accuracy: 793.0/3264 (24.30%)\u001b[0m\n",
      "\u001b[34mDEBUG:__main__:Epoch 0, Phase train, Images [3328/6267 (53%)] Loss: 101.67 Accuracy: 803.0/3328 (24.13%)\u001b[0m\n",
      "\u001b[34mDEBUG:__main__:Epoch 0, Phase train, Images [3392/6267 (54%)] Loss: 106.38 Accuracy: 817.0/3392 (24.09%)\u001b[0m\n",
      "\u001b[34mDEBUG:__main__:Epoch 0, Phase train, Images [3456/6267 (55%)] Loss: 102.40 Accuracy: 834.0/3456 (24.13%)\u001b[0m\n",
      "\u001b[34mDEBUG:__main__:Epoch 0, Phase train, Images [3520/6267 (56%)] Loss: 104.21 Accuracy: 851.0/3520 (24.18%)\u001b[0m\n",
      "\u001b[34mDEBUG:__main__:Epoch 0, Phase train, Images [3584/6267 (57%)] Loss: 102.77 Accuracy: 866.0/3584 (24.16%)\u001b[0m\n",
      "\u001b[34mDEBUG:__main__:Epoch 0, Phase train, Images [3648/6267 (58%)] Loss: 104.93 Accuracy: 874.0/3648 (23.96%)\u001b[0m\n",
      "\u001b[34mDEBUG:__main__:Epoch 0, Phase train, Images [3712/6267 (59%)] Loss: 101.18 Accuracy: 899.0/3712 (24.22%)\u001b[0m\n",
      "\u001b[34mDEBUG:__main__:Epoch 0, Phase train, Images [3776/6267 (60%)] Loss: 103.83 Accuracy: 914.0/3776 (24.21%)\u001b[0m\n",
      "\u001b[34mDEBUG:__main__:Epoch 0, Phase train, Images [3840/6267 (61%)] Loss: 104.35 Accuracy: 927.0/3840 (24.14%)\u001b[0m\n",
      "\u001b[34mDEBUG:__main__:Epoch 0, Phase train, Images [3904/6267 (62%)] Loss: 103.47 Accuracy: 941.0/3904 (24.10%)\u001b[0m\n",
      "\u001b[34mDEBUG:__main__:Epoch 0, Phase train, Images [3968/6267 (63%)] Loss: 100.89 Accuracy: 963.0/3968 (24.27%)\u001b[0m\n",
      "\u001b[34mDEBUG:__main__:Epoch 0, Phase train, Images [4032/6267 (64%)] Loss: 100.50 Accuracy: 978.0/4032 (24.26%)\u001b[0m\n",
      "\u001b[34mDEBUG:__main__:Epoch 0, Phase train, Images [4096/6267 (65%)] Loss: 102.33 Accuracy: 995.0/4096 (24.29%)\u001b[0m\n",
      "\u001b[34mDEBUG:__main__:Epoch 0, Phase train, Images [4160/6267 (66%)] Loss: 103.60 Accuracy: 1009.0/4160 (24.25%)\u001b[0m\n",
      "\u001b[34mDEBUG:__main__:Epoch 0, Phase train, Images [4224/6267 (67%)] Loss: 99.93 Accuracy: 1028.0/4224 (24.34%)\u001b[0m\n",
      "\u001b[34mDEBUG:__main__:Epoch 0, Phase train, Images [4288/6267 (68%)] Loss: 103.38 Accuracy: 1040.0/4288 (24.25%)\u001b[0m\n",
      "\u001b[34mDEBUG:__main__:Epoch 0, Phase train, Images [4352/6267 (69%)] Loss: 102.34 Accuracy: 1055.0/4352 (24.24%)\u001b[0m\n",
      "\u001b[34mDEBUG:__main__:Epoch 0, Phase train, Images [4416/6267 (70%)] Loss: 103.00 Accuracy: 1067.0/4416 (24.16%)\u001b[0m\n",
      "\u001b[34mDEBUG:__main__:Epoch 0, Phase train, Images [4480/6267 (71%)] Loss: 102.75 Accuracy: 1086.0/4480 (24.24%)\u001b[0m\n",
      "\u001b[34mDEBUG:__main__:Epoch 0, Phase train, Images [4544/6267 (73%)] Loss: 101.00 Accuracy: 1101.0/4544 (24.23%)\u001b[0m\n",
      "\u001b[34mDEBUG:__main__:Epoch 0, Phase train, Images [4608/6267 (74%)] Loss: 100.39 Accuracy: 1119.0/4608 (24.28%)\u001b[0m\n",
      "\u001b[34mDEBUG:__main__:Epoch 0, Phase train, Images [4672/6267 (75%)] Loss: 103.43 Accuracy: 1131.0/4672 (24.21%)\u001b[0m\n",
      "\u001b[34mDEBUG:__main__:Epoch 0, Phase train, Images [4736/6267 (76%)] Loss: 103.32 Accuracy: 1142.0/4736 (24.11%)\u001b[0m\n",
      "\u001b[34mDEBUG:__main__:Epoch 0, Phase train, Images [4800/6267 (77%)] Loss: 99.09 Accuracy: 1162.0/4800 (24.21%)\u001b[0m\n",
      "\u001b[34mDEBUG:__main__:Epoch 0, Phase train, Images [4864/6267 (78%)] Loss: 97.14 Accuracy: 1184.0/4864 (24.34%)\u001b[0m\n",
      "\u001b[34mDEBUG:__main__:Epoch 0, Phase train, Images [4928/6267 (79%)] Loss: 101.57 Accuracy: 1204.0/4928 (24.43%)\u001b[0m\n",
      "\u001b[34mDEBUG:__main__:Epoch 0, Phase train, Images [4992/6267 (80%)] Loss: 98.30 Accuracy: 1229.0/4992 (24.62%)\u001b[0m\n",
      "\u001b[34mDEBUG:__main__:Epoch 0, Phase train, Images [5056/6267 (81%)] Loss: 107.79 Accuracy: 1246.0/5056 (24.64%)\u001b[0m\n",
      "\u001b[34mDEBUG:__main__:Epoch 0, Phase train, Images [5120/6267 (82%)] Loss: 107.25 Accuracy: 1259.0/5120 (24.59%)\u001b[0m\n",
      "\u001b[34mDEBUG:__main__:Epoch 0, Phase train, Images [5184/6267 (83%)] Loss: 105.19 Accuracy: 1270.0/5184 (24.50%)\u001b[0m\n",
      "\u001b[34mDEBUG:__main__:Epoch 0, Phase train, Images [5248/6267 (84%)] Loss: 99.37 Accuracy: 1290.0/5248 (24.58%)\u001b[0m\n",
      "\u001b[34mDEBUG:__main__:Epoch 0, Phase train, Images [5312/6267 (85%)] Loss: 102.89 Accuracy: 1304.0/5312 (24.55%)\u001b[0m\n",
      "\u001b[34mDEBUG:__main__:Epoch 0, Phase train, Images [5376/6267 (86%)] Loss: 102.15 Accuracy: 1326.0/5376 (24.67%)\u001b[0m\n",
      "\u001b[34mDEBUG:__main__:Epoch 0, Phase train, Images [5440/6267 (87%)] Loss: 100.97 Accuracy: 1343.0/5440 (24.69%)\u001b[0m\n",
      "\u001b[34mDEBUG:__main__:Epoch 0, Phase train, Images [5504/6267 (88%)] Loss: 99.41 Accuracy: 1360.0/5504 (24.71%)\u001b[0m\n",
      "\u001b[34mDEBUG:__main__:Epoch 0, Phase train, Images [5568/6267 (89%)] Loss: 99.62 Accuracy: 1383.0/5568 (24.84%)\u001b[0m\n",
      "\u001b[34mDEBUG:__main__:Epoch 0, Phase train, Images [5632/6267 (90%)] Loss: 102.27 Accuracy: 1392.0/5632 (24.72%)\u001b[0m\n",
      "\u001b[34mDEBUG:__main__:Epoch 0, Phase train, Images [5696/6267 (91%)] Loss: 101.42 Accuracy: 1411.0/5696 (24.77%)\u001b[0m\n",
      "\u001b[34mDEBUG:__main__:Epoch 0, Phase train, Images [5760/6267 (92%)] Loss: 100.61 Accuracy: 1428.0/5760 (24.79%)\u001b[0m\n",
      "\u001b[34mDEBUG:__main__:Epoch 0, Phase train, Images [5824/6267 (93%)] Loss: 100.67 Accuracy: 1447.0/5824 (24.85%)\u001b[0m\n",
      "\u001b[34mDEBUG:__main__:Epoch 0, Phase train, Images [5888/6267 (94%)] Loss: 103.56 Accuracy: 1462.0/5888 (24.83%)\u001b[0m\n",
      "\u001b[34mDEBUG:__main__:Epoch 0, Phase train, Images [5952/6267 (95%)] Loss: 102.45 Accuracy: 1472.0/5952 (24.73%)\u001b[0m\n",
      "\u001b[34mDEBUG:__main__:Epoch 0, Phase train, Images [6016/6267 (96%)] Loss: 100.05 Accuracy: 1491.0/6016 (24.78%)\u001b[0m\n",
      "\u001b[34mDEBUG:__main__:Epoch 0, Phase train, Images [6080/6267 (97%)] Loss: 97.50 Accuracy: 1513.0/6080 (24.88%)\u001b[0m\n",
      "\u001b[34mDEBUG:__main__:Epoch 0, Phase train, Images [6144/6267 (98%)] Loss: 102.67 Accuracy: 1529.0/6144 (24.89%)\u001b[0m\n",
      "\u001b[34mDEBUG:__main__:Epoch 0, Phase train, Images [6208/6267 (99%)] Loss: 98.83 Accuracy: 1546.0/6208 (24.90%)\u001b[0m\n",
      "\u001b[34mDEBUG:__main__:Epoch 0, Phase train, Images [6267/6267 (100%)] Loss: 90.51 Accuracy: 1561.0/6267 (24.91%)\u001b[0m\n",
      "\u001b[34mINFO:__main__:train loss: 0.0144, acc: 0.2491, best loss: 1000000.0000\u001b[0m\n",
      "\u001b[34mINFO:__main__:Epoch: 0, Phase: valid\u001b[0m\n",
      "\u001b[34mDEBUG:__main__:Epoch 0, Phase valid, Images [64/2086 (3%)] Loss: 99.11 Accuracy: 16.0/64 (25.00%)\u001b[0m\n",
      "\u001b[34mDEBUG:__main__:Epoch 0, Phase valid, Images [128/2086 (6%)] Loss: 102.87 Accuracy: 31.0/128 (24.22%)\u001b[0m\n",
      "\u001b[34mDEBUG:__main__:Epoch 0, Phase valid, Images [192/2086 (9%)] Loss: 99.44 Accuracy: 48.0/192 (25.00%)\u001b[0m\n",
      "\u001b[34mDEBUG:__main__:Epoch 0, Phase valid, Images [256/2086 (12%)] Loss: 101.95 Accuracy: 59.0/256 (23.05%)\u001b[0m\n",
      "\u001b[34mDEBUG:__main__:Epoch 0, Phase valid, Images [320/2086 (15%)] Loss: 99.19 Accuracy: 81.0/320 (25.31%)\u001b[0m\n",
      "\u001b[34mDEBUG:__main__:Epoch 0, Phase valid, Images [384/2086 (18%)] Loss: 99.65 Accuracy: 99.0/384 (25.78%)\u001b[0m\n",
      "\u001b[34mDEBUG:__main__:Epoch 0, Phase valid, Images [448/2086 (21%)] Loss: 99.92 Accuracy: 120.0/448 (26.79%)\u001b[0m\n",
      "\u001b[34mDEBUG:__main__:Epoch 0, Phase valid, Images [512/2086 (25%)] Loss: 100.20 Accuracy: 136.0/512 (26.56%)\u001b[0m\n",
      "\u001b[34mDEBUG:__main__:Epoch 0, Phase valid, Images [576/2086 (28%)] Loss: 100.17 Accuracy: 146.0/576 (25.35%)\u001b[0m\n",
      "\u001b[34mDEBUG:__main__:Epoch 0, Phase valid, Images [640/2086 (31%)] Loss: 101.22 Accuracy: 164.0/640 (25.62%)\u001b[0m\n",
      "\u001b[34mDEBUG:__main__:Epoch 0, Phase valid, Images [704/2086 (34%)] Loss: 99.03 Accuracy: 178.0/704 (25.28%)\u001b[0m\n",
      "\u001b[34mDEBUG:__main__:Epoch 0, Phase valid, Images [768/2086 (37%)] Loss: 100.07 Accuracy: 197.0/768 (25.65%)\u001b[0m\n",
      "\u001b[34mDEBUG:__main__:Epoch 0, Phase valid, Images [832/2086 (40%)] Loss: 99.38 Accuracy: 213.0/832 (25.60%)\u001b[0m\n",
      "\u001b[34mDEBUG:__main__:Epoch 0, Phase valid, Images [896/2086 (43%)] Loss: 101.04 Accuracy: 230.0/896 (25.67%)\u001b[0m\n",
      "\u001b[34mDEBUG:__main__:Epoch 0, Phase valid, Images [960/2086 (46%)] Loss: 98.00 Accuracy: 247.0/960 (25.73%)\u001b[0m\n",
      "\u001b[34mDEBUG:__main__:Epoch 0, Phase valid, Images [1024/2086 (49%)] Loss: 101.92 Accuracy: 265.0/1024 (25.88%)\u001b[0m\n",
      "\u001b[34mDEBUG:__main__:Epoch 0, Phase valid, Images [1088/2086 (52%)] Loss: 101.16 Accuracy: 277.0/1088 (25.46%)\u001b[0m\n",
      "\u001b[34mDEBUG:__main__:Epoch 0, Phase valid, Images [1152/2086 (55%)] Loss: 97.98 Accuracy: 300.0/1152 (26.04%)\u001b[0m\n",
      "\u001b[34mDEBUG:__main__:Epoch 0, Phase valid, Images [1216/2086 (58%)] Loss: 100.22 Accuracy: 319.0/1216 (26.23%)\u001b[0m\n",
      "\u001b[34mDEBUG:__main__:Epoch 0, Phase valid, Images [1280/2086 (61%)] Loss: 103.22 Accuracy: 340.0/1280 (26.56%)\u001b[0m\n",
      "\u001b[34mDEBUG:__main__:Epoch 0, Phase valid, Images [1344/2086 (64%)] Loss: 101.52 Accuracy: 358.0/1344 (26.64%)\u001b[0m\n",
      "\u001b[34mDEBUG:__main__:Epoch 0, Phase valid, Images [1408/2086 (67%)] Loss: 98.64 Accuracy: 380.0/1408 (26.99%)\u001b[0m\n",
      "\u001b[34mDEBUG:__main__:Epoch 0, Phase valid, Images [1472/2086 (71%)] Loss: 98.52 Accuracy: 399.0/1472 (27.11%)\u001b[0m\n",
      "\u001b[34mDEBUG:__main__:Epoch 0, Phase valid, Images [1536/2086 (74%)] Loss: 98.49 Accuracy: 417.0/1536 (27.15%)\u001b[0m\n",
      "\u001b[34mDEBUG:__main__:Epoch 0, Phase valid, Images [1600/2086 (77%)] Loss: 100.24 Accuracy: 431.0/1600 (26.94%)\u001b[0m\n",
      "\u001b[34mDEBUG:__main__:Epoch 0, Phase valid, Images [1664/2086 (80%)] Loss: 102.01 Accuracy: 448.0/1664 (26.92%)\u001b[0m\n",
      "\u001b[34mDEBUG:__main__:Epoch 0, Phase valid, Images [1728/2086 (83%)] Loss: 100.61 Accuracy: 464.0/1728 (26.85%)\u001b[0m\n",
      "\u001b[34mDEBUG:__main__:Epoch 0, Phase valid, Images [1792/2086 (86%)] Loss: 98.79 Accuracy: 483.0/1792 (26.95%)\u001b[0m\n",
      "\u001b[34mDEBUG:__main__:Epoch 0, Phase valid, Images [1856/2086 (89%)] Loss: 98.01 Accuracy: 501.0/1856 (26.99%)\u001b[0m\n",
      "\u001b[34mDEBUG:__main__:Epoch 0, Phase valid, Images [1920/2086 (92%)] Loss: 100.82 Accuracy: 515.0/1920 (26.82%)\u001b[0m\n",
      "\u001b[34mDEBUG:__main__:Epoch 0, Phase valid, Images [1984/2086 (95%)] Loss: 97.79 Accuracy: 535.0/1984 (26.97%)\u001b[0m\n",
      "\u001b[34mDEBUG:__main__:Epoch 0, Phase valid, Images [2048/2086 (98%)] Loss: 102.85 Accuracy: 553.0/2048 (27.00%)\u001b[0m\n",
      "\u001b[34mDEBUG:__main__:Epoch 0, Phase valid, Images [2086/2086 (100%)] Loss: 59.82 Accuracy: 567.0/2086 (27.18%)\u001b[0m\n",
      "\u001b[34mINFO:__main__:valid loss: 0.0287, acc: 0.2718, best loss: 0.0287\u001b[0m\n",
      "\u001b[34mINFO:__main__:Epoch: 1, Phase: train\u001b[0m\n",
      "\u001b[34mDEBUG:__main__:Epoch 1, Phase train, Images [64/6267 (1%)] Loss: 99.35 Accuracy: 20.0/64 (31.25%)\u001b[0m\n",
      "\u001b[34mDEBUG:__main__:Epoch 1, Phase train, Images [128/6267 (2%)] Loss: 101.74 Accuracy: 40.0/128 (31.25%)\u001b[0m\n",
      "\u001b[34mDEBUG:__main__:Epoch 1, Phase train, Images [192/6267 (3%)] Loss: 97.72 Accuracy: 54.0/192 (28.12%)\u001b[0m\n",
      "\u001b[34mDEBUG:__main__:Epoch 1, Phase train, Images [256/6267 (4%)] Loss: 99.56 Accuracy: 69.0/256 (26.95%)\u001b[0m\n",
      "\u001b[34mDEBUG:__main__:Epoch 1, Phase train, Images [320/6267 (5%)] Loss: 101.03 Accuracy: 85.0/320 (26.56%)\u001b[0m\n",
      "\u001b[34mDEBUG:__main__:Epoch 1, Phase train, Images [384/6267 (6%)] Loss: 102.89 Accuracy: 101.0/384 (26.30%)\u001b[0m\n",
      "\u001b[34mDEBUG:__main__:Epoch 1, Phase train, Images [448/6267 (7%)] Loss: 100.13 Accuracy: 117.0/448 (26.12%)\u001b[0m\n",
      "\u001b[34mDEBUG:__main__:Epoch 1, Phase train, Images [512/6267 (8%)] Loss: 98.09 Accuracy: 133.0/512 (25.98%)\u001b[0m\n",
      "\u001b[34mDEBUG:__main__:Epoch 1, Phase train, Images [576/6267 (9%)] Loss: 102.87 Accuracy: 150.0/576 (26.04%)\u001b[0m\n",
      "\u001b[34mDEBUG:__main__:Epoch 1, Phase train, Images [640/6267 (10%)] Loss: 97.99 Accuracy: 170.0/640 (26.56%)\u001b[0m\n",
      "\u001b[34mDEBUG:__main__:Epoch 1, Phase train, Images [704/6267 (11%)] Loss: 100.96 Accuracy: 185.0/704 (26.28%)\u001b[0m\n",
      "\u001b[34mDEBUG:__main__:Epoch 1, Phase train, Images [768/6267 (12%)] Loss: 99.78 Accuracy: 198.0/768 (25.78%)\u001b[0m\n",
      "\u001b[34mDEBUG:__main__:Epoch 1, Phase train, Images [832/6267 (13%)] Loss: 100.56 Accuracy: 217.0/832 (26.08%)\u001b[0m\n",
      "\u001b[34mDEBUG:__main__:Epoch 1, Phase train, Images [896/6267 (14%)] Loss: 97.04 Accuracy: 234.0/896 (26.12%)\u001b[0m\n",
      "\u001b[34mDEBUG:__main__:Epoch 1, Phase train, Images [960/6267 (15%)] Loss: 96.11 Accuracy: 251.0/960 (26.15%)\u001b[0m\n",
      "\u001b[34mDEBUG:__main__:Epoch 1, Phase train, Images [1024/6267 (16%)] Loss: 94.86 Accuracy: 270.0/1024 (26.37%)\u001b[0m\n",
      "\u001b[34mDEBUG:__main__:Epoch 1, Phase train, Images [1088/6267 (17%)] Loss: 103.10 Accuracy: 287.0/1088 (26.38%)\u001b[0m\n",
      "\u001b[34mDEBUG:__main__:Epoch 1, Phase train, Images [1152/6267 (18%)] Loss: 96.86 Accuracy: 310.0/1152 (26.91%)\u001b[0m\n",
      "\u001b[34mDEBUG:__main__:Epoch 1, Phase train, Images [1216/6267 (19%)] Loss: 96.58 Accuracy: 328.0/1216 (26.97%)\u001b[0m\n",
      "\u001b[34mDEBUG:__main__:Epoch 1, Phase train, Images [1280/6267 (20%)] Loss: 98.72 Accuracy: 340.0/1280 (26.56%)\u001b[0m\n",
      "\u001b[34mDEBUG:__main__:Epoch 1, Phase train, Images [1344/6267 (21%)] Loss: 104.38 Accuracy: 353.0/1344 (26.26%)\u001b[0m\n",
      "\u001b[34mDEBUG:__main__:Epoch 1, Phase train, Images [1408/6267 (22%)] Loss: 98.43 Accuracy: 369.0/1408 (26.21%)\u001b[0m\n",
      "\u001b[34mDEBUG:__main__:Epoch 1, Phase train, Images [1472/6267 (23%)] Loss: 94.62 Accuracy: 388.0/1472 (26.36%)\u001b[0m\n",
      "\u001b[34mDEBUG:__main__:Epoch 1, Phase train, Images [1536/6267 (25%)] Loss: 101.19 Accuracy: 409.0/1536 (26.63%)\u001b[0m\n",
      "\u001b[34mDEBUG:__main__:Epoch 1, Phase train, Images [1600/6267 (26%)] Loss: 94.43 Accuracy: 426.0/1600 (26.63%)\u001b[0m\n",
      "\u001b[34mDEBUG:__main__:Epoch 1, Phase train, Images [1664/6267 (27%)] Loss: 98.27 Accuracy: 444.0/1664 (26.68%)\u001b[0m\n",
      "\u001b[34mDEBUG:__main__:Epoch 1, Phase train, Images [1728/6267 (28%)] Loss: 99.98 Accuracy: 460.0/1728 (26.62%)\u001b[0m\n",
      "\u001b[34mDEBUG:__main__:Epoch 1, Phase train, Images [1792/6267 (29%)] Loss: 97.47 Accuracy: 477.0/1792 (26.62%)\u001b[0m\n",
      "\u001b[34mDEBUG:__main__:Epoch 1, Phase train, Images [1856/6267 (30%)] Loss: 97.49 Accuracy: 492.0/1856 (26.51%)\u001b[0m\n",
      "\u001b[34mDEBUG:__main__:Epoch 1, Phase train, Images [1920/6267 (31%)] Loss: 103.12 Accuracy: 510.0/1920 (26.56%)\u001b[0m\n",
      "\u001b[34mDEBUG:__main__:Epoch 1, Phase train, Images [1984/6267 (32%)] Loss: 103.79 Accuracy: 524.0/1984 (26.41%)\u001b[0m\n",
      "\u001b[34mDEBUG:__main__:Epoch 1, Phase train, Images [2048/6267 (33%)] Loss: 95.07 Accuracy: 544.0/2048 (26.56%)\u001b[0m\n",
      "\u001b[34mDEBUG:__main__:Epoch 1, Phase train, Images [2112/6267 (34%)] Loss: 100.70 Accuracy: 557.0/2112 (26.37%)\u001b[0m\n",
      "\u001b[34mDEBUG:__main__:Epoch 1, Phase train, Images [2176/6267 (35%)] Loss: 97.27 Accuracy: 577.0/2176 (26.52%)\u001b[0m\n",
      "\u001b[34mDEBUG:__main__:Epoch 1, Phase train, Images [2240/6267 (36%)] Loss: 97.98 Accuracy: 597.0/2240 (26.65%)\u001b[0m\n",
      "\u001b[34mDEBUG:__main__:Epoch 1, Phase train, Images [2304/6267 (37%)] Loss: 96.02 Accuracy: 618.0/2304 (26.82%)\u001b[0m\n",
      "\u001b[34mDEBUG:__main__:Epoch 1, Phase train, Images [2368/6267 (38%)] Loss: 99.39 Accuracy: 633.0/2368 (26.73%)\u001b[0m\n",
      "\u001b[34mDEBUG:__main__:Epoch 1, Phase train, Images [2432/6267 (39%)] Loss: 105.80 Accuracy: 644.0/2432 (26.48%)\u001b[0m\n",
      "\u001b[34mDEBUG:__main__:Epoch 1, Phase train, Images [2496/6267 (40%)] Loss: 96.36 Accuracy: 663.0/2496 (26.56%)\u001b[0m\n",
      "\u001b[34mDEBUG:__main__:Epoch 1, Phase train, Images [2560/6267 (41%)] Loss: 99.59 Accuracy: 676.0/2560 (26.41%)\u001b[0m\n",
      "\u001b[34mDEBUG:__main__:Epoch 1, Phase train, Images [2624/6267 (42%)] Loss: 93.56 Accuracy: 695.0/2624 (26.49%)\u001b[0m\n",
      "\u001b[34mDEBUG:__main__:Epoch 1, Phase train, Images [2688/6267 (43%)] Loss: 102.01 Accuracy: 710.0/2688 (26.41%)\u001b[0m\n",
      "\u001b[34mDEBUG:__main__:Epoch 1, Phase train, Images [2752/6267 (44%)] Loss: 99.80 Accuracy: 731.0/2752 (26.56%)\u001b[0m\n",
      "\u001b[34mDEBUG:__main__:Epoch 1, Phase train, Images [2816/6267 (45%)] Loss: 101.15 Accuracy: 751.0/2816 (26.67%)\u001b[0m\n",
      "\u001b[34mDEBUG:__main__:Epoch 1, Phase train, Images [2880/6267 (46%)] Loss: 92.63 Accuracy: 772.0/2880 (26.81%)\u001b[0m\n",
      "\u001b[34mDEBUG:__main__:Epoch 1, Phase train, Images [2944/6267 (47%)] Loss: 89.27 Accuracy: 798.0/2944 (27.11%)\u001b[0m\n",
      "\u001b[34mDEBUG:__main__:Epoch 1, Phase train, Images [3008/6267 (48%)] Loss: 98.03 Accuracy: 813.0/3008 (27.03%)\u001b[0m\n",
      "\u001b[34mDEBUG:__main__:Epoch 1, Phase train, Images [3072/6267 (49%)] Loss: 100.80 Accuracy: 824.0/3072 (26.82%)\u001b[0m\n",
      "\u001b[34mDEBUG:__main__:Epoch 1, Phase train, Images [3136/6267 (50%)] Loss: 100.85 Accuracy: 843.0/3136 (26.88%)\u001b[0m\n",
      "\u001b[34mDEBUG:__main__:Epoch 1, Phase train, Images [3200/6267 (51%)] Loss: 93.31 Accuracy: 863.0/3200 (26.97%)\u001b[0m\n",
      "\u001b[34mDEBUG:__main__:Epoch 1, Phase train, Images [3264/6267 (52%)] Loss: 104.23 Accuracy: 883.0/3264 (27.05%)\u001b[0m\n",
      "\u001b[34mDEBUG:__main__:Epoch 1, Phase train, Images [3328/6267 (53%)] Loss: 104.15 Accuracy: 897.0/3328 (26.95%)\u001b[0m\n",
      "\u001b[34mDEBUG:__main__:Epoch 1, Phase train, Images [3392/6267 (54%)] Loss: 104.37 Accuracy: 909.0/3392 (26.80%)\u001b[0m\n",
      "\u001b[34mDEBUG:__main__:Epoch 1, Phase train, Images [3456/6267 (55%)] Loss: 101.06 Accuracy: 932.0/3456 (26.97%)\u001b[0m\n",
      "\u001b[34mDEBUG:__main__:Epoch 1, Phase train, Images [3520/6267 (56%)] Loss: 100.26 Accuracy: 948.0/3520 (26.93%)\u001b[0m\n",
      "\u001b[34mDEBUG:__main__:Epoch 1, Phase train, Images [3584/6267 (57%)] Loss: 100.70 Accuracy: 960.0/3584 (26.79%)\u001b[0m\n",
      "\u001b[34mDEBUG:__main__:Epoch 1, Phase train, Images [3648/6267 (58%)] Loss: 93.99 Accuracy: 983.0/3648 (26.95%)\u001b[0m\n",
      "\u001b[34mDEBUG:__main__:Epoch 1, Phase train, Images [3712/6267 (59%)] Loss: 94.65 Accuracy: 1005.0/3712 (27.07%)\u001b[0m\n",
      "\u001b[34mDEBUG:__main__:Epoch 1, Phase train, Images [3776/6267 (60%)] Loss: 101.03 Accuracy: 1020.0/3776 (27.01%)\u001b[0m\n",
      "\u001b[34mDEBUG:__main__:Epoch 1, Phase train, Images [3840/6267 (61%)] Loss: 98.68 Accuracy: 1036.0/3840 (26.98%)\u001b[0m\n",
      "\u001b[34mDEBUG:__main__:Epoch 1, Phase train, Images [3904/6267 (62%)] Loss: 99.76 Accuracy: 1051.0/3904 (26.92%)\u001b[0m\n",
      "\u001b[34mDEBUG:__main__:Epoch 1, Phase train, Images [3968/6267 (63%)] Loss: 105.14 Accuracy: 1070.0/3968 (26.97%)\u001b[0m\n",
      "\u001b[34mDEBUG:__main__:Epoch 1, Phase train, Images [4032/6267 (64%)] Loss: 95.13 Accuracy: 1099.0/4032 (27.26%)\u001b[0m\n",
      "\u001b[34mDEBUG:__main__:Epoch 1, Phase train, Images [4096/6267 (65%)] Loss: 102.55 Accuracy: 1114.0/4096 (27.20%)\u001b[0m\n",
      "\u001b[34mDEBUG:__main__:Epoch 1, Phase train, Images [4160/6267 (66%)] Loss: 99.39 Accuracy: 1133.0/4160 (27.24%)\u001b[0m\n",
      "\u001b[34mDEBUG:__main__:Epoch 1, Phase train, Images [4224/6267 (67%)] Loss: 100.45 Accuracy: 1147.0/4224 (27.15%)\u001b[0m\n",
      "\u001b[34mDEBUG:__main__:Epoch 1, Phase train, Images [4288/6267 (68%)] Loss: 98.57 Accuracy: 1166.0/4288 (27.19%)\u001b[0m\n",
      "\u001b[34mDEBUG:__main__:Epoch 1, Phase train, Images [4352/6267 (69%)] Loss: 101.32 Accuracy: 1182.0/4352 (27.16%)\u001b[0m\n",
      "\u001b[34mDEBUG:__main__:Epoch 1, Phase train, Images [4416/6267 (70%)] Loss: 98.87 Accuracy: 1199.0/4416 (27.15%)\u001b[0m\n",
      "\u001b[34mDEBUG:__main__:Epoch 1, Phase train, Images [4480/6267 (71%)] Loss: 97.62 Accuracy: 1224.0/4480 (27.32%)\u001b[0m\n",
      "\u001b[34mDEBUG:__main__:Epoch 1, Phase train, Images [4544/6267 (73%)] Loss: 94.27 Accuracy: 1247.0/4544 (27.44%)\u001b[0m\n",
      "\u001b[34mDEBUG:__main__:Epoch 1, Phase train, Images [4608/6267 (74%)] Loss: 105.91 Accuracy: 1258.0/4608 (27.30%)\u001b[0m\n",
      "\u001b[34mDEBUG:__main__:Epoch 1, Phase train, Images [4672/6267 (75%)] Loss: 95.38 Accuracy: 1276.0/4672 (27.31%)\u001b[0m\n",
      "\u001b[34mDEBUG:__main__:Epoch 1, Phase train, Images [4736/6267 (76%)] Loss: 99.68 Accuracy: 1294.0/4736 (27.32%)\u001b[0m\n",
      "\u001b[34mDEBUG:__main__:Epoch 1, Phase train, Images [4800/6267 (77%)] Loss: 96.49 Accuracy: 1317.0/4800 (27.44%)\u001b[0m\n",
      "\u001b[34mDEBUG:__main__:Epoch 1, Phase train, Images [4864/6267 (78%)] Loss: 99.51 Accuracy: 1331.0/4864 (27.36%)\u001b[0m\n",
      "\u001b[34mDEBUG:__main__:Epoch 1, Phase train, Images [4928/6267 (79%)] Loss: 101.75 Accuracy: 1337.0/4928 (27.13%)\u001b[0m\n",
      "\u001b[34mDEBUG:__main__:Epoch 1, Phase train, Images [4992/6267 (80%)] Loss: 95.42 Accuracy: 1356.0/4992 (27.16%)\u001b[0m\n",
      "\u001b[34mDEBUG:__main__:Epoch 1, Phase train, Images [5056/6267 (81%)] Loss: 94.62 Accuracy: 1380.0/5056 (27.29%)\u001b[0m\n",
      "\u001b[34mDEBUG:__main__:Epoch 1, Phase train, Images [5120/6267 (82%)] Loss: 94.37 Accuracy: 1401.0/5120 (27.36%)\u001b[0m\n",
      "\u001b[34mDEBUG:__main__:Epoch 1, Phase train, Images [5184/6267 (83%)] Loss: 94.99 Accuracy: 1420.0/5184 (27.39%)\u001b[0m\n",
      "\u001b[34mDEBUG:__main__:Epoch 1, Phase train, Images [5248/6267 (84%)] Loss: 95.81 Accuracy: 1438.0/5248 (27.40%)\u001b[0m\n",
      "\u001b[34mDEBUG:__main__:Epoch 1, Phase train, Images [5312/6267 (85%)] Loss: 99.77 Accuracy: 1458.0/5312 (27.45%)\u001b[0m\n",
      "\u001b[34mDEBUG:__main__:Epoch 1, Phase train, Images [5376/6267 (86%)] Loss: 96.63 Accuracy: 1479.0/5376 (27.51%)\u001b[0m\n",
      "\u001b[34mDEBUG:__main__:Epoch 1, Phase train, Images [5440/6267 (87%)] Loss: 97.24 Accuracy: 1502.0/5440 (27.61%)\u001b[0m\n",
      "\u001b[34mDEBUG:__main__:Epoch 1, Phase train, Images [5504/6267 (88%)] Loss: 98.42 Accuracy: 1515.0/5504 (27.53%)\u001b[0m\n",
      "\u001b[34mDEBUG:__main__:Epoch 1, Phase train, Images [5568/6267 (89%)] Loss: 95.48 Accuracy: 1529.0/5568 (27.46%)\u001b[0m\n",
      "\u001b[34mDEBUG:__main__:Epoch 1, Phase train, Images [5632/6267 (90%)] Loss: 96.81 Accuracy: 1545.0/5632 (27.43%)\u001b[0m\n",
      "\u001b[34mDEBUG:__main__:Epoch 1, Phase train, Images [5696/6267 (91%)] Loss: 97.54 Accuracy: 1561.0/5696 (27.41%)\u001b[0m\n",
      "\u001b[34mDEBUG:__main__:Epoch 1, Phase train, Images [5760/6267 (92%)] Loss: 100.45 Accuracy: 1577.0/5760 (27.38%)\u001b[0m\n",
      "\u001b[34mDEBUG:__main__:Epoch 1, Phase train, Images [5824/6267 (93%)] Loss: 94.38 Accuracy: 1597.0/5824 (27.42%)\u001b[0m\n",
      "\u001b[34mDEBUG:__main__:Epoch 1, Phase train, Images [5888/6267 (94%)] Loss: 100.25 Accuracy: 1611.0/5888 (27.36%)\u001b[0m\n",
      "\u001b[34mDEBUG:__main__:Epoch 1, Phase train, Images [5952/6267 (95%)] Loss: 104.18 Accuracy: 1626.0/5952 (27.32%)\u001b[0m\n",
      "\u001b[34mDEBUG:__main__:Epoch 1, Phase train, Images [6016/6267 (96%)] Loss: 98.61 Accuracy: 1640.0/6016 (27.26%)\u001b[0m\n",
      "\u001b[34mDEBUG:__main__:Epoch 1, Phase train, Images [6080/6267 (97%)] Loss: 100.20 Accuracy: 1657.0/6080 (27.25%)\u001b[0m\n",
      "\u001b[34mDEBUG:__main__:Epoch 1, Phase train, Images [6144/6267 (98%)] Loss: 97.77 Accuracy: 1675.0/6144 (27.26%)\u001b[0m\n",
      "\u001b[34mDEBUG:__main__:Epoch 1, Phase train, Images [6208/6267 (99%)] Loss: 96.07 Accuracy: 1692.0/6208 (27.26%)\u001b[0m\n",
      "\u001b[34mDEBUG:__main__:Epoch 1, Phase train, Images [6267/6267 (100%)] Loss: 87.86 Accuracy: 1710.0/6267 (27.29%)\u001b[0m\n",
      "\u001b[34mINFO:__main__:train loss: 0.0140, acc: 0.2729, best loss: 0.0287\u001b[0m\n",
      "\u001b[34mINFO:__main__:Epoch: 1, Phase: valid\u001b[0m\n",
      "\u001b[34mDEBUG:__main__:Epoch 1, Phase valid, Images [64/2086 (3%)] Loss: 93.38 Accuracy: 20.0/64 (31.25%)\u001b[0m\n",
      "\u001b[34mDEBUG:__main__:Epoch 1, Phase valid, Images [128/2086 (6%)] Loss: 93.64 Accuracy: 38.0/128 (29.69%)\u001b[0m\n",
      "\u001b[34mDEBUG:__main__:Epoch 1, Phase valid, Images [192/2086 (9%)] Loss: 95.41 Accuracy: 58.0/192 (30.21%)\u001b[0m\n",
      "\u001b[34mDEBUG:__main__:Epoch 1, Phase valid, Images [256/2086 (12%)] Loss: 96.76 Accuracy: 75.0/256 (29.30%)\u001b[0m\n",
      "\u001b[34mDEBUG:__main__:Epoch 1, Phase valid, Images [320/2086 (15%)] Loss: 100.30 Accuracy: 95.0/320 (29.69%)\u001b[0m\n",
      "\u001b[34mDEBUG:__main__:Epoch 1, Phase valid, Images [384/2086 (18%)] Loss: 96.67 Accuracy: 113.0/384 (29.43%)\u001b[0m\n",
      "\u001b[34mDEBUG:__main__:Epoch 1, Phase valid, Images [448/2086 (21%)] Loss: 106.64 Accuracy: 130.0/448 (29.02%)\u001b[0m\n",
      "\u001b[34mDEBUG:__main__:Epoch 1, Phase valid, Images [512/2086 (25%)] Loss: 93.68 Accuracy: 151.0/512 (29.49%)\u001b[0m\n",
      "\u001b[34mDEBUG:__main__:Epoch 1, Phase valid, Images [576/2086 (28%)] Loss: 93.04 Accuracy: 170.0/576 (29.51%)\u001b[0m\n",
      "\u001b[34mDEBUG:__main__:Epoch 1, Phase valid, Images [640/2086 (31%)] Loss: 94.10 Accuracy: 195.0/640 (30.47%)\u001b[0m\n",
      "\u001b[34mDEBUG:__main__:Epoch 1, Phase valid, Images [704/2086 (34%)] Loss: 93.89 Accuracy: 218.0/704 (30.97%)\u001b[0m\n",
      "\u001b[34mDEBUG:__main__:Epoch 1, Phase valid, Images [768/2086 (37%)] Loss: 93.73 Accuracy: 235.0/768 (30.60%)\u001b[0m\n",
      "\u001b[34mDEBUG:__main__:Epoch 1, Phase valid, Images [832/2086 (40%)] Loss: 91.88 Accuracy: 254.0/832 (30.53%)\u001b[0m\n",
      "\u001b[34mDEBUG:__main__:Epoch 1, Phase valid, Images [896/2086 (43%)] Loss: 102.21 Accuracy: 270.0/896 (30.13%)\u001b[0m\n",
      "\u001b[34mDEBUG:__main__:Epoch 1, Phase valid, Images [960/2086 (46%)] Loss: 97.74 Accuracy: 284.0/960 (29.58%)\u001b[0m\n",
      "\u001b[34mDEBUG:__main__:Epoch 1, Phase valid, Images [1024/2086 (49%)] Loss: 93.07 Accuracy: 303.0/1024 (29.59%)\u001b[0m\n",
      "\u001b[34mDEBUG:__main__:Epoch 1, Phase valid, Images [1088/2086 (52%)] Loss: 96.35 Accuracy: 323.0/1088 (29.69%)\u001b[0m\n",
      "\u001b[34mDEBUG:__main__:Epoch 1, Phase valid, Images [1152/2086 (55%)] Loss: 94.67 Accuracy: 342.0/1152 (29.69%)\u001b[0m\n",
      "\u001b[34mDEBUG:__main__:Epoch 1, Phase valid, Images [1216/2086 (58%)] Loss: 94.46 Accuracy: 363.0/1216 (29.85%)\u001b[0m\n",
      "\u001b[34mDEBUG:__main__:Epoch 1, Phase valid, Images [1280/2086 (61%)] Loss: 94.97 Accuracy: 382.0/1280 (29.84%)\u001b[0m\n",
      "\u001b[34mDEBUG:__main__:Epoch 1, Phase valid, Images [1344/2086 (64%)] Loss: 103.01 Accuracy: 402.0/1344 (29.91%)\u001b[0m\n",
      "\u001b[34mDEBUG:__main__:Epoch 1, Phase valid, Images [1408/2086 (67%)] Loss: 106.19 Accuracy: 418.0/1408 (29.69%)\u001b[0m\n",
      "\u001b[34mDEBUG:__main__:Epoch 1, Phase valid, Images [1472/2086 (71%)] Loss: 96.76 Accuracy: 435.0/1472 (29.55%)\u001b[0m\n",
      "\u001b[34mDEBUG:__main__:Epoch 1, Phase valid, Images [1536/2086 (74%)] Loss: 94.82 Accuracy: 452.0/1536 (29.43%)\u001b[0m\n",
      "\u001b[34mDEBUG:__main__:Epoch 1, Phase valid, Images [1600/2086 (77%)] Loss: 98.72 Accuracy: 468.0/1600 (29.25%)\u001b[0m\n",
      "\u001b[34mDEBUG:__main__:Epoch 1, Phase valid, Images [1664/2086 (80%)] Loss: 92.71 Accuracy: 493.0/1664 (29.63%)\u001b[0m\n",
      "\u001b[34mDEBUG:__main__:Epoch 1, Phase valid, Images [1728/2086 (83%)] Loss: 97.57 Accuracy: 510.0/1728 (29.51%)\u001b[0m\n",
      "\u001b[34mDEBUG:__main__:Epoch 1, Phase valid, Images [1792/2086 (86%)] Loss: 97.48 Accuracy: 530.0/1792 (29.58%)\u001b[0m\n",
      "\u001b[34mDEBUG:__main__:Epoch 1, Phase valid, Images [1856/2086 (89%)] Loss: 104.08 Accuracy: 543.0/1856 (29.26%)\u001b[0m\n",
      "\u001b[34mDEBUG:__main__:Epoch 1, Phase valid, Images [1920/2086 (92%)] Loss: 92.46 Accuracy: 557.0/1920 (29.01%)\u001b[0m\n",
      "\u001b[34mDEBUG:__main__:Epoch 1, Phase valid, Images [1984/2086 (95%)] Loss: 98.31 Accuracy: 580.0/1984 (29.23%)\u001b[0m\n",
      "\u001b[34mDEBUG:__main__:Epoch 1, Phase valid, Images [2048/2086 (98%)] Loss: 91.26 Accuracy: 599.0/2048 (29.25%)\u001b[0m\n",
      "\u001b[34mDEBUG:__main__:Epoch 1, Phase valid, Images [2086/2086 (100%)] Loss: 55.08 Accuracy: 613.0/2086 (29.39%)\u001b[0m\n",
      "\u001b[34mINFO:__main__:valid loss: 0.0264, acc: 0.2939, best loss: 0.0264\u001b[0m\n",
      "\u001b[34mINFO:__main__:Epoch: 2, Phase: train\u001b[0m\n",
      "\u001b[34mDEBUG:__main__:Epoch 2, Phase train, Images [64/6267 (1%)] Loss: 93.07 Accuracy: 21.0/64 (32.81%)\u001b[0m\n",
      "\u001b[34mDEBUG:__main__:Epoch 2, Phase train, Images [128/6267 (2%)] Loss: 101.82 Accuracy: 32.0/128 (25.00%)\u001b[0m\n",
      "\u001b[34mDEBUG:__main__:Epoch 2, Phase train, Images [192/6267 (3%)] Loss: 98.20 Accuracy: 49.0/192 (25.52%)\u001b[0m\n",
      "\u001b[34mDEBUG:__main__:Epoch 2, Phase train, Images [256/6267 (4%)] Loss: 95.00 Accuracy: 67.0/256 (26.17%)\u001b[0m\n",
      "\u001b[34mDEBUG:__main__:Epoch 2, Phase train, Images [320/6267 (5%)] Loss: 97.81 Accuracy: 82.0/320 (25.62%)\u001b[0m\n",
      "\u001b[34mDEBUG:__main__:Epoch 2, Phase train, Images [384/6267 (6%)] Loss: 100.46 Accuracy: 105.0/384 (27.34%)\u001b[0m\n",
      "\u001b[34mDEBUG:__main__:Epoch 2, Phase train, Images [448/6267 (7%)] Loss: 98.20 Accuracy: 122.0/448 (27.23%)\u001b[0m\n",
      "\u001b[34mDEBUG:__main__:Epoch 2, Phase train, Images [512/6267 (8%)] Loss: 104.16 Accuracy: 134.0/512 (26.17%)\u001b[0m\n",
      "\u001b[34mDEBUG:__main__:Epoch 2, Phase train, Images [576/6267 (9%)] Loss: 99.27 Accuracy: 157.0/576 (27.26%)\u001b[0m\n",
      "\u001b[34mDEBUG:__main__:Epoch 2, Phase train, Images [640/6267 (10%)] Loss: 95.70 Accuracy: 178.0/640 (27.81%)\u001b[0m\n",
      "\u001b[34mDEBUG:__main__:Epoch 2, Phase train, Images [704/6267 (11%)] Loss: 104.80 Accuracy: 198.0/704 (28.12%)\u001b[0m\n",
      "\u001b[34mDEBUG:__main__:Epoch 2, Phase train, Images [768/6267 (12%)] Loss: 94.57 Accuracy: 219.0/768 (28.52%)\u001b[0m\n",
      "\u001b[34mDEBUG:__main__:Epoch 2, Phase train, Images [832/6267 (13%)] Loss: 99.42 Accuracy: 234.0/832 (28.12%)\u001b[0m\n",
      "\u001b[34mDEBUG:__main__:Epoch 2, Phase train, Images [896/6267 (14%)] Loss: 96.57 Accuracy: 247.0/896 (27.57%)\u001b[0m\n",
      "\u001b[34mDEBUG:__main__:Epoch 2, Phase train, Images [960/6267 (15%)] Loss: 96.96 Accuracy: 263.0/960 (27.40%)\u001b[0m\n",
      "\u001b[34mDEBUG:__main__:Epoch 2, Phase train, Images [1024/6267 (16%)] Loss: 98.51 Accuracy: 277.0/1024 (27.05%)\u001b[0m\n",
      "\u001b[34mDEBUG:__main__:Epoch 2, Phase train, Images [1088/6267 (17%)] Loss: 92.71 Accuracy: 295.0/1088 (27.11%)\u001b[0m\n",
      "\u001b[34mDEBUG:__main__:Epoch 2, Phase train, Images [1152/6267 (18%)] Loss: 100.69 Accuracy: 311.0/1152 (27.00%)\u001b[0m\n",
      "\u001b[34mDEBUG:__main__:Epoch 2, Phase train, Images [1216/6267 (19%)] Loss: 99.77 Accuracy: 325.0/1216 (26.73%)\u001b[0m\n",
      "\u001b[34mDEBUG:__main__:Epoch 2, Phase train, Images [1280/6267 (20%)] Loss: 102.62 Accuracy: 338.0/1280 (26.41%)\u001b[0m\n",
      "\u001b[34mDEBUG:__main__:Epoch 2, Phase train, Images [1344/6267 (21%)] Loss: 97.87 Accuracy: 353.0/1344 (26.26%)\u001b[0m\n",
      "\u001b[34mDEBUG:__main__:Epoch 2, Phase train, Images [1408/6267 (22%)] Loss: 94.92 Accuracy: 377.0/1408 (26.78%)\u001b[0m\n",
      "\u001b[34mDEBUG:__main__:Epoch 2, Phase train, Images [1472/6267 (23%)] Loss: 95.34 Accuracy: 395.0/1472 (26.83%)\u001b[0m\n",
      "\u001b[34mDEBUG:__main__:Epoch 2, Phase train, Images [1536/6267 (25%)] Loss: 96.14 Accuracy: 408.0/1536 (26.56%)\u001b[0m\n",
      "\u001b[34mDEBUG:__main__:Epoch 2, Phase train, Images [1600/6267 (26%)] Loss: 99.83 Accuracy: 430.0/1600 (26.88%)\u001b[0m\n",
      "\u001b[34mDEBUG:__main__:Epoch 2, Phase train, Images [1664/6267 (27%)] Loss: 99.30 Accuracy: 452.0/1664 (27.16%)\u001b[0m\n",
      "\u001b[34mDEBUG:__main__:Epoch 2, Phase train, Images [1728/6267 (28%)] Loss: 95.81 Accuracy: 472.0/1728 (27.31%)\u001b[0m\n",
      "\u001b[34mDEBUG:__main__:Epoch 2, Phase train, Images [1792/6267 (29%)] Loss: 97.24 Accuracy: 490.0/1792 (27.34%)\u001b[0m\n",
      "\u001b[34mDEBUG:__main__:Epoch 2, Phase train, Images [1856/6267 (30%)] Loss: 98.09 Accuracy: 506.0/1856 (27.26%)\u001b[0m\n",
      "\u001b[34mDEBUG:__main__:Epoch 2, Phase train, Images [1920/6267 (31%)] Loss: 94.02 Accuracy: 526.0/1920 (27.40%)\u001b[0m\n",
      "\u001b[34mDEBUG:__main__:Epoch 2, Phase train, Images [1984/6267 (32%)] Loss: 94.11 Accuracy: 542.0/1984 (27.32%)\u001b[0m\n",
      "\u001b[34mDEBUG:__main__:Epoch 2, Phase train, Images [2048/6267 (33%)] Loss: 93.31 Accuracy: 564.0/2048 (27.54%)\u001b[0m\n",
      "\u001b[34mDEBUG:__main__:Epoch 2, Phase train, Images [2112/6267 (34%)] Loss: 101.32 Accuracy: 576.0/2112 (27.27%)\u001b[0m\n",
      "\u001b[34mDEBUG:__main__:Epoch 2, Phase train, Images [2176/6267 (35%)] Loss: 96.65 Accuracy: 594.0/2176 (27.30%)\u001b[0m\n",
      "\u001b[34mDEBUG:__main__:Epoch 2, Phase train, Images [2240/6267 (36%)] Loss: 95.45 Accuracy: 605.0/2240 (27.01%)\u001b[0m\n",
      "\u001b[34mDEBUG:__main__:Epoch 2, Phase train, Images [2304/6267 (37%)] Loss: 95.97 Accuracy: 621.0/2304 (26.95%)\u001b[0m\n",
      "\u001b[34mDEBUG:__main__:Epoch 2, Phase train, Images [2368/6267 (38%)] Loss: 112.15 Accuracy: 635.0/2368 (26.82%)\u001b[0m\n",
      "\u001b[34mDEBUG:__main__:Epoch 2, Phase train, Images [2432/6267 (39%)] Loss: 97.01 Accuracy: 654.0/2432 (26.89%)\u001b[0m\n",
      "\u001b[34mDEBUG:__main__:Epoch 2, Phase train, Images [2496/6267 (40%)] Loss: 101.74 Accuracy: 673.0/2496 (26.96%)\u001b[0m\n",
      "\u001b[34mDEBUG:__main__:Epoch 2, Phase train, Images [2560/6267 (41%)] Loss: 98.95 Accuracy: 691.0/2560 (26.99%)\u001b[0m\n",
      "\u001b[34mDEBUG:__main__:Epoch 2, Phase train, Images [2624/6267 (42%)] Loss: 102.16 Accuracy: 712.0/2624 (27.13%)\u001b[0m\n",
      "\u001b[34mDEBUG:__main__:Epoch 2, Phase train, Images [2688/6267 (43%)] Loss: 97.09 Accuracy: 729.0/2688 (27.12%)\u001b[0m\n",
      "\u001b[34mDEBUG:__main__:Epoch 2, Phase train, Images [2752/6267 (44%)] Loss: 98.73 Accuracy: 742.0/2752 (26.96%)\u001b[0m\n",
      "\u001b[34mDEBUG:__main__:Epoch 2, Phase train, Images [2816/6267 (45%)] Loss: 96.23 Accuracy: 762.0/2816 (27.06%)\u001b[0m\n",
      "\u001b[34mDEBUG:__main__:Epoch 2, Phase train, Images [2880/6267 (46%)] Loss: 102.26 Accuracy: 783.0/2880 (27.19%)\u001b[0m\n",
      "\u001b[34mDEBUG:__main__:Epoch 2, Phase train, Images [2944/6267 (47%)] Loss: 103.34 Accuracy: 796.0/2944 (27.04%)\u001b[0m\n",
      "\u001b[34mDEBUG:__main__:Epoch 2, Phase train, Images [3008/6267 (48%)] Loss: 95.47 Accuracy: 813.0/3008 (27.03%)\u001b[0m\n",
      "\u001b[34mDEBUG:__main__:Epoch 2, Phase train, Images [3072/6267 (49%)] Loss: 94.25 Accuracy: 836.0/3072 (27.21%)\u001b[0m\n",
      "\u001b[34mDEBUG:__main__:Epoch 2, Phase train, Images [3136/6267 (50%)] Loss: 97.69 Accuracy: 854.0/3136 (27.23%)\u001b[0m\n",
      "\u001b[34mDEBUG:__main__:Epoch 2, Phase train, Images [3200/6267 (51%)] Loss: 95.44 Accuracy: 874.0/3200 (27.31%)\u001b[0m\n",
      "\u001b[34mDEBUG:__main__:Epoch 2, Phase train, Images [3264/6267 (52%)] Loss: 95.63 Accuracy: 898.0/3264 (27.51%)\u001b[0m\n",
      "\u001b[34mDEBUG:__main__:Epoch 2, Phase train, Images [3328/6267 (53%)] Loss: 97.99 Accuracy: 918.0/3328 (27.58%)\u001b[0m\n",
      "\u001b[34mDEBUG:__main__:Epoch 2, Phase train, Images [3392/6267 (54%)] Loss: 96.30 Accuracy: 939.0/3392 (27.68%)\u001b[0m\n",
      "\u001b[34mDEBUG:__main__:Epoch 2, Phase train, Images [3456/6267 (55%)] Loss: 99.21 Accuracy: 958.0/3456 (27.72%)\u001b[0m\n",
      "\u001b[34mDEBUG:__main__:Epoch 2, Phase train, Images [3520/6267 (56%)] Loss: 101.83 Accuracy: 967.0/3520 (27.47%)\u001b[0m\n",
      "\u001b[34mDEBUG:__main__:Epoch 2, Phase train, Images [3584/6267 (57%)] Loss: 96.38 Accuracy: 989.0/3584 (27.59%)\u001b[0m\n",
      "\u001b[34mDEBUG:__main__:Epoch 2, Phase train, Images [3648/6267 (58%)] Loss: 95.94 Accuracy: 1004.0/3648 (27.52%)\u001b[0m\n",
      "\u001b[34mDEBUG:__main__:Epoch 2, Phase train, Images [3712/6267 (59%)] Loss: 102.79 Accuracy: 1019.0/3712 (27.45%)\u001b[0m\n",
      "\u001b[34mDEBUG:__main__:Epoch 2, Phase train, Images [3776/6267 (60%)] Loss: 91.11 Accuracy: 1042.0/3776 (27.60%)\u001b[0m\n",
      "\u001b[34mDEBUG:__main__:Epoch 2, Phase train, Images [3840/6267 (61%)] Loss: 103.61 Accuracy: 1058.0/3840 (27.55%)\u001b[0m\n",
      "\u001b[34mDEBUG:__main__:Epoch 2, Phase train, Images [3904/6267 (62%)] Loss: 99.49 Accuracy: 1077.0/3904 (27.59%)\u001b[0m\n",
      "\u001b[34mDEBUG:__main__:Epoch 2, Phase train, Images [3968/6267 (63%)] Loss: 89.88 Accuracy: 1100.0/3968 (27.72%)\u001b[0m\n",
      "\u001b[34mDEBUG:__main__:Epoch 2, Phase train, Images [4032/6267 (64%)] Loss: 95.69 Accuracy: 1127.0/4032 (27.95%)\u001b[0m\n",
      "\u001b[34mDEBUG:__main__:Epoch 2, Phase train, Images [4096/6267 (65%)] Loss: 96.44 Accuracy: 1142.0/4096 (27.88%)\u001b[0m\n",
      "\u001b[34mDEBUG:__main__:Epoch 2, Phase train, Images [4160/6267 (66%)] Loss: 99.66 Accuracy: 1157.0/4160 (27.81%)\u001b[0m\n",
      "\u001b[34mDEBUG:__main__:Epoch 2, Phase train, Images [4224/6267 (67%)] Loss: 92.31 Accuracy: 1180.0/4224 (27.94%)\u001b[0m\n",
      "\u001b[34mDEBUG:__main__:Epoch 2, Phase train, Images [4288/6267 (68%)] Loss: 94.21 Accuracy: 1202.0/4288 (28.03%)\u001b[0m\n",
      "\u001b[34mDEBUG:__main__:Epoch 2, Phase train, Images [4352/6267 (69%)] Loss: 98.45 Accuracy: 1220.0/4352 (28.03%)\u001b[0m\n",
      "\u001b[34mDEBUG:__main__:Epoch 2, Phase train, Images [4416/6267 (70%)] Loss: 95.76 Accuracy: 1235.0/4416 (27.97%)\u001b[0m\n",
      "\u001b[34mDEBUG:__main__:Epoch 2, Phase train, Images [4480/6267 (71%)] Loss: 99.71 Accuracy: 1252.0/4480 (27.95%)\u001b[0m\n",
      "\u001b[34mDEBUG:__main__:Epoch 2, Phase train, Images [4544/6267 (73%)] Loss: 102.89 Accuracy: 1267.0/4544 (27.88%)\u001b[0m\n",
      "\u001b[34mDEBUG:__main__:Epoch 2, Phase train, Images [4608/6267 (74%)] Loss: 100.27 Accuracy: 1281.0/4608 (27.80%)\u001b[0m\n",
      "\u001b[34mDEBUG:__main__:Epoch 2, Phase train, Images [4672/6267 (75%)] Loss: 100.87 Accuracy: 1297.0/4672 (27.76%)\u001b[0m\n",
      "\u001b[34mDEBUG:__main__:Epoch 2, Phase train, Images [4736/6267 (76%)] Loss: 94.77 Accuracy: 1314.0/4736 (27.74%)\u001b[0m\n",
      "\u001b[34mDEBUG:__main__:Epoch 2, Phase train, Images [4800/6267 (77%)] Loss: 94.91 Accuracy: 1330.0/4800 (27.71%)\u001b[0m\n",
      "\u001b[34mDEBUG:__main__:Epoch 2, Phase train, Images [4864/6267 (78%)] Loss: 94.22 Accuracy: 1347.0/4864 (27.69%)\u001b[0m\n",
      "\u001b[34mDEBUG:__main__:Epoch 2, Phase train, Images [4928/6267 (79%)] Loss: 96.48 Accuracy: 1365.0/4928 (27.70%)\u001b[0m\n",
      "\u001b[34mDEBUG:__main__:Epoch 2, Phase train, Images [4992/6267 (80%)] Loss: 97.46 Accuracy: 1384.0/4992 (27.72%)\u001b[0m\n",
      "\u001b[34mDEBUG:__main__:Epoch 2, Phase train, Images [5056/6267 (81%)] Loss: 96.55 Accuracy: 1402.0/5056 (27.73%)\u001b[0m\n",
      "\u001b[34mDEBUG:__main__:Epoch 2, Phase train, Images [5120/6267 (82%)] Loss: 101.86 Accuracy: 1417.0/5120 (27.68%)\u001b[0m\n",
      "\u001b[34mDEBUG:__main__:Epoch 2, Phase train, Images [5184/6267 (83%)] Loss: 95.99 Accuracy: 1437.0/5184 (27.72%)\u001b[0m\n",
      "\u001b[34mDEBUG:__main__:Epoch 2, Phase train, Images [5248/6267 (84%)] Loss: 100.49 Accuracy: 1453.0/5248 (27.69%)\u001b[0m\n",
      "\u001b[34mDEBUG:__main__:Epoch 2, Phase train, Images [5312/6267 (85%)] Loss: 103.30 Accuracy: 1464.0/5312 (27.56%)\u001b[0m\n",
      "\u001b[34mDEBUG:__main__:Epoch 2, Phase train, Images [5376/6267 (86%)] Loss: 95.97 Accuracy: 1481.0/5376 (27.55%)\u001b[0m\n",
      "\u001b[34mDEBUG:__main__:Epoch 2, Phase train, Images [5440/6267 (87%)] Loss: 97.41 Accuracy: 1501.0/5440 (27.59%)\u001b[0m\n",
      "\u001b[34mDEBUG:__main__:Epoch 2, Phase train, Images [5504/6267 (88%)] Loss: 94.80 Accuracy: 1518.0/5504 (27.58%)\u001b[0m\n",
      "\u001b[34mDEBUG:__main__:Epoch 2, Phase train, Images [5568/6267 (89%)] Loss: 94.32 Accuracy: 1537.0/5568 (27.60%)\u001b[0m\n",
      "\u001b[34mDEBUG:__main__:Epoch 2, Phase train, Images [5632/6267 (90%)] Loss: 96.40 Accuracy: 1559.0/5632 (27.68%)\u001b[0m\n",
      "\u001b[34mDEBUG:__main__:Epoch 2, Phase train, Images [5696/6267 (91%)] Loss: 98.80 Accuracy: 1574.0/5696 (27.63%)\u001b[0m\n",
      "\u001b[34mDEBUG:__main__:Epoch 2, Phase train, Images [5760/6267 (92%)] Loss: 97.18 Accuracy: 1588.0/5760 (27.57%)\u001b[0m\n",
      "\u001b[34mDEBUG:__main__:Epoch 2, Phase train, Images [5824/6267 (93%)] Loss: 91.04 Accuracy: 1611.0/5824 (27.66%)\u001b[0m\n",
      "\u001b[34mDEBUG:__main__:Epoch 2, Phase train, Images [5888/6267 (94%)] Loss: 100.25 Accuracy: 1625.0/5888 (27.60%)\u001b[0m\n",
      "\u001b[34mDEBUG:__main__:Epoch 2, Phase train, Images [5952/6267 (95%)] Loss: 99.70 Accuracy: 1641.0/5952 (27.57%)\u001b[0m\n",
      "\u001b[34mDEBUG:__main__:Epoch 2, Phase train, Images [6016/6267 (96%)] Loss: 94.18 Accuracy: 1664.0/6016 (27.66%)\u001b[0m\n",
      "\u001b[34mDEBUG:__main__:Epoch 2, Phase train, Images [6080/6267 (97%)] Loss: 92.74 Accuracy: 1689.0/6080 (27.78%)\u001b[0m\n",
      "\u001b[34mDEBUG:__main__:Epoch 2, Phase train, Images [6144/6267 (98%)] Loss: 95.51 Accuracy: 1709.0/6144 (27.82%)\u001b[0m\n",
      "\u001b[34mDEBUG:__main__:Epoch 2, Phase train, Images [6208/6267 (99%)] Loss: 101.12 Accuracy: 1727.0/6208 (27.82%)\u001b[0m\n",
      "\u001b[34mDEBUG:__main__:Epoch 2, Phase train, Images [6267/6267 (100%)] Loss: 90.09 Accuracy: 1748.0/6267 (27.89%)\u001b[0m\n",
      "\u001b[34mINFO:__main__:train loss: 0.0144, acc: 0.2789, best loss: 0.0264\u001b[0m\n",
      "\u001b[34mINFO:__main__:Epoch: 2, Phase: valid\u001b[0m\n",
      "\u001b[34mDEBUG:__main__:Epoch 2, Phase valid, Images [64/2086 (3%)] Loss: 90.29 Accuracy: 23.0/64 (35.94%)\u001b[0m\n",
      "\u001b[34mDEBUG:__main__:Epoch 2, Phase valid, Images [128/2086 (6%)] Loss: 92.13 Accuracy: 43.0/128 (33.59%)\u001b[0m\n",
      "\u001b[34mDEBUG:__main__:Epoch 2, Phase valid, Images [192/2086 (9%)] Loss: 93.55 Accuracy: 67.0/192 (34.90%)\u001b[0m\n",
      "\u001b[34mDEBUG:__main__:Epoch 2, Phase valid, Images [256/2086 (12%)] Loss: 97.69 Accuracy: 80.0/256 (31.25%)\u001b[0m\n",
      "\u001b[34mDEBUG:__main__:Epoch 2, Phase valid, Images [320/2086 (15%)] Loss: 91.56 Accuracy: 102.0/320 (31.88%)\u001b[0m\n",
      "\u001b[34mDEBUG:__main__:Epoch 2, Phase valid, Images [384/2086 (18%)] Loss: 94.19 Accuracy: 125.0/384 (32.55%)\u001b[0m\n",
      "\u001b[34mDEBUG:__main__:Epoch 2, Phase valid, Images [448/2086 (21%)] Loss: 91.57 Accuracy: 147.0/448 (32.81%)\u001b[0m\n",
      "\u001b[34mDEBUG:__main__:Epoch 2, Phase valid, Images [512/2086 (25%)] Loss: 92.77 Accuracy: 172.0/512 (33.59%)\u001b[0m\n",
      "\u001b[34mDEBUG:__main__:Epoch 2, Phase valid, Images [576/2086 (28%)] Loss: 89.78 Accuracy: 188.0/576 (32.64%)\u001b[0m\n",
      "\u001b[34mDEBUG:__main__:Epoch 2, Phase valid, Images [640/2086 (31%)] Loss: 104.36 Accuracy: 201.0/640 (31.41%)\u001b[0m\n",
      "\u001b[34mDEBUG:__main__:Epoch 2, Phase valid, Images [704/2086 (34%)] Loss: 101.40 Accuracy: 217.0/704 (30.82%)\u001b[0m\n",
      "\u001b[34mDEBUG:__main__:Epoch 2, Phase valid, Images [768/2086 (37%)] Loss: 95.30 Accuracy: 233.0/768 (30.34%)\u001b[0m\n",
      "\u001b[34mDEBUG:__main__:Epoch 2, Phase valid, Images [832/2086 (40%)] Loss: 97.08 Accuracy: 251.0/832 (30.17%)\u001b[0m\n",
      "\u001b[34mDEBUG:__main__:Epoch 2, Phase valid, Images [896/2086 (43%)] Loss: 97.16 Accuracy: 272.0/896 (30.36%)\u001b[0m\n",
      "\u001b[34mDEBUG:__main__:Epoch 2, Phase valid, Images [960/2086 (46%)] Loss: 92.51 Accuracy: 296.0/960 (30.83%)\u001b[0m\n",
      "\u001b[34mDEBUG:__main__:Epoch 2, Phase valid, Images [1024/2086 (49%)] Loss: 90.99 Accuracy: 318.0/1024 (31.05%)\u001b[0m\n",
      "\u001b[34mDEBUG:__main__:Epoch 2, Phase valid, Images [1088/2086 (52%)] Loss: 93.34 Accuracy: 338.0/1088 (31.07%)\u001b[0m\n",
      "\u001b[34mDEBUG:__main__:Epoch 2, Phase valid, Images [1152/2086 (55%)] Loss: 95.60 Accuracy: 362.0/1152 (31.42%)\u001b[0m\n",
      "\u001b[34mDEBUG:__main__:Epoch 2, Phase valid, Images [1216/2086 (58%)] Loss: 86.68 Accuracy: 387.0/1216 (31.83%)\u001b[0m\n",
      "\u001b[34mDEBUG:__main__:Epoch 2, Phase valid, Images [1280/2086 (61%)] Loss: 92.43 Accuracy: 407.0/1280 (31.80%)\u001b[0m\n",
      "\u001b[34mDEBUG:__main__:Epoch 2, Phase valid, Images [1344/2086 (64%)] Loss: 91.32 Accuracy: 432.0/1344 (32.14%)\u001b[0m\n",
      "\u001b[34mDEBUG:__main__:Epoch 2, Phase valid, Images [1408/2086 (67%)] Loss: 92.09 Accuracy: 451.0/1408 (32.03%)\u001b[0m\n",
      "\u001b[34mDEBUG:__main__:Epoch 2, Phase valid, Images [1472/2086 (71%)] Loss: 105.05 Accuracy: 465.0/1472 (31.59%)\u001b[0m\n",
      "\u001b[34mDEBUG:__main__:Epoch 2, Phase valid, Images [1536/2086 (74%)] Loss: 96.30 Accuracy: 485.0/1536 (31.58%)\u001b[0m\n",
      "\u001b[34mDEBUG:__main__:Epoch 2, Phase valid, Images [1600/2086 (77%)] Loss: 94.90 Accuracy: 506.0/1600 (31.62%)\u001b[0m\n",
      "\u001b[34mDEBUG:__main__:Epoch 2, Phase valid, Images [1664/2086 (80%)] Loss: 95.27 Accuracy: 524.0/1664 (31.49%)\u001b[0m\n",
      "\u001b[34mDEBUG:__main__:Epoch 2, Phase valid, Images [1728/2086 (83%)] Loss: 91.12 Accuracy: 546.0/1728 (31.60%)\u001b[0m\n",
      "\u001b[34mDEBUG:__main__:Epoch 2, Phase valid, Images [1792/2086 (86%)] Loss: 97.31 Accuracy: 563.0/1792 (31.42%)\u001b[0m\n",
      "\u001b[34mDEBUG:__main__:Epoch 2, Phase valid, Images [1856/2086 (89%)] Loss: 97.25 Accuracy: 586.0/1856 (31.57%)\u001b[0m\n",
      "\u001b[34mDEBUG:__main__:Epoch 2, Phase valid, Images [1920/2086 (92%)] Loss: 96.75 Accuracy: 601.0/1920 (31.30%)\u001b[0m\n",
      "\u001b[34mDEBUG:__main__:Epoch 2, Phase valid, Images [1984/2086 (95%)] Loss: 100.59 Accuracy: 621.0/1984 (31.30%)\u001b[0m\n",
      "\u001b[34mDEBUG:__main__:Epoch 2, Phase valid, Images [2048/2086 (98%)] Loss: 102.86 Accuracy: 640.0/2048 (31.25%)\u001b[0m\n",
      "\u001b[34mDEBUG:__main__:Epoch 2, Phase valid, Images [2086/2086 (100%)] Loss: 55.35 Accuracy: 654.0/2086 (31.35%)\u001b[0m\n",
      "\u001b[34mINFO:__main__:valid loss: 0.0265, acc: 0.3135, best loss: 0.0264\u001b[0m\n",
      "\u001b[34mINFO:__main__:Break : increasing in loss at epoch: 2\u001b[0m\n",
      "\u001b[34mINFO:__main__:Testing Model\u001b[0m\n",
      "\u001b[34mDEBUG:__main__:Test the Model on test split\u001b[0m\n",
      "\u001b[34m#015  0%|          | 0/33 [00:00<?, ?it/s]#015  3%|▎         | 1/33 [00:06<03:39,  6.85s/it]#015  6%|▌         | 2/33 [00:13<03:33,  6.89s/it]#015  9%|▉         | 3/33 [00:20<03:26,  6.89s/it]#015 12%|█▏        | 4/33 [00:28<03:25,  7.09s/it]#015 15%|█▌        | 5/33 [00:34<03:16,  7.02s/it]#015 18%|█▊        | 6/33 [00:41<03:08,  6.98s/it]#015 21%|██        | 7/33 [00:48<03:00,  6.94s/it]#015 24%|██▍       | 8/33 [00:55<02:53,  6.93s/it]#015 27%|██▋       | 9/33 [01:02<02:45,  6.91s/it]#015 30%|███       | 10/33 [01:09<02:38,  6.90s/it]#015 33%|███▎      | 11/33 [01:16<02:31,  6.90s/it]#015 36%|███▋      | 12/33 [01:23<02:28,  7.06s/it]#015 39%|███▉      | 13/33 [01:30<02:21,  7.08s/it]#015 42%|████▏     | 14/33 [01:37<02:13,  7.03s/it]#015 45%|████▌     | 15/33 [01:44<02:05,  6.99s/it]#015 48%|████▊     | 16/33 [01:51<01:58,  6.96s/it]#015 52%|█████▏    | 17/33 [01:58<01:51,  6.96s/it]#015 55%|█████▍    | 18/33 [02:05<01:44,  6.95s/it]#015 58%|█████▊    | 19/33 [02:12<01:37,  6.93s/it]#015 61%|██████    | 20/33 [02:19<01:30,  6.93s/it]#015 64%|██████▎   | 21/33 [02:27<01:27,  7.25s/it]#015 67%|██████▋   | 22/33 [02:36<01:24,  7.71s/it]#015 70%|██████▉   | 23/33 [02:45<01:23,  8.30s/it]#015 73%|███████▎  | 24/33 [02:55<01:17,  8.65s/it]#015 76%|███████▌  | 25/33 [03:04<01:11,  8.93s/it]#015 79%|███████▉  | 26/33 [03:13<01:01,  8.77s/it]#015 82%|████████▏ | 27/33 [03:20<00:50,  8.35s/it]#015 85%|████████▍ | 28/33 [03:27<00:40,  8.09s/it]#015 88%|████████▊ | 29/33 [03:34<00:30,  7.73s/it]#015 91%|█████████ | 30/33 [03:41<00:22,  7.51s/it]#015 94%|█████████▍| 31/33 [03:48<00:14,  7.32s/it]#015 97%|█████████▋| 32/33 [03:55<00:07,  7.21s/it]#015100%|██████████| 33/33 [03:59<00:00,  6.20s/it]#015100%|██████████| 33/33 [03:59<00:00,  7.26s/it]\u001b[0m\n",
      "\u001b[34mINFO:__main__:Testing Loss: 0.028206851333379745\u001b[0m\n",
      "\u001b[34mINFO:__main__:Testing Accuracy: 0.2921455938697318\u001b[0m\n",
      "\u001b[34mINFO:__main__:Saving Model\u001b[0m\n",
      "\n",
      "2023-04-19 06:43:10 Uploading - Uploading generated training model\n",
      "2023-04-19 06:43:10 Completed - Training job completed\n",
      "Training seconds: 3411\n",
      "Billable seconds: 3411\n"
     ]
    }
   ],
   "source": [
    "estimator.fit(\n",
    "    data_channels,\n",
    "    wait = True\n",
    ")"
   ]
  },
  {
   "cell_type": "code",
   "execution_count": 55,
   "metadata": {
    "tags": []
   },
   "outputs": [
    {
     "name": "stdout",
     "output_type": "stream",
     "text": [
      "Job: pytorch-training-2023-04-19-05-44-57-385\n",
      "Debug path s3://sagemaker-us-east-1-262964915389/pytorch-training-2023-04-19-05-44-57-385/debug-output\n"
     ]
    }
   ],
   "source": [
    "job_name = estimator._current_job_name\n",
    "print('Job:', job_name)\n",
    "debug_artifacts_path = estimator.latest_job_debugger_artifacts_path()\n",
    "print('Debug path', debug_artifacts_path)"
   ]
  },
  {
   "cell_type": "code",
   "execution_count": 56,
   "metadata": {
    "tags": []
   },
   "outputs": [
    {
     "name": "stdout",
     "output_type": "stream",
     "text": [
      "[2023-04-19 06:57:29.472 datascience-1-0-ml-t3-medium-1abf3407f667f989be9d86559395:17 INFO s3_trial.py:42] Loading trial debug-output at path s3://sagemaker-us-east-1-262964915389/pytorch-training-2023-04-19-05-44-57-385/debug-output\n",
      "[2023-04-19 06:57:30.035 datascience-1-0-ml-t3-medium-1abf3407f667f989be9d86559395:17 WARNING s3handler.py:183] Encountered the exception An error occurred while reading from response stream: ('Connection broken: IncompleteRead(0 bytes read, 234 more expected)', IncompleteRead(0 bytes read, 234 more expected)) while reading s3://sagemaker-us-east-1-262964915389/pytorch-training-2023-04-19-05-44-57-385/debug-output/index/000000000/000000000027_worker_0.json . Will retry now\n"
     ]
    }
   ],
   "source": [
    "from smdebug.trials import create_trial\n",
    "from smdebug.core.modes import ModeKeys\n",
    "\n",
    "trial = create_trial(debug_artifacts_path)"
   ]
  },
  {
   "cell_type": "code",
   "execution_count": 61,
   "metadata": {
    "tags": []
   },
   "outputs": [],
   "source": [
    "import matplotlib.pyplot as plt\n",
    "from mpl_toolkits.axes_grid1 import host_subplot\n",
    "\n",
    "def get_data(trial, tname, mode):\n",
    "    tensor = trial.tensor(tname)\n",
    "    steps = tensor.steps(mode=mode)\n",
    "    vals = []\n",
    "    for s in steps:\n",
    "        vals.append(tensor.value(s, mode=mode))\n",
    "    return steps, vals\n",
    "\n",
    "def plot_tensor(trial, tensor_name,filename):\n",
    "\n",
    "    steps_train, vals_train = get_data(trial, tensor_name, mode=ModeKeys.TRAIN)\n",
    "    steps_eval, vals_eval = get_data(trial, tensor_name, mode=ModeKeys.EVAL)\n",
    "\n",
    "    fig = plt.figure(figsize=(10, 7))\n",
    "    host = host_subplot(111)\n",
    "\n",
    "    par = host.twiny()\n",
    "\n",
    "    host.set_xlabel(\"Steps (TRAIN)\")\n",
    "    par.set_xlabel(\"Steps (EVAL)\")\n",
    "    host.set_ylabel(tensor_name)\n",
    "    \n",
    "    (p1,) = host.plot(steps_train, vals_train, label=tensor_name)\n",
    "    (p2,) = par.plot(steps_eval, vals_eval, label=\"val_\" + tensor_name)\n",
    "    leg = plt.legend()\n",
    "\n",
    "    host.xaxis.get_label().set_color(p1.get_color())\n",
    "    leg.texts[0].set_color(p1.get_color())\n",
    "\n",
    "    par.xaxis.get_label().set_color(p2.get_color())\n",
    "    leg.texts[1].set_color(p2.get_color())\n",
    "\n",
    "    plt.ylabel(tensor_name)\n",
    "\n",
    "    plt.show()\n",
    "    fig.savefig(filename)"
   ]
  },
  {
   "cell_type": "code",
   "execution_count": 62,
   "metadata": {
    "tags": []
   },
   "outputs": [
    {
     "data": {
      "image/png": "[encoded data removed]",
      "text/plain": [
       "<Figure size 1000x700 with 1 Axes>"
      ]
     },
     "metadata": {},
     "output_type": "display_data"
    }
   ],
   "source": [
    "plot_tensor(trial, \"CrossEntropyLoss_output_0\",\"CrossEntropyLoss_output_0.png\")"
   ]
  },
  {
   "cell_type": "markdown",
   "metadata": {},
   "source": [
    "### Model Deploying and Querying"
   ]
  },
  {
   "cell_type": "code",
   "execution_count": 65,
   "metadata": {},
   "outputs": [],
   "source": [
    "model_loc=estimator.model_data"
   ]
  },
  {
   "cell_type": "code",
   "execution_count": 78,
   "metadata": {
    "tags": []
   },
   "outputs": [
    {
     "name": "stdout",
     "output_type": "stream",
     "text": [
      "s3://sagemaker-us-east-1-262964915389/pytorch-training-2023-04-19-05-44-57-385/output/model.tar.gz\n"
     ]
    }
   ],
   "source": [
    "print(model_loc)"
   ]
  },
  {
   "cell_type": "code",
   "execution_count": 66,
   "metadata": {},
   "outputs": [],
   "source": [
    "from sagemaker.predictor import Predictor\n",
    "jpeg_serializer = sagemaker.serializers.IdentitySerializer(\"image/jpeg\")\n",
    "json_deserializer = sagemaker.deserializers.JSONDeserializer()\n",
    "\n",
    "class ImagePredictor(Predictor):\n",
    "    def __init__(self, endpoint_name, sagemaker_session):\n",
    "        super(ImagePredictor, self).__init__(\n",
    "            endpoint_name,\n",
    "            sagemaker_session=sagemaker_session,\n",
    "            serializer=jpeg_serializer,\n",
    "            deserializer=json_deserializer\n",
    "        )"
   ]
  },
  {
   "cell_type": "code",
   "execution_count": 88,
   "metadata": {},
   "outputs": [
    {
     "name": "stderr",
     "output_type": "stream",
     "text": [
      "INFO:sagemaker:Creating model with name: pytorch-inference-2023-04-19-09-32-53-905\n",
      "INFO:sagemaker:Creating endpoint-config with name pytorch-inference-2023-04-19-09-32-54-700\n",
      "INFO:sagemaker:Creating endpoint with name pytorch-inference-2023-04-19-09-32-54-700\n"
     ]
    },
    {
     "name": "stdout",
     "output_type": "stream",
     "text": [
      "----!"
     ]
    }
   ],
   "source": [
    "pytorch_model = PyTorchModel(model_data=model_loc, \n",
    "                             role=role, \n",
    "                             entry_point='inference.py',\n",
    "                             py_version='py36',\n",
    "                             framework_version='1.8',\n",
    "                             predictor_cls=ImagePredictor)\n",
    "predictor = pytorch_model.deploy(initial_instance_count=1, instance_type='ml.m5.xlarge')"
   ]
  },
  {
   "cell_type": "code",
   "execution_count": 93,
   "metadata": {
    "tags": []
   },
   "outputs": [
    {
     "name": "stdout",
     "output_type": "stream",
     "text": [
      "pytorch-inference-2023-04-19-09-32-54-700\n"
     ]
    }
   ],
   "source": [
    "print(predictor.endpoint_name)"
   ]
  },
  {
   "cell_type": "code",
   "execution_count": 87,
   "metadata": {
    "tags": []
   },
   "outputs": [
    {
     "name": "stderr",
     "output_type": "stream",
     "text": [
      "INFO:sagemaker:Deleting endpoint configuration with name: pytorch-inference-2023-04-19-09-04-10-528\n",
      "INFO:sagemaker:Deleting endpoint with name: pytorch-inference-2023-04-19-09-04-10-528\n"
     ]
    }
   ],
   "source": [
    "predictor.delete_endpoint()"
   ]
  }
 ],
 "metadata": {
  "availableInstances": [
   {
    "_defaultOrder": 0,
    "_isFastLaunch": true,
    "category": "General purpose",
    "gpuNum": 0,
    "memoryGiB": 4,
    "name": "ml.t3.medium",
    "vcpuNum": 2
   },
   {
    "_defaultOrder": 1,
    "_isFastLaunch": false,
    "category": "General purpose",
    "gpuNum": 0,
    "memoryGiB": 8,
    "name": "ml.t3.large",
    "vcpuNum": 2
   },
   {
    "_defaultOrder": 2,
    "_isFastLaunch": false,
    "category": "General purpose",
    "gpuNum": 0,
    "memoryGiB": 16,
    "name": "ml.t3.xlarge",
    "vcpuNum": 4
   },
   {
    "_defaultOrder": 3,
    "_isFastLaunch": false,
    "category": "General purpose",
    "gpuNum": 0,
    "memoryGiB": 32,
    "name": "ml.t3.2xlarge",
    "vcpuNum": 8
   },
   {
    "_defaultOrder": 4,
    "_isFastLaunch": true,
    "category": "General purpose",
    "gpuNum": 0,
    "memoryGiB": 8,
    "name": "ml.m5.large",
    "vcpuNum": 2
   },
   {
    "_defaultOrder": 5,
    "_isFastLaunch": false,
    "category": "General purpose",
    "gpuNum": 0,
    "memoryGiB": 16,
    "name": "ml.m5.xlarge",
    "vcpuNum": 4
   },
   {
    "_defaultOrder": 6,
    "_isFastLaunch": false,
    "category": "General purpose",
    "gpuNum": 0,
    "memoryGiB": 32,
    "name": "ml.m5.2xlarge",
    "vcpuNum": 8
   },
   {
    "_defaultOrder": 7,
    "_isFastLaunch": false,
    "category": "General purpose",
    "gpuNum": 0,
    "memoryGiB": 64,
    "name": "ml.m5.4xlarge",
    "vcpuNum": 16
   },
   {
    "_defaultOrder": 8,
    "_isFastLaunch": false,
    "category": "General purpose",
    "gpuNum": 0,
    "memoryGiB": 128,
    "name": "ml.m5.8xlarge",
    "vcpuNum": 32
   },
   {
    "_defaultOrder": 9,
    "_isFastLaunch": false,
    "category": "General purpose",
    "gpuNum": 0,
    "memoryGiB": 192,
    "name": "ml.m5.12xlarge",
    "vcpuNum": 48
   },
   {
    "_defaultOrder": 10,
    "_isFastLaunch": false,
    "category": "General purpose",
    "gpuNum": 0,
    "memoryGiB": 256,
    "name": "ml.m5.16xlarge",
    "vcpuNum": 64
   },
   {
    "_defaultOrder": 11,
    "_isFastLaunch": false,
    "category": "General purpose",
    "gpuNum": 0,
    "memoryGiB": 384,
    "name": "ml.m5.24xlarge",
    "vcpuNum": 96
   },
   {
    "_defaultOrder": 12,
    "_isFastLaunch": false,
    "category": "General purpose",
    "gpuNum": 0,
    "memoryGiB": 8,
    "name": "ml.m5d.large",
    "vcpuNum": 2
   },
   {
    "_defaultOrder": 13,
    "_isFastLaunch": false,
    "category": "General purpose",
    "gpuNum": 0,
    "memoryGiB": 16,
    "name": "ml.m5d.xlarge",
    "vcpuNum": 4
   },
   {
    "_defaultOrder": 14,
    "_isFastLaunch": false,
    "category": "General purpose",
    "gpuNum": 0,
    "memoryGiB": 32,
    "name": "ml.m5d.2xlarge",
    "vcpuNum": 8
   },
   {
    "_defaultOrder": 15,
    "_isFastLaunch": false,
    "category": "General purpose",
    "gpuNum": 0,
    "memoryGiB": 64,
    "name": "ml.m5d.4xlarge",
    "vcpuNum": 16
   },
   {
    "_defaultOrder": 16,
    "_isFastLaunch": false,
    "category": "General purpose",
    "gpuNum": 0,
    "memoryGiB": 128,
    "name": "ml.m5d.8xlarge",
    "vcpuNum": 32
   },
   {
    "_defaultOrder": 17,
    "_isFastLaunch": false,
    "category": "General purpose",
    "gpuNum": 0,
    "memoryGiB": 192,
    "name": "ml.m5d.12xlarge",
    "vcpuNum": 48
   },
   {
    "_defaultOrder": 18,
    "_isFastLaunch": false,
    "category": "General purpose",
    "gpuNum": 0,
    "memoryGiB": 256,
    "name": "ml.m5d.16xlarge",
    "vcpuNum": 64
   },
   {
    "_defaultOrder": 19,
    "_isFastLaunch": false,
    "category": "General purpose",
    "gpuNum": 0,
    "memoryGiB": 384,
    "name": "ml.m5d.24xlarge",
    "vcpuNum": 96
   },
   {
    "_defaultOrder": 20,
    "_isFastLaunch": true,
    "category": "Compute optimized",
    "gpuNum": 0,
    "memoryGiB": 4,
    "name": "ml.c5.large",
    "vcpuNum": 2
   },
   {
    "_defaultOrder": 21,
    "_isFastLaunch": false,
    "category": "Compute optimized",
    "gpuNum": 0,
    "memoryGiB": 8,
    "name": "ml.c5.xlarge",
    "vcpuNum": 4
   },
   {
    "_defaultOrder": 22,
    "_isFastLaunch": false,
    "category": "Compute optimized",
    "gpuNum": 0,
    "memoryGiB": 16,
    "name": "ml.c5.2xlarge",
    "vcpuNum": 8
   },
   {
    "_defaultOrder": 23,
    "_isFastLaunch": false,
    "category": "Compute optimized",
    "gpuNum": 0,
    "memoryGiB": 32,
    "name": "ml.c5.4xlarge",
    "vcpuNum": 16
   },
   {
    "_defaultOrder": 24,
    "_isFastLaunch": false,
    "category": "Compute optimized",
    "gpuNum": 0,
    "memoryGiB": 72,
    "name": "ml.c5.9xlarge",
    "vcpuNum": 36
   },
   {
    "_defaultOrder": 25,
    "_isFastLaunch": false,
    "category": "Compute optimized",
    "gpuNum": 0,
    "memoryGiB": 96,
    "name": "ml.c5.12xlarge",
    "vcpuNum": 48
   },
   {
    "_defaultOrder": 26,
    "_isFastLaunch": false,
    "category": "Compute optimized",
    "gpuNum": 0,
    "memoryGiB": 144,
    "name": "ml.c5.18xlarge",
    "vcpuNum": 72
   },
   {
    "_defaultOrder": 27,
    "_isFastLaunch": false,
    "category": "Compute optimized",
    "gpuNum": 0,
    "memoryGiB": 192,
    "name": "ml.c5.24xlarge",
    "vcpuNum": 96
   },
   {
    "_defaultOrder": 28,
    "_isFastLaunch": true,
    "category": "Accelerated computing",
    "gpuNum": 1,
    "memoryGiB": 16,
    "name": "ml.g4dn.xlarge",
    "vcpuNum": 4
   },
   {
    "_defaultOrder": 29,
    "_isFastLaunch": false,
    "category": "Accelerated computing",
    "gpuNum": 1,
    "memoryGiB": 32,
    "name": "ml.g4dn.2xlarge",
    "vcpuNum": 8
   },
   {
    "_defaultOrder": 30,
    "_isFastLaunch": false,
    "category": "Accelerated computing",
    "gpuNum": 1,
    "memoryGiB": 64,
    "name": "ml.g4dn.4xlarge",
    "vcpuNum": 16
   },
   {
    "_defaultOrder": 31,
    "_isFastLaunch": false,
    "category": "Accelerated computing",
    "gpuNum": 1,
    "memoryGiB": 128,
    "name": "ml.g4dn.8xlarge",
    "vcpuNum": 32
   },
   {
    "_defaultOrder": 32,
    "_isFastLaunch": false,
    "category": "Accelerated computing",
    "gpuNum": 4,
    "memoryGiB": 192,
    "name": "ml.g4dn.12xlarge",
    "vcpuNum": 48
   },
   {
    "_defaultOrder": 33,
    "_isFastLaunch": false,
    "category": "Accelerated computing",
    "gpuNum": 1,
    "memoryGiB": 256,
    "name": "ml.g4dn.16xlarge",
    "vcpuNum": 64
   },
   {
    "_defaultOrder": 34,
    "_isFastLaunch": false,
    "category": "Accelerated computing",
    "gpuNum": 1,
    "memoryGiB": 61,
    "name": "ml.p3.2xlarge",
    "vcpuNum": 8
   },
   {
    "_defaultOrder": 35,
    "_isFastLaunch": false,
    "category": "Accelerated computing",
    "gpuNum": 4,
    "memoryGiB": 244,
    "name": "ml.p3.8xlarge",
    "vcpuNum": 32
   },
   {
    "_defaultOrder": 36,
    "_isFastLaunch": false,
    "category": "Accelerated computing",
    "gpuNum": 8,
    "memoryGiB": 488,
    "name": "ml.p3.16xlarge",
    "vcpuNum": 64
   },
   {
    "_defaultOrder": 37,
    "_isFastLaunch": false,
    "category": "Accelerated computing",
    "gpuNum": 8,
    "memoryGiB": 768,
    "name": "ml.p3dn.24xlarge",
    "vcpuNum": 96
   },
   {
    "_defaultOrder": 38,
    "_isFastLaunch": false,
    "category": "Memory Optimized",
    "gpuNum": 0,
    "memoryGiB": 16,
    "name": "ml.r5.large",
    "vcpuNum": 2
   },
   {
    "_defaultOrder": 39,
    "_isFastLaunch": false,
    "category": "Memory Optimized",
    "gpuNum": 0,
    "memoryGiB": 32,
    "name": "ml.r5.xlarge",
    "vcpuNum": 4
   },
   {
    "_defaultOrder": 40,
    "_isFastLaunch": false,
    "category": "Memory Optimized",
    "gpuNum": 0,
    "memoryGiB": 64,
    "name": "ml.r5.2xlarge",
    "vcpuNum": 8
   },
   {
    "_defaultOrder": 41,
    "_isFastLaunch": false,
    "category": "Memory Optimized",
    "gpuNum": 0,
    "memoryGiB": 128,
    "name": "ml.r5.4xlarge",
    "vcpuNum": 16
   },
   {
    "_defaultOrder": 42,
    "_isFastLaunch": false,
    "category": "Memory Optimized",
    "gpuNum": 0,
    "memoryGiB": 256,
    "name": "ml.r5.8xlarge",
    "vcpuNum": 32
   },
   {
    "_defaultOrder": 43,
    "_isFastLaunch": false,
    "category": "Memory Optimized",
    "gpuNum": 0,
    "memoryGiB": 384,
    "name": "ml.r5.12xlarge",
    "vcpuNum": 48
   },
   {
    "_defaultOrder": 44,
    "_isFastLaunch": false,
    "category": "Memory Optimized",
    "gpuNum": 0,
    "memoryGiB": 512,
    "name": "ml.r5.16xlarge",
    "vcpuNum": 64
   },
   {
    "_defaultOrder": 45,
    "_isFastLaunch": false,
    "category": "Memory Optimized",
    "gpuNum": 0,
    "memoryGiB": 768,
    "name": "ml.r5.24xlarge",
    "vcpuNum": 96
   },
   {
    "_defaultOrder": 46,
    "_isFastLaunch": false,
    "category": "Accelerated computing",
    "gpuNum": 1,
    "memoryGiB": 16,
    "name": "ml.g5.xlarge",
    "vcpuNum": 4
   },
   {
    "_defaultOrder": 47,
    "_isFastLaunch": false,
    "category": "Accelerated computing",
    "gpuNum": 1,
    "memoryGiB": 32,
    "name": "ml.g5.2xlarge",
    "vcpuNum": 8
   },
   {
    "_defaultOrder": 48,
    "_isFastLaunch": false,
    "category": "Accelerated computing",
    "gpuNum": 1,
    "memoryGiB": 64,
    "name": "ml.g5.4xlarge",
    "vcpuNum": 16
   },
   {
    "_defaultOrder": 49,
    "_isFastLaunch": false,
    "category": "Accelerated computing",
    "gpuNum": 1,
    "memoryGiB": 128,
    "name": "ml.g5.8xlarge",
    "vcpuNum": 32
   },
   {
    "_defaultOrder": 50,
    "_isFastLaunch": false,
    "category": "Accelerated computing",
    "gpuNum": 1,
    "memoryGiB": 256,
    "name": "ml.g5.16xlarge",
    "vcpuNum": 64
   },
   {
    "_defaultOrder": 51,
    "_isFastLaunch": false,
    "category": "Accelerated computing",
    "gpuNum": 4,
    "memoryGiB": 192,
    "name": "ml.g5.12xlarge",
    "vcpuNum": 48
   },
   {
    "_defaultOrder": 52,
    "_isFastLaunch": false,
    "category": "Accelerated computing",
    "gpuNum": 4,
    "memoryGiB": 384,
    "name": "ml.g5.24xlarge",
    "vcpuNum": 96
   },
   {
    "_defaultOrder": 53,
    "_isFastLaunch": false,
    "category": "Accelerated computing",
    "gpuNum": 8,
    "memoryGiB": 768,
    "name": "ml.g5.48xlarge",
    "vcpuNum": 192
   }
  ],
  "instance_type": "ml.t3.medium",
  "kernelspec": {
   "display_name": "Python 3 (Data Science)",
   "language": "python",
   "name": "python3__SAGEMAKER_INTERNAL__arn:aws:sagemaker:us-east-1:081325390199:image/datascience-1.0"
  },
  "language_info": {
   "codemirror_mode": {
    "name": "ipython",
    "version": 3
   },
   "file_extension": ".py",
   "mimetype": "text/x-python",
   "name": "python",
   "nbconvert_exporter": "python",
   "pygments_lexer": "ipython3",
   "version": "3.7.10"
  }
 },
 "nbformat": 4,
 "nbformat_minor": 4
}
